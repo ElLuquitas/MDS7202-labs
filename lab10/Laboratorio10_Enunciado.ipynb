{
 "cells": [
  {
   "cell_type": "markdown",
   "metadata": {
    "cell_id": "6db569e7c5d04f9e9b48cb129df732fc",
    "deepnote_cell_type": "markdown",
    "id": "XUZ1dFPHzAHl"
   },
   "source": [
    "<h1><center>Laboratorio 10: Interpretabilidad 🤖</center></h1>\n",
    "\n",
    "<center><strong>MDS7202: Laboratorio de Programación Científica para Ciencia de Datos - Primavera 2024</strong></center>"
   ]
  },
  {
   "cell_type": "markdown",
   "metadata": {
    "cell_id": "737a4540885f41acb34b9863a968b907",
    "deepnote_cell_type": "markdown",
    "id": "UD8X1uhGzAHq"
   },
   "source": [
    "### **Cuerpo Docente:**\n",
    "\n",
    "- Profesores: Ignacio Meza, Sebastián Tinoco\n",
    "- Auxiliar: Eduardo Moya\n",
    "- Ayudantes: Nicolás Ojeda, Melanie Peña, Valentina Rojas"
   ]
  },
  {
   "cell_type": "markdown",
   "metadata": {
    "cell_id": "e4a6f26138654eb49ee963fb4c7ecf46",
    "deepnote_cell_type": "markdown",
    "id": "tXflExjqzAHr"
   },
   "source": [
    "### Equipo: SUPER IMPORTANTE - notebooks sin nombre no serán revisados\n",
    "\n",
    "- Nombre de alumno 1: Elizabeth Ramírez Z.\n",
    "- Nombre de alumno 2: Lucas Orellana J.\n"
   ]
  },
  {
   "cell_type": "markdown",
   "metadata": {
    "cell_id": "7dd4aaebd4f44063aedbb47ea36349a5",
    "deepnote_cell_type": "markdown",
    "id": "AD-V0bbZzAHr",
    "owner_user_id": "badcc427-fd3d-4615-9296-faa43ec69cfb"
   },
   "source": [
    "### **Link de repositorio de GitHub:** [Insertar Repositorio](https://github.com/ElLuquitas/MDS7202-labs)"
   ]
  },
  {
   "cell_type": "markdown",
   "metadata": {
    "cell_id": "abe08e51696a471e8cc8ac1fa4216f0b",
    "deepnote_cell_type": "markdown",
    "id": "EcnsiQMkzAHr"
   },
   "source": [
    "### Indice\n",
    "\n",
    "1. [Temas a tratar](#Temas-a-tratar:)\n",
    "3. [Descripcción del laboratorio](#Descripción-del-laboratorio.)\n",
    "4. [Desarrollo](#Desarrollo)"
   ]
  },
  {
   "cell_type": "markdown",
   "metadata": {
    "cell_id": "0174e9377ebb43eaa0d12718db4c81ec",
    "deepnote_cell_type": "markdown",
    "id": "6uBLPj1PzAHs"
   },
   "source": [
    "## Temas a tratar\n",
    "\n",
    "- Clasificación usando `XGBoost`.\n",
    "- Métodos Agnósticos Globales de Interpretabilidad (`Partial Dependence Plot`, `Permutation Feature Importance`)\n",
    "- Métodos Agnósticos Locales de Interpretabilidad (`Scoped Rules`, `SHAP`)\n",
    "\n",
    "## Reglas:\n",
    "\n",
    "- **Grupos de 2 personas**\n",
    "- Asistencia **obligatoria** a instrucciones del lab (viernes 16.15). Luego, pueden quedarse trabajando en las salas o irse.\n",
    "- **No se revisarán entregas de personas ausentes**.\n",
    "- Cualquier duda fuera del horario de clases al foro. Mensajes al equipo docente serán respondidos por este medio.\n",
    "- Prohibidas las copias.\n",
    "- Pueden usar cualquer matrial del curso que estimen conveniente.\n",
    "\n",
    "### Objetivos principales del laboratorio\n",
    "\n",
    "- Generar un pipeline de clasificación con `XGBoost`.\n",
    "- Implementar modelos de interpretabilidad para explicar el funcionamiento del modelo de clasificación.\n",
    "\n",
    "El laboratorio deberá ser desarrollado sin el uso indiscriminado de iteradores nativos de python (aka \"for\", \"while\"). La idea es que aprendan a exprimir al máximo las funciones optimizadas que nos entrega `pandas`, las cuales vale mencionar, son bastante más eficientes que los iteradores nativos sobre DataFrames."
   ]
  },
  {
   "cell_type": "markdown",
   "metadata": {
    "cell_id": "e2c4f9b4097846b680f8d1c500aa49df",
    "deepnote_cell_type": "markdown",
    "id": "xpOTbQcxbSiy"
   },
   "source": [
    "# 1. Problemas Clínicos del Dr. Simi"
   ]
  },
  {
   "cell_type": "markdown",
   "metadata": {
    "cell_id": "2911f2d6934f43fe8950320d84f3b031",
    "deepnote_cell_type": "markdown",
    "id": "3Q93vbNS25bM"
   },
   "source": [
    "<p align=\"center\">\n",
    "  <img src=\"https://gantz.cl/wp-content/uploads/2020/01/79024136_2718114448239059_7240913062570491904_o.jpg\" width=\"350\">\n",
    "</p>"
   ]
  },
  {
   "cell_type": "markdown",
   "metadata": {
    "cell_id": "2bb2213a347e4d55bfc8fea55068a88f",
    "deepnote_cell_type": "markdown",
    "id": "Bi7JI3YNQy7L"
   },
   "source": [
    "El reconocido **Dr. Simi**, famoso vendedor de medicamentos en latinoamerica, debido a la creciente prevalencia de enfermedades crónicas, como la diabetes, decidió abrir una clínica especializada en el tratamiento de esta enfermedad en nuestro país.\n",
    "\n",
    "La clínica del Doctor Simi se convirtió en un lugar donde los pacientes con diabetes podrían recibir atención médica integral. El personal médico estaba compuesto por especialistas en endocrinología, nutrición y enfermería, todos capacitados en el manejo de la diabetes.\n",
    "\n",
    "Sin embargo él se ha dado cuenta que los tiempos han cambiado y gracias a las tecnologías es posible generar mejores predicciones en la diabetes conociendo el historial médico de las personas. Por esto, el doctor se ha colocado una meta de incluir modelos de machine learning dentro de sus clínicas, para ello le ha solicitado crear un modelo capaz de predecir/clasificar diabetes pero le rogó que el desarrollo del modelo tuviera un especial enfoque en la interpretabilidad de lo que hace su modelo.\n",
    "\n",
    "Para que usted pueda entrenar el modelo, Dr. Simi le ha entregado un dataset de todos los clientes que fueron detectados con diabetes a lo largo de la historia de la clinica. Con ello, adjunta el historial médico de las personas en forma de datos tabulares para que usted pueda realizar fácilmente la clasificación.\n"
   ]
  },
  {
   "cell_type": "code",
   "execution_count": 58,
   "metadata": {
    "cell_id": "3252f09552814a80ac2d5e3cc67a1447",
    "deepnote_cell_type": "code",
    "deepnote_to_be_reexecuted": false,
    "execution_millis": 294,
    "execution_start": 1686884002582,
    "id": "bED3w3tDbSCf",
    "outputId": "3dc8c34d-98b8-474c-c52c-83bd837ee246",
    "source_hash": "fa5e6129"
   },
   "outputs": [
    {
     "data": {
      "text/html": [
       "<div>\n",
       "<style scoped>\n",
       "    .dataframe tbody tr th:only-of-type {\n",
       "        vertical-align: middle;\n",
       "    }\n",
       "\n",
       "    .dataframe tbody tr th {\n",
       "        vertical-align: top;\n",
       "    }\n",
       "\n",
       "    .dataframe thead th {\n",
       "        text-align: right;\n",
       "    }\n",
       "</style>\n",
       "<table border=\"1\" class=\"dataframe\">\n",
       "  <thead>\n",
       "    <tr style=\"text-align: right;\">\n",
       "      <th></th>\n",
       "      <th>Age</th>\n",
       "      <th>Sex</th>\n",
       "      <th>HighChol</th>\n",
       "      <th>CholCheck</th>\n",
       "      <th>BMI</th>\n",
       "      <th>Smoker</th>\n",
       "      <th>HeartDiseaseorAttack</th>\n",
       "      <th>PhysActivity</th>\n",
       "      <th>Fruits</th>\n",
       "      <th>Veggies</th>\n",
       "      <th>HvyAlcoholConsump</th>\n",
       "      <th>GenHlth</th>\n",
       "      <th>MentHlth</th>\n",
       "      <th>PhysHlth</th>\n",
       "      <th>DiffWalk</th>\n",
       "      <th>Stroke</th>\n",
       "      <th>HighBP</th>\n",
       "      <th>Diabetes</th>\n",
       "    </tr>\n",
       "  </thead>\n",
       "  <tbody>\n",
       "    <tr>\n",
       "      <th>0</th>\n",
       "      <td>4.0</td>\n",
       "      <td>1.0</td>\n",
       "      <td>0.0</td>\n",
       "      <td>1.0</td>\n",
       "      <td>26.0</td>\n",
       "      <td>0.0</td>\n",
       "      <td>0.0</td>\n",
       "      <td>1.0</td>\n",
       "      <td>0.0</td>\n",
       "      <td>1.0</td>\n",
       "      <td>0.0</td>\n",
       "      <td>3.0</td>\n",
       "      <td>5.0</td>\n",
       "      <td>30.0</td>\n",
       "      <td>0.0</td>\n",
       "      <td>0.0</td>\n",
       "      <td>1.0</td>\n",
       "      <td>0.0</td>\n",
       "    </tr>\n",
       "    <tr>\n",
       "      <th>1</th>\n",
       "      <td>12.0</td>\n",
       "      <td>1.0</td>\n",
       "      <td>1.0</td>\n",
       "      <td>1.0</td>\n",
       "      <td>26.0</td>\n",
       "      <td>1.0</td>\n",
       "      <td>0.0</td>\n",
       "      <td>0.0</td>\n",
       "      <td>1.0</td>\n",
       "      <td>0.0</td>\n",
       "      <td>0.0</td>\n",
       "      <td>3.0</td>\n",
       "      <td>0.0</td>\n",
       "      <td>0.0</td>\n",
       "      <td>0.0</td>\n",
       "      <td>1.0</td>\n",
       "      <td>1.0</td>\n",
       "      <td>0.0</td>\n",
       "    </tr>\n",
       "    <tr>\n",
       "      <th>2</th>\n",
       "      <td>13.0</td>\n",
       "      <td>1.0</td>\n",
       "      <td>0.0</td>\n",
       "      <td>1.0</td>\n",
       "      <td>26.0</td>\n",
       "      <td>0.0</td>\n",
       "      <td>0.0</td>\n",
       "      <td>1.0</td>\n",
       "      <td>1.0</td>\n",
       "      <td>1.0</td>\n",
       "      <td>0.0</td>\n",
       "      <td>1.0</td>\n",
       "      <td>0.0</td>\n",
       "      <td>10.0</td>\n",
       "      <td>0.0</td>\n",
       "      <td>0.0</td>\n",
       "      <td>0.0</td>\n",
       "      <td>0.0</td>\n",
       "    </tr>\n",
       "    <tr>\n",
       "      <th>3</th>\n",
       "      <td>11.0</td>\n",
       "      <td>1.0</td>\n",
       "      <td>1.0</td>\n",
       "      <td>1.0</td>\n",
       "      <td>28.0</td>\n",
       "      <td>1.0</td>\n",
       "      <td>0.0</td>\n",
       "      <td>1.0</td>\n",
       "      <td>1.0</td>\n",
       "      <td>1.0</td>\n",
       "      <td>0.0</td>\n",
       "      <td>3.0</td>\n",
       "      <td>0.0</td>\n",
       "      <td>3.0</td>\n",
       "      <td>0.0</td>\n",
       "      <td>0.0</td>\n",
       "      <td>1.0</td>\n",
       "      <td>0.0</td>\n",
       "    </tr>\n",
       "    <tr>\n",
       "      <th>4</th>\n",
       "      <td>8.0</td>\n",
       "      <td>0.0</td>\n",
       "      <td>0.0</td>\n",
       "      <td>1.0</td>\n",
       "      <td>29.0</td>\n",
       "      <td>1.0</td>\n",
       "      <td>0.0</td>\n",
       "      <td>1.0</td>\n",
       "      <td>1.0</td>\n",
       "      <td>1.0</td>\n",
       "      <td>0.0</td>\n",
       "      <td>2.0</td>\n",
       "      <td>0.0</td>\n",
       "      <td>0.0</td>\n",
       "      <td>0.0</td>\n",
       "      <td>0.0</td>\n",
       "      <td>0.0</td>\n",
       "      <td>0.0</td>\n",
       "    </tr>\n",
       "  </tbody>\n",
       "</table>\n",
       "</div>"
      ],
      "text/plain": [
       "    Age  Sex  HighChol  CholCheck   BMI  Smoker  HeartDiseaseorAttack  \\\n",
       "0   4.0  1.0       0.0        1.0  26.0     0.0                   0.0   \n",
       "1  12.0  1.0       1.0        1.0  26.0     1.0                   0.0   \n",
       "2  13.0  1.0       0.0        1.0  26.0     0.0                   0.0   \n",
       "3  11.0  1.0       1.0        1.0  28.0     1.0                   0.0   \n",
       "4   8.0  0.0       0.0        1.0  29.0     1.0                   0.0   \n",
       "\n",
       "   PhysActivity  Fruits  Veggies  HvyAlcoholConsump  GenHlth  MentHlth  \\\n",
       "0           1.0     0.0      1.0                0.0      3.0       5.0   \n",
       "1           0.0     1.0      0.0                0.0      3.0       0.0   \n",
       "2           1.0     1.0      1.0                0.0      1.0       0.0   \n",
       "3           1.0     1.0      1.0                0.0      3.0       0.0   \n",
       "4           1.0     1.0      1.0                0.0      2.0       0.0   \n",
       "\n",
       "   PhysHlth  DiffWalk  Stroke  HighBP  Diabetes  \n",
       "0      30.0       0.0     0.0     1.0       0.0  \n",
       "1       0.0       0.0     1.0     1.0       0.0  \n",
       "2      10.0       0.0     0.0     0.0       0.0  \n",
       "3       3.0       0.0     0.0     1.0       0.0  \n",
       "4       0.0       0.0     0.0     0.0       0.0  "
      ]
     },
     "execution_count": 58,
     "metadata": {},
     "output_type": "execute_result"
    }
   ],
   "source": [
    "import numpy as np\n",
    "import pandas as pd\n",
    "\n",
    "df = pd.read_csv('diabetes_data.csv')\n",
    "df.head(5)"
   ]
  },
  {
   "cell_type": "markdown",
   "metadata": {
    "cell_id": "2fa50e56411a46858d61f2a42b715ee8",
    "deepnote_cell_type": "markdown",
    "id": "ghYBow5eQy7N"
   },
   "source": [
    "## 2. Clasificación de pacientes con diabetes (5 puntos)\n",
    "\n",
    "<p align=\"center\">\n",
    "  <img src=\"https://media.tenor.com/QH--g3ZaSbsAAAAC/dr-simi-abrazo.gif\" width=\"400\">\n",
    "</p>"
   ]
  },
  {
   "cell_type": "markdown",
   "metadata": {
    "cell_id": "d9f2091b610941f989e7720573424d8a",
    "deepnote_cell_type": "markdown",
    "id": "jnmZfFpxTTYX"
   },
   "source": [
    "Tareas:\n",
    "1. En primer lugar, el reconocido doctor le pide entrenar un modelo de `XGBoost` utilizando como target la columna `Diabetes` del dataset `diabetes_data.csv`. Para el entrenamiento, realice los siguientes pasos:\n",
    "  * Realice una breve exploración de los datos y determine si aplicará transformaciones (MinMaxScaler, StandardScaler, etc.) en alguna/s de las variables. (1 punto)\n",
    "  * Cree un conjunto de entrenamiento y uno de prueba, con una proporción de 1/3 en el conjunto de prueba. (0.5 puntos)\n",
    "  * Cree un ColumnTransformer de preprocesamiento donde aplique las transformaciones determinadas anteriormente. Fije el parámetro `verbose_feature_names_out=False` y fije la salida del ColumnTransformer en formato pandas mediante el método `.set_output(transform='pandas')`. (1 punto)\n",
    "  *  Cree un pipeline donde integre el preprocesamiento y el modelo `XGBoost` y entrene el modelo. Luego utilice `classification_report(..)` para reportar el desempeño del modelo. (1 punto)\n",
    "\n",
    "Comente sus decisiones y los resultados obtenidos con el modelo.\n",
    "\n",
    "2. Luego, le pide responder las siguientes preguntas:\n",
    "  *  ¿Es acaso un buen predictor de diabetes? (0.5 puntos)\n",
    "  * ¿Qué buscan explicar las métricas utilizadas? (0.5 puntos)\n",
    "  * ¿Las métricas utilizadas para medir la predictibilidad le permiten asegurar que su modelo haga una buena elección de las features?(0.5 puntos)"
   ]
  },
  {
   "cell_type": "code",
   "execution_count": 2,
   "metadata": {
    "cell_id": "85306f784b434ca1a6db2d4751525cf0",
    "deepnote_cell_type": "code",
    "deepnote_to_be_reexecuted": false,
    "execution_millis": 11299,
    "execution_start": 1686884005212,
    "id": "eJXc0TpLQy7O",
    "outputId": "efa27dce-a9f9-40e3-ae7b-3ef8c84693c4",
    "source_hash": "4d27a39e"
   },
   "outputs": [
    {
     "name": "stdout",
     "output_type": "stream",
     "text": [
      "Requirement already satisfied: xgboost in c:\\users\\lucas\\appdata\\local\\programs\\python\\python310\\lib\\site-packages (2.1.1)\n",
      "Requirement already satisfied: numpy in c:\\users\\lucas\\appdata\\local\\programs\\python\\python310\\lib\\site-packages (from xgboost) (1.24.4)\n",
      "Requirement already satisfied: scipy in c:\\users\\lucas\\appdata\\local\\programs\\python\\python310\\lib\\site-packages (from xgboost) (1.9.0)\n"
     ]
    }
   ],
   "source": [
    "!pip install xgboost"
   ]
  },
  {
   "cell_type": "markdown",
   "metadata": {},
   "source": [
    "**1. Entrenamiento `XGBoost`**"
   ]
  },
  {
   "cell_type": "markdown",
   "metadata": {},
   "source": [
    "Partimos con un pequeño análisis exploratorio:"
   ]
  },
  {
   "cell_type": "code",
   "execution_count": 3,
   "metadata": {
    "cell_id": "a928e00142bf45ee8d26207bab5a920d",
    "deepnote_cell_type": "code",
    "deepnote_to_be_reexecuted": false,
    "execution_millis": 50,
    "execution_start": 1686930782578,
    "id": "yIxpMFACQy7P",
    "source_hash": "553ccab0"
   },
   "outputs": [
    {
     "data": {
      "text/plain": [
       "Index(['Age', 'Sex', 'HighChol', 'CholCheck', 'BMI', 'Smoker',\n",
       "       'HeartDiseaseorAttack', 'PhysActivity', 'Fruits', 'Veggies',\n",
       "       'HvyAlcoholConsump', 'GenHlth', 'MentHlth', 'PhysHlth', 'DiffWalk',\n",
       "       'Stroke', 'HighBP', 'Diabetes'],\n",
       "      dtype='object')"
      ]
     },
     "execution_count": 3,
     "metadata": {},
     "output_type": "execute_result"
    }
   ],
   "source": [
    "# Nombres de columnas\n",
    "df.columns"
   ]
  },
  {
   "cell_type": "code",
   "execution_count": 4,
   "metadata": {},
   "outputs": [
    {
     "data": {
      "text/plain": [
       "Age                     float64\n",
       "Sex                     float64\n",
       "HighChol                float64\n",
       "CholCheck               float64\n",
       "BMI                     float64\n",
       "Smoker                  float64\n",
       "HeartDiseaseorAttack    float64\n",
       "PhysActivity            float64\n",
       "Fruits                  float64\n",
       "Veggies                 float64\n",
       "HvyAlcoholConsump       float64\n",
       "GenHlth                 float64\n",
       "MentHlth                float64\n",
       "PhysHlth                float64\n",
       "DiffWalk                float64\n",
       "Stroke                  float64\n",
       "HighBP                  float64\n",
       "Diabetes                float64\n",
       "dtype: object"
      ]
     },
     "execution_count": 4,
     "metadata": {},
     "output_type": "execute_result"
    }
   ],
   "source": [
    "# Tipo de dato de cada columna\n",
    "df.dtypes"
   ]
  },
  {
   "cell_type": "code",
   "execution_count": 5,
   "metadata": {},
   "outputs": [
    {
     "data": {
      "text/plain": [
       "Age                     13\n",
       "Sex                      2\n",
       "HighChol                 2\n",
       "CholCheck                2\n",
       "BMI                     80\n",
       "Smoker                   2\n",
       "HeartDiseaseorAttack     2\n",
       "PhysActivity             2\n",
       "Fruits                   2\n",
       "Veggies                  2\n",
       "HvyAlcoholConsump        2\n",
       "GenHlth                  5\n",
       "MentHlth                31\n",
       "PhysHlth                31\n",
       "DiffWalk                 2\n",
       "Stroke                   2\n",
       "HighBP                   2\n",
       "Diabetes                 2\n",
       "dtype: int64"
      ]
     },
     "execution_count": 5,
     "metadata": {},
     "output_type": "execute_result"
    }
   ],
   "source": [
    "# Cantidad de valores único en cada columna\n",
    "df.nunique()"
   ]
  },
  {
   "cell_type": "code",
   "execution_count": 6,
   "metadata": {},
   "outputs": [
    {
     "data": {
      "text/plain": [
       "Age                     0\n",
       "Sex                     0\n",
       "HighChol                0\n",
       "CholCheck               0\n",
       "BMI                     0\n",
       "Smoker                  0\n",
       "HeartDiseaseorAttack    0\n",
       "PhysActivity            0\n",
       "Fruits                  0\n",
       "Veggies                 0\n",
       "HvyAlcoholConsump       0\n",
       "GenHlth                 0\n",
       "MentHlth                0\n",
       "PhysHlth                0\n",
       "DiffWalk                0\n",
       "Stroke                  0\n",
       "HighBP                  0\n",
       "Diabetes                0\n",
       "dtype: int64"
      ]
     },
     "execution_count": 6,
     "metadata": {},
     "output_type": "execute_result"
    }
   ],
   "source": [
    "# Cantidad de valores nulos en cada columna\n",
    "df.isnull().sum()"
   ]
  },
  {
   "cell_type": "code",
   "execution_count": 7,
   "metadata": {},
   "outputs": [
    {
     "data": {
      "text/html": [
       "<div>\n",
       "<style scoped>\n",
       "    .dataframe tbody tr th:only-of-type {\n",
       "        vertical-align: middle;\n",
       "    }\n",
       "\n",
       "    .dataframe tbody tr th {\n",
       "        vertical-align: top;\n",
       "    }\n",
       "\n",
       "    .dataframe thead th {\n",
       "        text-align: right;\n",
       "    }\n",
       "</style>\n",
       "<table border=\"1\" class=\"dataframe\">\n",
       "  <thead>\n",
       "    <tr style=\"text-align: right;\">\n",
       "      <th></th>\n",
       "      <th>Age</th>\n",
       "      <th>Sex</th>\n",
       "      <th>HighChol</th>\n",
       "      <th>CholCheck</th>\n",
       "      <th>BMI</th>\n",
       "      <th>Smoker</th>\n",
       "      <th>HeartDiseaseorAttack</th>\n",
       "      <th>PhysActivity</th>\n",
       "      <th>Fruits</th>\n",
       "      <th>Veggies</th>\n",
       "      <th>HvyAlcoholConsump</th>\n",
       "      <th>GenHlth</th>\n",
       "      <th>MentHlth</th>\n",
       "      <th>PhysHlth</th>\n",
       "      <th>DiffWalk</th>\n",
       "      <th>Stroke</th>\n",
       "      <th>HighBP</th>\n",
       "      <th>Diabetes</th>\n",
       "    </tr>\n",
       "  </thead>\n",
       "  <tbody>\n",
       "    <tr>\n",
       "      <th>count</th>\n",
       "      <td>70692.000000</td>\n",
       "      <td>70692.000000</td>\n",
       "      <td>70692.000000</td>\n",
       "      <td>70692.000000</td>\n",
       "      <td>70692.000000</td>\n",
       "      <td>70692.000000</td>\n",
       "      <td>70692.000000</td>\n",
       "      <td>70692.000000</td>\n",
       "      <td>70692.000000</td>\n",
       "      <td>70692.000000</td>\n",
       "      <td>70692.000000</td>\n",
       "      <td>70692.000000</td>\n",
       "      <td>70692.000000</td>\n",
       "      <td>70692.000000</td>\n",
       "      <td>70692.000000</td>\n",
       "      <td>70692.000000</td>\n",
       "      <td>70692.000000</td>\n",
       "      <td>70692.000000</td>\n",
       "    </tr>\n",
       "    <tr>\n",
       "      <th>mean</th>\n",
       "      <td>8.584055</td>\n",
       "      <td>0.456997</td>\n",
       "      <td>0.525703</td>\n",
       "      <td>0.975259</td>\n",
       "      <td>29.856985</td>\n",
       "      <td>0.475273</td>\n",
       "      <td>0.147810</td>\n",
       "      <td>0.703036</td>\n",
       "      <td>0.611795</td>\n",
       "      <td>0.788774</td>\n",
       "      <td>0.042721</td>\n",
       "      <td>2.837082</td>\n",
       "      <td>3.752037</td>\n",
       "      <td>5.810417</td>\n",
       "      <td>0.252730</td>\n",
       "      <td>0.062171</td>\n",
       "      <td>0.563458</td>\n",
       "      <td>0.500000</td>\n",
       "    </tr>\n",
       "    <tr>\n",
       "      <th>std</th>\n",
       "      <td>2.852153</td>\n",
       "      <td>0.498151</td>\n",
       "      <td>0.499342</td>\n",
       "      <td>0.155336</td>\n",
       "      <td>7.113954</td>\n",
       "      <td>0.499392</td>\n",
       "      <td>0.354914</td>\n",
       "      <td>0.456924</td>\n",
       "      <td>0.487345</td>\n",
       "      <td>0.408181</td>\n",
       "      <td>0.202228</td>\n",
       "      <td>1.113565</td>\n",
       "      <td>8.155627</td>\n",
       "      <td>10.062261</td>\n",
       "      <td>0.434581</td>\n",
       "      <td>0.241468</td>\n",
       "      <td>0.495960</td>\n",
       "      <td>0.500004</td>\n",
       "    </tr>\n",
       "    <tr>\n",
       "      <th>min</th>\n",
       "      <td>1.000000</td>\n",
       "      <td>0.000000</td>\n",
       "      <td>0.000000</td>\n",
       "      <td>0.000000</td>\n",
       "      <td>12.000000</td>\n",
       "      <td>0.000000</td>\n",
       "      <td>0.000000</td>\n",
       "      <td>0.000000</td>\n",
       "      <td>0.000000</td>\n",
       "      <td>0.000000</td>\n",
       "      <td>0.000000</td>\n",
       "      <td>1.000000</td>\n",
       "      <td>0.000000</td>\n",
       "      <td>0.000000</td>\n",
       "      <td>0.000000</td>\n",
       "      <td>0.000000</td>\n",
       "      <td>0.000000</td>\n",
       "      <td>0.000000</td>\n",
       "    </tr>\n",
       "    <tr>\n",
       "      <th>25%</th>\n",
       "      <td>7.000000</td>\n",
       "      <td>0.000000</td>\n",
       "      <td>0.000000</td>\n",
       "      <td>1.000000</td>\n",
       "      <td>25.000000</td>\n",
       "      <td>0.000000</td>\n",
       "      <td>0.000000</td>\n",
       "      <td>0.000000</td>\n",
       "      <td>0.000000</td>\n",
       "      <td>1.000000</td>\n",
       "      <td>0.000000</td>\n",
       "      <td>2.000000</td>\n",
       "      <td>0.000000</td>\n",
       "      <td>0.000000</td>\n",
       "      <td>0.000000</td>\n",
       "      <td>0.000000</td>\n",
       "      <td>0.000000</td>\n",
       "      <td>0.000000</td>\n",
       "    </tr>\n",
       "    <tr>\n",
       "      <th>50%</th>\n",
       "      <td>9.000000</td>\n",
       "      <td>0.000000</td>\n",
       "      <td>1.000000</td>\n",
       "      <td>1.000000</td>\n",
       "      <td>29.000000</td>\n",
       "      <td>0.000000</td>\n",
       "      <td>0.000000</td>\n",
       "      <td>1.000000</td>\n",
       "      <td>1.000000</td>\n",
       "      <td>1.000000</td>\n",
       "      <td>0.000000</td>\n",
       "      <td>3.000000</td>\n",
       "      <td>0.000000</td>\n",
       "      <td>0.000000</td>\n",
       "      <td>0.000000</td>\n",
       "      <td>0.000000</td>\n",
       "      <td>1.000000</td>\n",
       "      <td>0.500000</td>\n",
       "    </tr>\n",
       "    <tr>\n",
       "      <th>75%</th>\n",
       "      <td>11.000000</td>\n",
       "      <td>1.000000</td>\n",
       "      <td>1.000000</td>\n",
       "      <td>1.000000</td>\n",
       "      <td>33.000000</td>\n",
       "      <td>1.000000</td>\n",
       "      <td>0.000000</td>\n",
       "      <td>1.000000</td>\n",
       "      <td>1.000000</td>\n",
       "      <td>1.000000</td>\n",
       "      <td>0.000000</td>\n",
       "      <td>4.000000</td>\n",
       "      <td>2.000000</td>\n",
       "      <td>6.000000</td>\n",
       "      <td>1.000000</td>\n",
       "      <td>0.000000</td>\n",
       "      <td>1.000000</td>\n",
       "      <td>1.000000</td>\n",
       "    </tr>\n",
       "    <tr>\n",
       "      <th>max</th>\n",
       "      <td>13.000000</td>\n",
       "      <td>1.000000</td>\n",
       "      <td>1.000000</td>\n",
       "      <td>1.000000</td>\n",
       "      <td>98.000000</td>\n",
       "      <td>1.000000</td>\n",
       "      <td>1.000000</td>\n",
       "      <td>1.000000</td>\n",
       "      <td>1.000000</td>\n",
       "      <td>1.000000</td>\n",
       "      <td>1.000000</td>\n",
       "      <td>5.000000</td>\n",
       "      <td>30.000000</td>\n",
       "      <td>30.000000</td>\n",
       "      <td>1.000000</td>\n",
       "      <td>1.000000</td>\n",
       "      <td>1.000000</td>\n",
       "      <td>1.000000</td>\n",
       "    </tr>\n",
       "  </tbody>\n",
       "</table>\n",
       "</div>"
      ],
      "text/plain": [
       "                Age           Sex      HighChol     CholCheck           BMI  \\\n",
       "count  70692.000000  70692.000000  70692.000000  70692.000000  70692.000000   \n",
       "mean       8.584055      0.456997      0.525703      0.975259     29.856985   \n",
       "std        2.852153      0.498151      0.499342      0.155336      7.113954   \n",
       "min        1.000000      0.000000      0.000000      0.000000     12.000000   \n",
       "25%        7.000000      0.000000      0.000000      1.000000     25.000000   \n",
       "50%        9.000000      0.000000      1.000000      1.000000     29.000000   \n",
       "75%       11.000000      1.000000      1.000000      1.000000     33.000000   \n",
       "max       13.000000      1.000000      1.000000      1.000000     98.000000   \n",
       "\n",
       "             Smoker  HeartDiseaseorAttack  PhysActivity        Fruits  \\\n",
       "count  70692.000000          70692.000000  70692.000000  70692.000000   \n",
       "mean       0.475273              0.147810      0.703036      0.611795   \n",
       "std        0.499392              0.354914      0.456924      0.487345   \n",
       "min        0.000000              0.000000      0.000000      0.000000   \n",
       "25%        0.000000              0.000000      0.000000      0.000000   \n",
       "50%        0.000000              0.000000      1.000000      1.000000   \n",
       "75%        1.000000              0.000000      1.000000      1.000000   \n",
       "max        1.000000              1.000000      1.000000      1.000000   \n",
       "\n",
       "            Veggies  HvyAlcoholConsump       GenHlth      MentHlth  \\\n",
       "count  70692.000000       70692.000000  70692.000000  70692.000000   \n",
       "mean       0.788774           0.042721      2.837082      3.752037   \n",
       "std        0.408181           0.202228      1.113565      8.155627   \n",
       "min        0.000000           0.000000      1.000000      0.000000   \n",
       "25%        1.000000           0.000000      2.000000      0.000000   \n",
       "50%        1.000000           0.000000      3.000000      0.000000   \n",
       "75%        1.000000           0.000000      4.000000      2.000000   \n",
       "max        1.000000           1.000000      5.000000     30.000000   \n",
       "\n",
       "           PhysHlth      DiffWalk        Stroke        HighBP      Diabetes  \n",
       "count  70692.000000  70692.000000  70692.000000  70692.000000  70692.000000  \n",
       "mean       5.810417      0.252730      0.062171      0.563458      0.500000  \n",
       "std       10.062261      0.434581      0.241468      0.495960      0.500004  \n",
       "min        0.000000      0.000000      0.000000      0.000000      0.000000  \n",
       "25%        0.000000      0.000000      0.000000      0.000000      0.000000  \n",
       "50%        0.000000      0.000000      0.000000      1.000000      0.500000  \n",
       "75%        6.000000      1.000000      0.000000      1.000000      1.000000  \n",
       "max       30.000000      1.000000      1.000000      1.000000      1.000000  "
      ]
     },
     "execution_count": 7,
     "metadata": {},
     "output_type": "execute_result"
    }
   ],
   "source": [
    "# Descripción de los datos\n",
    "df.describe()"
   ]
  },
  {
   "cell_type": "markdown",
   "metadata": {},
   "source": [
    "Por lo que se puede notar, el dataset contiene sólo características numéricas, las cuales muchas de ellas son indicadores positivo/negativo de algun estado (si se ha hecho algún chequeo, si fuma, si come fruta, entre otras), pero hay un cierto grupo de ellas que son más cuantitativas (edad, BMI, entre otras). Son estas últimas las que se deben escalar usando `MinMaxScaler` para poder trabajar con un dataset normalizado.\n",
    "\n",
    "* Columnas indicativas ($\\{x, y\\}$): `Sex`, `HighChol`, `CholCheck`, `Smoker`, `HeartDiseaseorAttack`, `PhysActivity`, `Fruits`, `Veggies`, `HvyAlcoholConsump`, `DiffWalk`, `Stroke`, `HighBP`.\n",
    "\n",
    "* Columnas numéricas ($[x, y]$): `Age`, `BMI`, `GenHlth`, `MentHlth`, `PhysHlth`."
   ]
  },
  {
   "cell_type": "code",
   "execution_count": 59,
   "metadata": {},
   "outputs": [],
   "source": [
    "from sklearn.preprocessing import MinMaxScaler\n",
    "from sklearn.compose import ColumnTransformer\n",
    "\n",
    "num_col = ['Age', 'BMI', 'GenHlth', 'MentHlth', 'PhysHlth']\n",
    "scaler = MinMaxScaler()\n",
    "numeric_transformer = ColumnTransformer([\n",
    "    ('scaler', scaler, num_col)\n",
    "], remainder='passthrough',\n",
    "   verbose_feature_names_out=False).set_output(transform='pandas')"
   ]
  },
  {
   "cell_type": "code",
   "execution_count": 60,
   "metadata": {},
   "outputs": [],
   "source": [
    "from sklearn.model_selection import train_test_split\n",
    "\n",
    "X = df.drop('Diabetes', axis=1)\n",
    "y = df['Diabetes']\n",
    "\n",
    "X_train, X_test, y_train, y_test = train_test_split(X, y, test_size=0.33, random_state=50)"
   ]
  },
  {
   "cell_type": "code",
   "execution_count": null,
   "metadata": {},
   "outputs": [],
   "source": [
    "from xgboost import XGBClassifier\n",
    "from sklearn.pipeline import Pipeline\n",
    "\n",
    "model = XGBClassifier()\n",
    "pipeline = Pipeline([\n",
    "    ('preprocessor', numeric_transformer),\n",
    "    ('model', model)\n",
    "], verbose=True)"
   ]
  },
  {
   "cell_type": "code",
   "execution_count": 62,
   "metadata": {},
   "outputs": [
    {
     "name": "stdout",
     "output_type": "stream",
     "text": [
      "[Pipeline] ...... (step 1 of 2) Processing preprocessor, total=   0.0s\n"
     ]
    },
    {
     "name": "stderr",
     "output_type": "stream",
     "text": [
      "c:\\Users\\lucas\\AppData\\Local\\Programs\\Python\\Python310\\lib\\site-packages\\xgboost\\core.py:158: UserWarning:\n",
      "\n",
      "[01:50:49] WARNING: C:\\buildkite-agent\\builds\\buildkite-windows-cpu-autoscaling-group-i-0015a694724fa8361-1\\xgboost\\xgboost-ci-windows\\src\\learner.cc:740: \n",
      "Parameters: { \"use_label_encoder\" } are not used.\n",
      "\n",
      "\n"
     ]
    },
    {
     "name": "stdout",
     "output_type": "stream",
     "text": [
      "[Pipeline] ............. (step 2 of 2) Processing model, total=   0.8s\n"
     ]
    }
   ],
   "source": [
    "pipeline.fit(X_train, y_train)\n",
    "y_pred = pipeline.predict(X_test)"
   ]
  },
  {
   "cell_type": "code",
   "execution_count": 63,
   "metadata": {},
   "outputs": [
    {
     "name": "stdout",
     "output_type": "stream",
     "text": [
      "              precision    recall  f1-score   support\n",
      "\n",
      "         0.0       0.77      0.70      0.74     11736\n",
      "         1.0       0.73      0.79      0.76     11593\n",
      "\n",
      "    accuracy                           0.75     23329\n",
      "   macro avg       0.75      0.75      0.75     23329\n",
      "weighted avg       0.75      0.75      0.75     23329\n",
      "\n"
     ]
    }
   ],
   "source": [
    "from sklearn.metrics import classification_report\n",
    "\n",
    "print(classification_report(y_test, y_pred))"
   ]
  },
  {
   "cell_type": "markdown",
   "metadata": {},
   "source": [
    "**2.1. ¿Es acaso un buen predictor de diabetes?**\n",
    "\n",
    "Podríamos decir que es un predictor débil, esto si tenemos en consideración que estamos diagnosticando a personas que pueden llegar a recibir un tratamiento que, en caso contrario, puede llegar a afectar la salud de los pacientes. En general este modelo tiene un desempeño bastante similar en clasificar a pacientes con y sin diabetes, teniendo un ligero mejor desempeño al clasificar a pacientes positivos."
   ]
  },
  {
   "cell_type": "markdown",
   "metadata": {},
   "source": [
    "**2.2. ¿Qué buscan explicar las métricas utilizadas?**\n",
    "\n",
    "En este reporte tenemos 6 métricas:\n",
    "\n",
    "- **Precision**: Es la proporción de observaciones que se clasifican de maenra correcta sobre todas las observaciones clasificadas como positivas. Busca evaluar qué tan preciso es el modelo para predecir la clase positiva, es decir, qué tan preciso es para identificar las clases realmente positivas.\n",
    "\n",
    "- **Recall**: Es la proporción de observaciones positivas sobre el total de clases positivas. Busca dar un entendimiento sobre qué tan robusto es el modelo para detectar los casos positivos.\n",
    "\n",
    "- **F1-Score**: Es un promedio entre *precision* y *recall*. Busca dar un equilibrio entre ambas métricas.\n",
    "\n",
    "- **Accuracy**: Es la proporción de observaciones que se clasificaron de manera correcta sobre el total de clasificaciones. Busca dar un entendimiento general del modelo en términos de aciertos, independiente a la clase acertada.\n",
    "\n",
    "- **Macro avg**: Promedia los resultados de una métrica para todas las clases, buscando dar una evaluación general del modelo con igual importancia para todas las clases.\n",
    "\n",
    "- **Weighted avg**: Pondera también los resultados de una métrica para todas las clases, pero lo hace según el número de observaciones de cada clase, buscando dar una evaluación general del modelo teniendo en cuenta el desbalance entre clases."
   ]
  },
  {
   "cell_type": "markdown",
   "metadata": {},
   "source": [
    "**2.3. ¿Las métricas utilizadas para medir la predictibilidad le permiten asegurar que su modelo haga una buena elección de las *features*?**\n",
    "\n",
    "Estas métricas no nos aseguran que el modelo hace una buena elección de *features*, ya que tal cual está es como una caja negra para nosotros, sin saber si se está realizando un sezgo sobre alguna variable, siendo representativo simplemente para un desempeño general."
   ]
  },
  {
   "cell_type": "markdown",
   "metadata": {
    "cell_id": "58111a309a0c4aafb323c62c03b9b1d0",
    "deepnote_cell_type": "markdown",
    "id": "FzYGpPhmQy7P"
   },
   "source": [
    "## 3. Importancia de las features con XGBoost (5 puntos)\n",
    "\n",
    "<p align=\"center\">\n",
    "  <img src=\"https://media.tenor.com/5JAj5_IiagEAAAAd/dr-simi-dr-simi-dance.gif\" width=\"400\">\n",
    "</p>"
   ]
  },
  {
   "cell_type": "markdown",
   "metadata": {
    "cell_id": "5e0707b14bbd4ed7b4646cba8e7e53cc",
    "deepnote_cell_type": "markdown",
    "id": "jUT2mC5qQy7Q"
   },
   "source": [
    "Tareas:\n",
    "1. Para añadir el toque de interpretabilidad que Dr. Simi le pide, se le pide calcular la **importancia de las features** del modelo entrenado utilizando todos los métodos (*weight*, *cover*, *gain*) que posee xgboost usando `plot_importance`. `Hint:` Puede acceder a un paso de un pipeline por su nombre mediante el método `.named_steps[...]` (3 puntos)\n",
    "2. ¿Los resultados obtenidos con los diferentes métodos son compatibles?, comente sus resultados y a que se debe la igualdad o desigualdad que ve en los resultados. (1 punto)\n",
    "3. Finalmente, ¿las importancias obtenidas son suficientes para obtener la interpretabilidad de un modelo que utiliza árboles? ¿Qué debilidad presenta este método? (1 punto)"
   ]
  },
  {
   "cell_type": "markdown",
   "metadata": {},
   "source": [
    "**1. Importancia de las *features***"
   ]
  },
  {
   "cell_type": "code",
   "execution_count": 64,
   "metadata": {},
   "outputs": [
    {
     "data": {
      "image/png": "[encoded data removed]",
      "text/plain": [
       "<Figure size 1440x360 with 3 Axes>"
      ]
     },
     "metadata": {
      "needs_background": "light"
     },
     "output_type": "display_data"
    }
   ],
   "source": [
    "from xgboost import plot_importance\n",
    "import matplotlib.pyplot as plt\n",
    "\n",
    "xgb_model = pipeline.named_steps['model']\n",
    "\n",
    "fig, axs = plt.subplots(1, 3, figsize=(20, 5))\n",
    "\n",
    "# Visualización de la importancia por \"weight\"\n",
    "plot_importance(xgb_model, importance_type='weight', ax=axs[0])\n",
    "axs[0].set_title(\"Feature Importance - Weight\")\n",
    "\n",
    "# Visualización de la importancia por \"cover\"\n",
    "plot_importance(xgb_model, importance_type='cover', ax=axs[1])\n",
    "axs[1].set_title(\"Feature Importance - Cover\")\n",
    "\n",
    "# Visualización de la importancia por \"gain\"\n",
    "plot_importance(xgb_model, importance_type='gain', ax=axs[2])\n",
    "axs[2].set_title(\"Feature Importance - Gain\")\n",
    "\n",
    "plt.tight_layout()\n",
    "plt.show()"
   ]
  },
  {
   "cell_type": "markdown",
   "metadata": {},
   "source": [
    "**2. ¿Los resultados obtenidos con los diferentes métodos son compatibles?**\n",
    "\n",
    "Viendo las gráficas podemos notar que los tres métodos no coinciden para nada en el orden e importancia de cada una de las *features* involucradas, siendo la más \"radical\" la que ocupa `gain`, ya que la primera característica posee una importancia muy alta comparada con el resto, mientras que `weight` y `cover` tienen comportamientos más o menos similares si consideramos las proporciones en que se asignan las importancias. Estas grandes diferencias se deben al funcionamiento y objetivo de cada uno de estos métodos:\n",
    "\n",
    "- **Weight**: Mide cuántas veces una variable fue usada en los nodos de los árboles del modelo completo, reflejando así la frecuencia de uso de la variable para dividir los árboles.\n",
    "- **Cover**: Mide la cobertura promedio de una variable sobre las observaciones totales al realizar una división. Mientras más abarque, mejor valoración tiene.\n",
    "- **Gain**: Mide ganancia promedio de la precisión cuando se usa una cierta variable para la división, mostrando cuánto mejoran las predicciones cada vex que la variable es usada.\n",
    "\n",
    "Cada método mide cosas bastante diferentes y, apoyado en los resultados obtenidos, estos métodos no son compatibles entre sí para ver la efectividad del modelo, necesitándose así un análisis diferente."
   ]
  },
  {
   "cell_type": "markdown",
   "metadata": {},
   "source": [
    "**3. ¿Las importancias obtenidas son suficientes para obtener la interpretabilidad de un modelo que utiliza árboles? ¿Qué debilidad presenta este método?**\n",
    "\n",
    "Las importancias obtenidas no son suficientes para obtener la interpretabilidad de un modelo de estas características dados los muy diversos resultados obtenidos. Esto se debe principalmente a las siguientes falencias de cada método:\n",
    "\n",
    "- **Weight**: Como cuenta sólo la frecuencia, no se sabe cuánto es lo que aporta la variable al rendimiento del modelo por cada vez que fue usada en los árboles.\n",
    "- **Cover**: Pueden existir variables que afecten a muchas observaciones, cubriendo así gran parte de los datos, pero que al mismo tiempo no tengan un impacto significativo en el rendimiento.\n",
    "- **Gain**: Pueden existir variables que aparezcan muy pocas veces, pero que sean muy importantes para el modelo en términos de rendimiento."
   ]
  },
  {
   "cell_type": "markdown",
   "metadata": {
    "cell_id": "37e42da05d404e6988e5cb213124d1a2",
    "deepnote_cell_type": "markdown",
    "id": "cB8wXvM3Qy7Q"
   },
   "source": [
    "## 4. Métodos Agnósticos Globales (10 puntos)\n",
    "\n",
    "<p align=\"center\">\n",
    "  <img src=\"https://media.tenor.com/JcRHtjVuXN8AAAAC/dr-simi-farmacias-similares.gif\" width=\"400\">\n",
    "</p>"
   ]
  },
  {
   "cell_type": "markdown",
   "metadata": {
    "cell_id": "2a5763d9e5744d4fb2a5b8c0478b67fd",
    "deepnote_cell_type": "markdown",
    "id": "sDQNwSSqQy7Q"
   },
   "source": [
    "Tareas:\n",
    "1. Para mitigar los problemas encontrados en la sección anterior, Dr. Simi le pide implementar un **método de permutación** que le permita observar la importancia de las features. `Nota:`Tenga cuidado con el orden de las columnas de este método. `Hint:` Puede obtener los features del clasificador con su respectivo orden mediante el método `.get_booster().feature_names` (2 puntos)\n",
    "2. Para que su modelo sea consistente, repita el proceso **30 veces** y verifique la desviación estándar de sus resultados (¿Qué señala esta?). (2 puntos)\n",
    "3. Visualice los resultados de este método en un gráfico. (2 puntos)\n",
    "4. Además, responda las siguientes preguntas:\n",
    "  - ¿Cómo mide la importancia de las features su propuesta? (1 punto)\n",
    "  - ¿Qué features tienen un mayor impacto en la salida del modelo?. Comente las 5 primeras, ¿tienen sentido? (1 punto)\n",
    "  - ¿Cómo cambian sus conclusiones con respecto a las features importances del punto anterior? (1 punto)\n",
    "  - Nombre y explique 3 ventajas y 3 desventajas del método implementado. (1 punto)"
   ]
  },
  {
   "cell_type": "markdown",
   "metadata": {},
   "source": [
    "**1. Implemetación de PDP**"
   ]
  },
  {
   "cell_type": "code",
   "execution_count": 14,
   "metadata": {
    "cell_id": "83032f5e2894423dbafa952e1d3f89cb",
    "deepnote_cell_type": "code",
    "deepnote_to_be_reexecuted": false,
    "execution_millis": 43036,
    "execution_start": 1686882223141,
    "id": "gpug7RLgQy7Q",
    "source_hash": "c8f2357f"
   },
   "outputs": [],
   "source": [
    "from sklearn.inspection import permutation_importance\n",
    "import numpy as np"
   ]
  },
  {
   "cell_type": "code",
   "execution_count": 65,
   "metadata": {},
   "outputs": [],
   "source": [
    "# Reordena los features de testeo según el orden del modelo\n",
    "X_test = X_test[xgb_model.get_booster().feature_names]"
   ]
  },
  {
   "cell_type": "code",
   "execution_count": 66,
   "metadata": {},
   "outputs": [
    {
     "data": {
      "text/plain": [
       "{'importances_mean': array([ 0.        ,  0.        ,  0.        ,  0.00393502,  0.01888636,\n",
       "         0.00341635,  0.01882207,  0.00531099, -0.01212654,  0.00339063,\n",
       "         0.0232929 ,  0.00999614,  0.00592396,  0.00192036,  0.00160744,\n",
       "        -0.0005401 ,  0.04897767]),\n",
       " 'importances_std': array([0.        , 0.        , 0.        , 0.00096552, 0.00065211,\n",
       "        0.00072264, 0.00105268, 0.00049041, 0.00223651, 0.00061237,\n",
       "        0.00156351, 0.00109248, 0.00080372, 0.00053256, 0.00036886,\n",
       "        0.0003338 , 0.00102701]),\n",
       " 'importances': array([[ 0.00000000e+00,  0.00000000e+00,  0.00000000e+00,\n",
       "          0.00000000e+00,  0.00000000e+00,  0.00000000e+00,\n",
       "          0.00000000e+00,  0.00000000e+00,  0.00000000e+00,\n",
       "          0.00000000e+00],\n",
       "        [ 0.00000000e+00,  0.00000000e+00,  0.00000000e+00,\n",
       "          0.00000000e+00,  0.00000000e+00,  0.00000000e+00,\n",
       "          0.00000000e+00,  0.00000000e+00,  0.00000000e+00,\n",
       "          0.00000000e+00],\n",
       "        [ 0.00000000e+00,  0.00000000e+00,  0.00000000e+00,\n",
       "          0.00000000e+00,  0.00000000e+00,  0.00000000e+00,\n",
       "          0.00000000e+00,  0.00000000e+00,  0.00000000e+00,\n",
       "          0.00000000e+00],\n",
       "        [ 4.97235201e-03,  3.64353380e-03,  3.51493849e-03,\n",
       "          4.54370097e-03,  2.70050152e-03,  3.30061297e-03,\n",
       "          3.98645463e-03,  3.21488276e-03,  3.34347807e-03,\n",
       "          6.12970980e-03],\n",
       "        [ 1.80033435e-02,  1.89892409e-02,  1.82176690e-02,\n",
       "          1.82176690e-02,  1.83891294e-02,  1.86891851e-02,\n",
       "          1.96322174e-02,  1.92892966e-02,  2.00180033e-02,\n",
       "          1.94178919e-02],\n",
       "        [ 3.21488276e-03,  2.78623173e-03,  3.21488276e-03,\n",
       "          3.12915256e-03,  2.35758069e-03,  3.94358952e-03,\n",
       "          5.01521711e-03,  2.82909683e-03,  3.90072442e-03,\n",
       "          3.77212911e-03],\n",
       "        [ 1.94178919e-02,  2.03180591e-02,  1.91178362e-02,\n",
       "          1.91178362e-02,  1.71889065e-02,  1.70603112e-02,\n",
       "          1.76604226e-02,  1.93321617e-02,  1.94607570e-02,\n",
       "          1.95464872e-02],\n",
       "        [ 5.48673325e-03,  5.22954263e-03,  4.97235201e-03,\n",
       "          5.35813794e-03,  5.52959835e-03,  5.61532856e-03,\n",
       "          4.88662180e-03,  6.12970980e-03,  4.24364525e-03,\n",
       "          5.65819366e-03],\n",
       "        [-8.87307643e-03, -1.35882378e-02, -1.36739680e-02,\n",
       "         -1.22594196e-02, -1.61601440e-02, -1.34167774e-02,\n",
       "         -1.18307686e-02, -8.74448112e-03, -9.90183891e-03,\n",
       "         -1.28166660e-02],\n",
       "        [ 3.08628745e-03,  2.74336663e-03,  3.77212911e-03,\n",
       "          2.82909683e-03,  4.24364525e-03,  2.95769214e-03,\n",
       "          3.72926401e-03,  2.57190621e-03,  4.41510566e-03,\n",
       "          3.55780359e-03],\n",
       "        [ 2.49474902e-02,  2.54190064e-02,  2.15182820e-02,\n",
       "          2.21612585e-02,  2.38329976e-02,  2.34043465e-02,\n",
       "          2.36615371e-02,  2.49903554e-02,  2.02751940e-02,\n",
       "          2.27185049e-02],\n",
       "        [ 9.21599726e-03,  1.11877920e-02,  1.16593082e-02,\n",
       "          1.07162759e-02,  9.55891808e-03,  8.57302070e-03,\n",
       "          9.13026705e-03,  9.90183891e-03,  8.65875091e-03,\n",
       "          1.13592524e-02],\n",
       "        [ 6.00111449e-03,  5.40100304e-03,  6.25830511e-03,\n",
       "          5.48673325e-03,  5.48673325e-03,  4.50083587e-03,\n",
       "          6.72982125e-03,  7.20133739e-03,  5.27240773e-03,\n",
       "          6.90128167e-03],\n",
       "        [ 8.57302070e-04,  2.48617600e-03,  1.92892966e-03,\n",
       "          2.10039007e-03,  1.50027862e-03,  2.61477131e-03,\n",
       "          1.92892966e-03,  2.44331090e-03,  2.05752497e-03,\n",
       "          1.28595311e-03],\n",
       "        [ 1.58600883e-03,  2.01465987e-03,  1.88606455e-03,\n",
       "          2.27185049e-03,  1.62887393e-03,  1.75746924e-03,\n",
       "          1.15735780e-03,  1.02876248e-03,  1.41454842e-03,\n",
       "          1.32881821e-03],\n",
       "        [-6.85841656e-04, -6.42976553e-04, -7.71571863e-04,\n",
       "         -6.85841656e-04, -6.00111449e-04, -1.11449269e-03,\n",
       "          8.57302070e-05, -1.71460414e-04, -1.71460414e-04,\n",
       "         -6.42976553e-04],\n",
       "        [ 4.90805435e-02,  4.89090831e-02,  4.77945904e-02,\n",
       "          4.89090831e-02,  4.87804878e-02,  4.81375113e-02,\n",
       "          5.11380685e-02,  4.99807107e-02,  4.95949248e-02,\n",
       "          4.74516696e-02]])}"
      ]
     },
     "execution_count": 66,
     "metadata": {},
     "output_type": "execute_result"
    }
   ],
   "source": [
    "result = permutation_importance(xgb_model, X_test, y_test, n_repeats=10, random_state=42)\n",
    "result"
   ]
  },
  {
   "cell_type": "markdown",
   "metadata": {},
   "source": [
    "Para verlo de forma más clara, lo podemos graficar de la siguiente manera:"
   ]
  },
  {
   "cell_type": "code",
   "execution_count": 67,
   "metadata": {},
   "outputs": [
    {
     "data": {
      "text/html": [
       "<div>\n",
       "<style scoped>\n",
       "    .dataframe tbody tr th:only-of-type {\n",
       "        vertical-align: middle;\n",
       "    }\n",
       "\n",
       "    .dataframe tbody tr th {\n",
       "        vertical-align: top;\n",
       "    }\n",
       "\n",
       "    .dataframe thead th {\n",
       "        text-align: right;\n",
       "    }\n",
       "</style>\n",
       "<table border=\"1\" class=\"dataframe\">\n",
       "  <thead>\n",
       "    <tr style=\"text-align: right;\">\n",
       "      <th></th>\n",
       "      <th>feature</th>\n",
       "      <th>mean</th>\n",
       "      <th>std</th>\n",
       "    </tr>\n",
       "  </thead>\n",
       "  <tbody>\n",
       "    <tr>\n",
       "      <th>0</th>\n",
       "      <td>Age</td>\n",
       "      <td>0.000000</td>\n",
       "      <td>0.000000</td>\n",
       "    </tr>\n",
       "    <tr>\n",
       "      <th>1</th>\n",
       "      <td>BMI</td>\n",
       "      <td>0.000000</td>\n",
       "      <td>0.000000</td>\n",
       "    </tr>\n",
       "    <tr>\n",
       "      <th>2</th>\n",
       "      <td>GenHlth</td>\n",
       "      <td>0.000000</td>\n",
       "      <td>0.000000</td>\n",
       "    </tr>\n",
       "    <tr>\n",
       "      <th>3</th>\n",
       "      <td>MentHlth</td>\n",
       "      <td>0.003935</td>\n",
       "      <td>0.000966</td>\n",
       "    </tr>\n",
       "    <tr>\n",
       "      <th>4</th>\n",
       "      <td>PhysHlth</td>\n",
       "      <td>0.018886</td>\n",
       "      <td>0.000652</td>\n",
       "    </tr>\n",
       "    <tr>\n",
       "      <th>5</th>\n",
       "      <td>Sex</td>\n",
       "      <td>0.003416</td>\n",
       "      <td>0.000723</td>\n",
       "    </tr>\n",
       "    <tr>\n",
       "      <th>6</th>\n",
       "      <td>HighChol</td>\n",
       "      <td>0.018822</td>\n",
       "      <td>0.001053</td>\n",
       "    </tr>\n",
       "    <tr>\n",
       "      <th>7</th>\n",
       "      <td>CholCheck</td>\n",
       "      <td>0.005311</td>\n",
       "      <td>0.000490</td>\n",
       "    </tr>\n",
       "    <tr>\n",
       "      <th>8</th>\n",
       "      <td>Smoker</td>\n",
       "      <td>-0.012127</td>\n",
       "      <td>0.002237</td>\n",
       "    </tr>\n",
       "    <tr>\n",
       "      <th>9</th>\n",
       "      <td>HeartDiseaseorAttack</td>\n",
       "      <td>0.003391</td>\n",
       "      <td>0.000612</td>\n",
       "    </tr>\n",
       "    <tr>\n",
       "      <th>10</th>\n",
       "      <td>PhysActivity</td>\n",
       "      <td>0.023293</td>\n",
       "      <td>0.001564</td>\n",
       "    </tr>\n",
       "    <tr>\n",
       "      <th>11</th>\n",
       "      <td>Fruits</td>\n",
       "      <td>0.009996</td>\n",
       "      <td>0.001092</td>\n",
       "    </tr>\n",
       "    <tr>\n",
       "      <th>12</th>\n",
       "      <td>Veggies</td>\n",
       "      <td>0.005924</td>\n",
       "      <td>0.000804</td>\n",
       "    </tr>\n",
       "    <tr>\n",
       "      <th>13</th>\n",
       "      <td>HvyAlcoholConsump</td>\n",
       "      <td>0.001920</td>\n",
       "      <td>0.000533</td>\n",
       "    </tr>\n",
       "    <tr>\n",
       "      <th>14</th>\n",
       "      <td>DiffWalk</td>\n",
       "      <td>0.001607</td>\n",
       "      <td>0.000369</td>\n",
       "    </tr>\n",
       "    <tr>\n",
       "      <th>15</th>\n",
       "      <td>Stroke</td>\n",
       "      <td>-0.000540</td>\n",
       "      <td>0.000334</td>\n",
       "    </tr>\n",
       "    <tr>\n",
       "      <th>16</th>\n",
       "      <td>HighBP</td>\n",
       "      <td>0.048978</td>\n",
       "      <td>0.001027</td>\n",
       "    </tr>\n",
       "  </tbody>\n",
       "</table>\n",
       "</div>"
      ],
      "text/plain": [
       "                 feature      mean       std\n",
       "0                    Age  0.000000  0.000000\n",
       "1                    BMI  0.000000  0.000000\n",
       "2                GenHlth  0.000000  0.000000\n",
       "3               MentHlth  0.003935  0.000966\n",
       "4               PhysHlth  0.018886  0.000652\n",
       "5                    Sex  0.003416  0.000723\n",
       "6               HighChol  0.018822  0.001053\n",
       "7              CholCheck  0.005311  0.000490\n",
       "8                 Smoker -0.012127  0.002237\n",
       "9   HeartDiseaseorAttack  0.003391  0.000612\n",
       "10          PhysActivity  0.023293  0.001564\n",
       "11                Fruits  0.009996  0.001092\n",
       "12               Veggies  0.005924  0.000804\n",
       "13     HvyAlcoholConsump  0.001920  0.000533\n",
       "14              DiffWalk  0.001607  0.000369\n",
       "15                Stroke -0.000540  0.000334\n",
       "16                HighBP  0.048978  0.001027"
      ]
     },
     "execution_count": 67,
     "metadata": {},
     "output_type": "execute_result"
    }
   ],
   "source": [
    "perm_importance_df = pd.DataFrame({\n",
    "    'feature': xgb_model.get_booster().feature_names,\n",
    "    'mean': result.importances_mean,\n",
    "    'std': result.importances_std\n",
    "})\n",
    "\n",
    "perm_importance_df"
   ]
  },
  {
   "cell_type": "code",
   "execution_count": 68,
   "metadata": {},
   "outputs": [
    {
     "data": {
      "application/vnd.plotly.v1+json": {
       "config": {
        "plotlyServerURL": "https://plot.ly"
       },
       "data": [
        {
         "alignmentgroup": "True",
         "error_x": {
          "array": [
           0.0022365111661648623,
           0.0003337978024592819,
           0,
           0,
           0,
           0.000368864116218716,
           0.000532563332864572,
           0.0006123711749262761,
           0.0007226425907111292,
           0.0009655215894586759,
           0.0004904075082842258,
           0.0008037178333068042,
           0.0010924800461748166,
           0.0010526765308804288,
           0.0006521133441034231,
           0.001563513097528553,
           0.00102701066787047
          ]
         },
         "hovertemplate": "mean=%{x}<br>feature=%{y}<extra></extra>",
         "legendgroup": "",
         "marker": {
          "color": "#636efa",
          "pattern": {
           "shape": ""
          }
         },
         "name": "",
         "offsetgroup": "",
         "orientation": "h",
         "showlegend": false,
         "textposition": "auto",
         "type": "bar",
         "x": [
          -0.012126537785588754,
          -0.0005401003043422392,
          0,
          0,
          0,
          0.001607441381970931,
          0.001920356637661269,
          0.0033906296883707055,
          0.003416348750482234,
          0.003935016503064837,
          0.005310986326031964,
          0.005923957306356887,
          0.009996142140683261,
          0.018822066955291695,
          0.018886364610570548,
          0.023292897252346855,
          0.048977667281066485
         ],
         "xaxis": "x",
         "y": [
          "Smoker",
          "Stroke",
          "Age",
          "BMI",
          "GenHlth",
          "DiffWalk",
          "HvyAlcoholConsump",
          "HeartDiseaseorAttack",
          "Sex",
          "MentHlth",
          "CholCheck",
          "Veggies",
          "Fruits",
          "HighChol",
          "PhysHlth",
          "PhysActivity",
          "HighBP"
         ],
         "yaxis": "y"
        }
       ],
       "layout": {
        "barmode": "relative",
        "legend": {
         "tracegroupgap": 0
        },
        "margin": {
         "t": 60
        },
        "template": {
         "data": {
          "bar": [
           {
            "error_x": {
             "color": "#2a3f5f"
            },
            "error_y": {
             "color": "#2a3f5f"
            },
            "marker": {
             "line": {
              "color": "#E5ECF6",
              "width": 0.5
             },
             "pattern": {
              "fillmode": "overlay",
              "size": 10,
              "solidity": 0.2
             }
            },
            "type": "bar"
           }
          ],
          "barpolar": [
           {
            "marker": {
             "line": {
              "color": "#E5ECF6",
              "width": 0.5
             },
             "pattern": {
              "fillmode": "overlay",
              "size": 10,
              "solidity": 0.2
             }
            },
            "type": "barpolar"
           }
          ],
          "carpet": [
           {
            "aaxis": {
             "endlinecolor": "#2a3f5f",
             "gridcolor": "white",
             "linecolor": "white",
             "minorgridcolor": "white",
             "startlinecolor": "#2a3f5f"
            },
            "baxis": {
             "endlinecolor": "#2a3f5f",
             "gridcolor": "white",
             "linecolor": "white",
             "minorgridcolor": "white",
             "startlinecolor": "#2a3f5f"
            },
            "type": "carpet"
           }
          ],
          "choropleth": [
           {
            "colorbar": {
             "outlinewidth": 0,
             "ticks": ""
            },
            "type": "choropleth"
           }
          ],
          "contour": [
           {
            "colorbar": {
             "outlinewidth": 0,
             "ticks": ""
            },
            "colorscale": [
             [
              0,
              "#0d0887"
             ],
             [
              0.1111111111111111,
              "#46039f"
             ],
             [
              0.2222222222222222,
              "#7201a8"
             ],
             [
              0.3333333333333333,
              "#9c179e"
             ],
             [
              0.4444444444444444,
              "#bd3786"
             ],
             [
              0.5555555555555556,
              "#d8576b"
             ],
             [
              0.6666666666666666,
              "#ed7953"
             ],
             [
              0.7777777777777778,
              "#fb9f3a"
             ],
             [
              0.8888888888888888,
              "#fdca26"
             ],
             [
              1,
              "#f0f921"
             ]
            ],
            "type": "contour"
           }
          ],
          "contourcarpet": [
           {
            "colorbar": {
             "outlinewidth": 0,
             "ticks": ""
            },
            "type": "contourcarpet"
           }
          ],
          "heatmap": [
           {
            "colorbar": {
             "outlinewidth": 0,
             "ticks": ""
            },
            "colorscale": [
             [
              0,
              "#0d0887"
             ],
             [
              0.1111111111111111,
              "#46039f"
             ],
             [
              0.2222222222222222,
              "#7201a8"
             ],
             [
              0.3333333333333333,
              "#9c179e"
             ],
             [
              0.4444444444444444,
              "#bd3786"
             ],
             [
              0.5555555555555556,
              "#d8576b"
             ],
             [
              0.6666666666666666,
              "#ed7953"
             ],
             [
              0.7777777777777778,
              "#fb9f3a"
             ],
             [
              0.8888888888888888,
              "#fdca26"
             ],
             [
              1,
              "#f0f921"
             ]
            ],
            "type": "heatmap"
           }
          ],
          "heatmapgl": [
           {
            "colorbar": {
             "outlinewidth": 0,
             "ticks": ""
            },
            "colorscale": [
             [
              0,
              "#0d0887"
             ],
             [
              0.1111111111111111,
              "#46039f"
             ],
             [
              0.2222222222222222,
              "#7201a8"
             ],
             [
              0.3333333333333333,
              "#9c179e"
             ],
             [
              0.4444444444444444,
              "#bd3786"
             ],
             [
              0.5555555555555556,
              "#d8576b"
             ],
             [
              0.6666666666666666,
              "#ed7953"
             ],
             [
              0.7777777777777778,
              "#fb9f3a"
             ],
             [
              0.8888888888888888,
              "#fdca26"
             ],
             [
              1,
              "#f0f921"
             ]
            ],
            "type": "heatmapgl"
           }
          ],
          "histogram": [
           {
            "marker": {
             "pattern": {
              "fillmode": "overlay",
              "size": 10,
              "solidity": 0.2
             }
            },
            "type": "histogram"
           }
          ],
          "histogram2d": [
           {
            "colorbar": {
             "outlinewidth": 0,
             "ticks": ""
            },
            "colorscale": [
             [
              0,
              "#0d0887"
             ],
             [
              0.1111111111111111,
              "#46039f"
             ],
             [
              0.2222222222222222,
              "#7201a8"
             ],
             [
              0.3333333333333333,
              "#9c179e"
             ],
             [
              0.4444444444444444,
              "#bd3786"
             ],
             [
              0.5555555555555556,
              "#d8576b"
             ],
             [
              0.6666666666666666,
              "#ed7953"
             ],
             [
              0.7777777777777778,
              "#fb9f3a"
             ],
             [
              0.8888888888888888,
              "#fdca26"
             ],
             [
              1,
              "#f0f921"
             ]
            ],
            "type": "histogram2d"
           }
          ],
          "histogram2dcontour": [
           {
            "colorbar": {
             "outlinewidth": 0,
             "ticks": ""
            },
            "colorscale": [
             [
              0,
              "#0d0887"
             ],
             [
              0.1111111111111111,
              "#46039f"
             ],
             [
              0.2222222222222222,
              "#7201a8"
             ],
             [
              0.3333333333333333,
              "#9c179e"
             ],
             [
              0.4444444444444444,
              "#bd3786"
             ],
             [
              0.5555555555555556,
              "#d8576b"
             ],
             [
              0.6666666666666666,
              "#ed7953"
             ],
             [
              0.7777777777777778,
              "#fb9f3a"
             ],
             [
              0.8888888888888888,
              "#fdca26"
             ],
             [
              1,
              "#f0f921"
             ]
            ],
            "type": "histogram2dcontour"
           }
          ],
          "mesh3d": [
           {
            "colorbar": {
             "outlinewidth": 0,
             "ticks": ""
            },
            "type": "mesh3d"
           }
          ],
          "parcoords": [
           {
            "line": {
             "colorbar": {
              "outlinewidth": 0,
              "ticks": ""
             }
            },
            "type": "parcoords"
           }
          ],
          "pie": [
           {
            "automargin": true,
            "type": "pie"
           }
          ],
          "scatter": [
           {
            "fillpattern": {
             "fillmode": "overlay",
             "size": 10,
             "solidity": 0.2
            },
            "type": "scatter"
           }
          ],
          "scatter3d": [
           {
            "line": {
             "colorbar": {
              "outlinewidth": 0,
              "ticks": ""
             }
            },
            "marker": {
             "colorbar": {
              "outlinewidth": 0,
              "ticks": ""
             }
            },
            "type": "scatter3d"
           }
          ],
          "scattercarpet": [
           {
            "marker": {
             "colorbar": {
              "outlinewidth": 0,
              "ticks": ""
             }
            },
            "type": "scattercarpet"
           }
          ],
          "scattergeo": [
           {
            "marker": {
             "colorbar": {
              "outlinewidth": 0,
              "ticks": ""
             }
            },
            "type": "scattergeo"
           }
          ],
          "scattergl": [
           {
            "marker": {
             "colorbar": {
              "outlinewidth": 0,
              "ticks": ""
             }
            },
            "type": "scattergl"
           }
          ],
          "scattermapbox": [
           {
            "marker": {
             "colorbar": {
              "outlinewidth": 0,
              "ticks": ""
             }
            },
            "type": "scattermapbox"
           }
          ],
          "scatterpolar": [
           {
            "marker": {
             "colorbar": {
              "outlinewidth": 0,
              "ticks": ""
             }
            },
            "type": "scatterpolar"
           }
          ],
          "scatterpolargl": [
           {
            "marker": {
             "colorbar": {
              "outlinewidth": 0,
              "ticks": ""
             }
            },
            "type": "scatterpolargl"
           }
          ],
          "scatterternary": [
           {
            "marker": {
             "colorbar": {
              "outlinewidth": 0,
              "ticks": ""
             }
            },
            "type": "scatterternary"
           }
          ],
          "surface": [
           {
            "colorbar": {
             "outlinewidth": 0,
             "ticks": ""
            },
            "colorscale": [
             [
              0,
              "#0d0887"
             ],
             [
              0.1111111111111111,
              "#46039f"
             ],
             [
              0.2222222222222222,
              "#7201a8"
             ],
             [
              0.3333333333333333,
              "#9c179e"
             ],
             [
              0.4444444444444444,
              "#bd3786"
             ],
             [
              0.5555555555555556,
              "#d8576b"
             ],
             [
              0.6666666666666666,
              "#ed7953"
             ],
             [
              0.7777777777777778,
              "#fb9f3a"
             ],
             [
              0.8888888888888888,
              "#fdca26"
             ],
             [
              1,
              "#f0f921"
             ]
            ],
            "type": "surface"
           }
          ],
          "table": [
           {
            "cells": {
             "fill": {
              "color": "#EBF0F8"
             },
             "line": {
              "color": "white"
             }
            },
            "header": {
             "fill": {
              "color": "#C8D4E3"
             },
             "line": {
              "color": "white"
             }
            },
            "type": "table"
           }
          ]
         },
         "layout": {
          "annotationdefaults": {
           "arrowcolor": "#2a3f5f",
           "arrowhead": 0,
           "arrowwidth": 1
          },
          "autotypenumbers": "strict",
          "coloraxis": {
           "colorbar": {
            "outlinewidth": 0,
            "ticks": ""
           }
          },
          "colorscale": {
           "diverging": [
            [
             0,
             "#8e0152"
            ],
            [
             0.1,
             "#c51b7d"
            ],
            [
             0.2,
             "#de77ae"
            ],
            [
             0.3,
             "#f1b6da"
            ],
            [
             0.4,
             "#fde0ef"
            ],
            [
             0.5,
             "#f7f7f7"
            ],
            [
             0.6,
             "#e6f5d0"
            ],
            [
             0.7,
             "#b8e186"
            ],
            [
             0.8,
             "#7fbc41"
            ],
            [
             0.9,
             "#4d9221"
            ],
            [
             1,
             "#276419"
            ]
           ],
           "sequential": [
            [
             0,
             "#0d0887"
            ],
            [
             0.1111111111111111,
             "#46039f"
            ],
            [
             0.2222222222222222,
             "#7201a8"
            ],
            [
             0.3333333333333333,
             "#9c179e"
            ],
            [
             0.4444444444444444,
             "#bd3786"
            ],
            [
             0.5555555555555556,
             "#d8576b"
            ],
            [
             0.6666666666666666,
             "#ed7953"
            ],
            [
             0.7777777777777778,
             "#fb9f3a"
            ],
            [
             0.8888888888888888,
             "#fdca26"
            ],
            [
             1,
             "#f0f921"
            ]
           ],
           "sequentialminus": [
            [
             0,
             "#0d0887"
            ],
            [
             0.1111111111111111,
             "#46039f"
            ],
            [
             0.2222222222222222,
             "#7201a8"
            ],
            [
             0.3333333333333333,
             "#9c179e"
            ],
            [
             0.4444444444444444,
             "#bd3786"
            ],
            [
             0.5555555555555556,
             "#d8576b"
            ],
            [
             0.6666666666666666,
             "#ed7953"
            ],
            [
             0.7777777777777778,
             "#fb9f3a"
            ],
            [
             0.8888888888888888,
             "#fdca26"
            ],
            [
             1,
             "#f0f921"
            ]
           ]
          },
          "colorway": [
           "#636efa",
           "#EF553B",
           "#00cc96",
           "#ab63fa",
           "#FFA15A",
           "#19d3f3",
           "#FF6692",
           "#B6E880",
           "#FF97FF",
           "#FECB52"
          ],
          "font": {
           "color": "#2a3f5f"
          },
          "geo": {
           "bgcolor": "white",
           "lakecolor": "white",
           "landcolor": "#E5ECF6",
           "showlakes": true,
           "showland": true,
           "subunitcolor": "white"
          },
          "hoverlabel": {
           "align": "left"
          },
          "hovermode": "closest",
          "mapbox": {
           "style": "light"
          },
          "paper_bgcolor": "white",
          "plot_bgcolor": "#E5ECF6",
          "polar": {
           "angularaxis": {
            "gridcolor": "white",
            "linecolor": "white",
            "ticks": ""
           },
           "bgcolor": "#E5ECF6",
           "radialaxis": {
            "gridcolor": "white",
            "linecolor": "white",
            "ticks": ""
           }
          },
          "scene": {
           "xaxis": {
            "backgroundcolor": "#E5ECF6",
            "gridcolor": "white",
            "gridwidth": 2,
            "linecolor": "white",
            "showbackground": true,
            "ticks": "",
            "zerolinecolor": "white"
           },
           "yaxis": {
            "backgroundcolor": "#E5ECF6",
            "gridcolor": "white",
            "gridwidth": 2,
            "linecolor": "white",
            "showbackground": true,
            "ticks": "",
            "zerolinecolor": "white"
           },
           "zaxis": {
            "backgroundcolor": "#E5ECF6",
            "gridcolor": "white",
            "gridwidth": 2,
            "linecolor": "white",
            "showbackground": true,
            "ticks": "",
            "zerolinecolor": "white"
           }
          },
          "shapedefaults": {
           "line": {
            "color": "#2a3f5f"
           }
          },
          "ternary": {
           "aaxis": {
            "gridcolor": "white",
            "linecolor": "white",
            "ticks": ""
           },
           "baxis": {
            "gridcolor": "white",
            "linecolor": "white",
            "ticks": ""
           },
           "bgcolor": "#E5ECF6",
           "caxis": {
            "gridcolor": "white",
            "linecolor": "white",
            "ticks": ""
           }
          },
          "title": {
           "x": 0.05
          },
          "xaxis": {
           "automargin": true,
           "gridcolor": "white",
           "linecolor": "white",
           "ticks": "",
           "title": {
            "standoff": 15
           },
           "zerolinecolor": "white",
           "zerolinewidth": 2
          },
          "yaxis": {
           "automargin": true,
           "gridcolor": "white",
           "linecolor": "white",
           "ticks": "",
           "title": {
            "standoff": 15
           },
           "zerolinecolor": "white",
           "zerolinewidth": 2
          }
         }
        },
        "title": {
         "text": "Gráfico PDP \"mean\" y \"std\""
        },
        "xaxis": {
         "anchor": "y",
         "domain": [
          0,
          1
         ],
         "title": {
          "text": "Error"
         }
        },
        "yaxis": {
         "anchor": "x",
         "domain": [
          0,
          1
         ],
         "title": {
          "text": "Feature"
         }
        }
       }
      }
     },
     "metadata": {},
     "output_type": "display_data"
    }
   ],
   "source": [
    "import plotly.express as px\n",
    "\n",
    "perm_importance_df = perm_importance_df.sort_values(by='mean', ascending=True)\n",
    "fig = px.bar(perm_importance_df, x='mean', y='feature', orientation='h', error_x='std')\n",
    "fig.update_layout(title='Gráfico PDP \"mean\" y \"std\"', xaxis_title='Error', yaxis_title='Feature')\n",
    "fig.show()"
   ]
  },
  {
   "cell_type": "markdown",
   "metadata": {},
   "source": [
    "**2. Más repeticiones y `std`**"
   ]
  },
  {
   "cell_type": "code",
   "execution_count": 44,
   "metadata": {},
   "outputs": [],
   "source": [
    "result = permutation_importance(xgb_model, X_test, y_test, n_repeats=30, random_state=42)"
   ]
  },
  {
   "cell_type": "code",
   "execution_count": 45,
   "metadata": {},
   "outputs": [
    {
     "data": {
      "text/html": [
       "<div>\n",
       "<style scoped>\n",
       "    .dataframe tbody tr th:only-of-type {\n",
       "        vertical-align: middle;\n",
       "    }\n",
       "\n",
       "    .dataframe tbody tr th {\n",
       "        vertical-align: top;\n",
       "    }\n",
       "\n",
       "    .dataframe thead th {\n",
       "        text-align: right;\n",
       "    }\n",
       "</style>\n",
       "<table border=\"1\" class=\"dataframe\">\n",
       "  <thead>\n",
       "    <tr style=\"text-align: right;\">\n",
       "      <th></th>\n",
       "      <th>feature</th>\n",
       "      <th>mean</th>\n",
       "      <th>std</th>\n",
       "    </tr>\n",
       "  </thead>\n",
       "  <tbody>\n",
       "    <tr>\n",
       "      <th>0</th>\n",
       "      <td>Age</td>\n",
       "      <td>0.000000</td>\n",
       "      <td>0.000000</td>\n",
       "    </tr>\n",
       "    <tr>\n",
       "      <th>1</th>\n",
       "      <td>BMI</td>\n",
       "      <td>0.000000</td>\n",
       "      <td>0.000000</td>\n",
       "    </tr>\n",
       "    <tr>\n",
       "      <th>2</th>\n",
       "      <td>GenHlth</td>\n",
       "      <td>0.000000</td>\n",
       "      <td>0.000000</td>\n",
       "    </tr>\n",
       "    <tr>\n",
       "      <th>3</th>\n",
       "      <td>MentHlth</td>\n",
       "      <td>0.004114</td>\n",
       "      <td>0.001037</td>\n",
       "    </tr>\n",
       "    <tr>\n",
       "      <th>4</th>\n",
       "      <td>PhysHlth</td>\n",
       "      <td>0.018269</td>\n",
       "      <td>0.001624</td>\n",
       "    </tr>\n",
       "    <tr>\n",
       "      <th>5</th>\n",
       "      <td>Sex</td>\n",
       "      <td>0.003438</td>\n",
       "      <td>0.000743</td>\n",
       "    </tr>\n",
       "    <tr>\n",
       "      <th>6</th>\n",
       "      <td>HighChol</td>\n",
       "      <td>0.018959</td>\n",
       "      <td>0.001157</td>\n",
       "    </tr>\n",
       "    <tr>\n",
       "      <th>7</th>\n",
       "      <td>CholCheck</td>\n",
       "      <td>0.005287</td>\n",
       "      <td>0.000485</td>\n",
       "    </tr>\n",
       "    <tr>\n",
       "      <th>8</th>\n",
       "      <td>Smoker</td>\n",
       "      <td>-0.012331</td>\n",
       "      <td>0.001999</td>\n",
       "    </tr>\n",
       "    <tr>\n",
       "      <th>9</th>\n",
       "      <td>HeartDiseaseorAttack</td>\n",
       "      <td>0.003459</td>\n",
       "      <td>0.000696</td>\n",
       "    </tr>\n",
       "    <tr>\n",
       "      <th>10</th>\n",
       "      <td>PhysActivity</td>\n",
       "      <td>0.022831</td>\n",
       "      <td>0.001345</td>\n",
       "    </tr>\n",
       "    <tr>\n",
       "      <th>11</th>\n",
       "      <td>Fruits</td>\n",
       "      <td>0.009943</td>\n",
       "      <td>0.001111</td>\n",
       "    </tr>\n",
       "    <tr>\n",
       "      <th>12</th>\n",
       "      <td>Veggies</td>\n",
       "      <td>0.006043</td>\n",
       "      <td>0.001022</td>\n",
       "    </tr>\n",
       "    <tr>\n",
       "      <th>13</th>\n",
       "      <td>HvyAlcoholConsump</td>\n",
       "      <td>0.001695</td>\n",
       "      <td>0.000506</td>\n",
       "    </tr>\n",
       "    <tr>\n",
       "      <th>14</th>\n",
       "      <td>DiffWalk</td>\n",
       "      <td>0.001770</td>\n",
       "      <td>0.000580</td>\n",
       "    </tr>\n",
       "    <tr>\n",
       "      <th>15</th>\n",
       "      <td>Stroke</td>\n",
       "      <td>-0.000632</td>\n",
       "      <td>0.000424</td>\n",
       "    </tr>\n",
       "    <tr>\n",
       "      <th>16</th>\n",
       "      <td>HighBP</td>\n",
       "      <td>0.049229</td>\n",
       "      <td>0.001835</td>\n",
       "    </tr>\n",
       "  </tbody>\n",
       "</table>\n",
       "</div>"
      ],
      "text/plain": [
       "                 feature      mean       std\n",
       "0                    Age  0.000000  0.000000\n",
       "1                    BMI  0.000000  0.000000\n",
       "2                GenHlth  0.000000  0.000000\n",
       "3               MentHlth  0.004114  0.001037\n",
       "4               PhysHlth  0.018269  0.001624\n",
       "5                    Sex  0.003438  0.000743\n",
       "6               HighChol  0.018959  0.001157\n",
       "7              CholCheck  0.005287  0.000485\n",
       "8                 Smoker -0.012331  0.001999\n",
       "9   HeartDiseaseorAttack  0.003459  0.000696\n",
       "10          PhysActivity  0.022831  0.001345\n",
       "11                Fruits  0.009943  0.001111\n",
       "12               Veggies  0.006043  0.001022\n",
       "13     HvyAlcoholConsump  0.001695  0.000506\n",
       "14              DiffWalk  0.001770  0.000580\n",
       "15                Stroke -0.000632  0.000424\n",
       "16                HighBP  0.049229  0.001835"
      ]
     },
     "execution_count": 45,
     "metadata": {},
     "output_type": "execute_result"
    }
   ],
   "source": [
    "perm_importance_df = pd.DataFrame({\n",
    "    'feature': xgb_model.get_booster().feature_names,\n",
    "    'mean': result.importances_mean,\n",
    "    'std': result.importances_std\n",
    "})\n",
    "\n",
    "perm_importance_df"
   ]
  },
  {
   "cell_type": "markdown",
   "metadata": {},
   "source": [
    "**3. Visualización en gráfico**"
   ]
  },
  {
   "cell_type": "code",
   "execution_count": 46,
   "metadata": {},
   "outputs": [
    {
     "data": {
      "application/vnd.plotly.v1+json": {
       "config": {
        "plotlyServerURL": "https://plot.ly"
       },
       "data": [
        {
         "alignmentgroup": "True",
         "error_x": {
          "array": [
           0.0019990749182798194,
           0.00042404447942063274,
           0,
           0,
           0,
           0.0005064294244286841,
           0.0005795672696061201,
           0.0007432204100825862,
           0.0006955207037098242,
           0.0010366789377855012,
           0.0004852578790716331,
           0.0010223414556689617,
           0.0011107209579412805,
           0.00162399353700847,
           0.0011566775746548006,
           0.0013454674029125394,
           0.0018351649473846688
          ]
         },
         "hovertemplate": "mean=%{x}<br>feature=%{y}<extra></extra>",
         "legendgroup": "",
         "marker": {
          "color": "#636efa",
          "pattern": {
           "shape": ""
          }
         },
         "name": "",
         "offsetgroup": "",
         "orientation": "h",
         "showlegend": false,
         "textposition": "auto",
         "type": "bar",
         "x": [
          -0.012330861445697054,
          -0.0006315458585165912,
          0,
          0,
          0,
          0.0016946004257933577,
          0.0017703287753439878,
          0.003437781302241838,
          0.003459213854001453,
          0.004113621101061623,
          0.005286696100704413,
          0.006042550759426746,
          0.009943275179676215,
          0.0182691071198937,
          0.01895923528655322,
          0.0228313829711232,
          0.04922914255504594
         ],
         "xaxis": "x",
         "y": [
          "Smoker",
          "Stroke",
          "Age",
          "BMI",
          "GenHlth",
          "HvyAlcoholConsump",
          "DiffWalk",
          "Sex",
          "HeartDiseaseorAttack",
          "MentHlth",
          "CholCheck",
          "Veggies",
          "Fruits",
          "PhysHlth",
          "HighChol",
          "PhysActivity",
          "HighBP"
         ],
         "yaxis": "y"
        }
       ],
       "layout": {
        "barmode": "relative",
        "legend": {
         "tracegroupgap": 0
        },
        "margin": {
         "t": 60
        },
        "template": {
         "data": {
          "bar": [
           {
            "error_x": {
             "color": "#2a3f5f"
            },
            "error_y": {
             "color": "#2a3f5f"
            },
            "marker": {
             "line": {
              "color": "#E5ECF6",
              "width": 0.5
             },
             "pattern": {
              "fillmode": "overlay",
              "size": 10,
              "solidity": 0.2
             }
            },
            "type": "bar"
           }
          ],
          "barpolar": [
           {
            "marker": {
             "line": {
              "color": "#E5ECF6",
              "width": 0.5
             },
             "pattern": {
              "fillmode": "overlay",
              "size": 10,
              "solidity": 0.2
             }
            },
            "type": "barpolar"
           }
          ],
          "carpet": [
           {
            "aaxis": {
             "endlinecolor": "#2a3f5f",
             "gridcolor": "white",
             "linecolor": "white",
             "minorgridcolor": "white",
             "startlinecolor": "#2a3f5f"
            },
            "baxis": {
             "endlinecolor": "#2a3f5f",
             "gridcolor": "white",
             "linecolor": "white",
             "minorgridcolor": "white",
             "startlinecolor": "#2a3f5f"
            },
            "type": "carpet"
           }
          ],
          "choropleth": [
           {
            "colorbar": {
             "outlinewidth": 0,
             "ticks": ""
            },
            "type": "choropleth"
           }
          ],
          "contour": [
           {
            "colorbar": {
             "outlinewidth": 0,
             "ticks": ""
            },
            "colorscale": [
             [
              0,
              "#0d0887"
             ],
             [
              0.1111111111111111,
              "#46039f"
             ],
             [
              0.2222222222222222,
              "#7201a8"
             ],
             [
              0.3333333333333333,
              "#9c179e"
             ],
             [
              0.4444444444444444,
              "#bd3786"
             ],
             [
              0.5555555555555556,
              "#d8576b"
             ],
             [
              0.6666666666666666,
              "#ed7953"
             ],
             [
              0.7777777777777778,
              "#fb9f3a"
             ],
             [
              0.8888888888888888,
              "#fdca26"
             ],
             [
              1,
              "#f0f921"
             ]
            ],
            "type": "contour"
           }
          ],
          "contourcarpet": [
           {
            "colorbar": {
             "outlinewidth": 0,
             "ticks": ""
            },
            "type": "contourcarpet"
           }
          ],
          "heatmap": [
           {
            "colorbar": {
             "outlinewidth": 0,
             "ticks": ""
            },
            "colorscale": [
             [
              0,
              "#0d0887"
             ],
             [
              0.1111111111111111,
              "#46039f"
             ],
             [
              0.2222222222222222,
              "#7201a8"
             ],
             [
              0.3333333333333333,
              "#9c179e"
             ],
             [
              0.4444444444444444,
              "#bd3786"
             ],
             [
              0.5555555555555556,
              "#d8576b"
             ],
             [
              0.6666666666666666,
              "#ed7953"
             ],
             [
              0.7777777777777778,
              "#fb9f3a"
             ],
             [
              0.8888888888888888,
              "#fdca26"
             ],
             [
              1,
              "#f0f921"
             ]
            ],
            "type": "heatmap"
           }
          ],
          "heatmapgl": [
           {
            "colorbar": {
             "outlinewidth": 0,
             "ticks": ""
            },
            "colorscale": [
             [
              0,
              "#0d0887"
             ],
             [
              0.1111111111111111,
              "#46039f"
             ],
             [
              0.2222222222222222,
              "#7201a8"
             ],
             [
              0.3333333333333333,
              "#9c179e"
             ],
             [
              0.4444444444444444,
              "#bd3786"
             ],
             [
              0.5555555555555556,
              "#d8576b"
             ],
             [
              0.6666666666666666,
              "#ed7953"
             ],
             [
              0.7777777777777778,
              "#fb9f3a"
             ],
             [
              0.8888888888888888,
              "#fdca26"
             ],
             [
              1,
              "#f0f921"
             ]
            ],
            "type": "heatmapgl"
           }
          ],
          "histogram": [
           {
            "marker": {
             "pattern": {
              "fillmode": "overlay",
              "size": 10,
              "solidity": 0.2
             }
            },
            "type": "histogram"
           }
          ],
          "histogram2d": [
           {
            "colorbar": {
             "outlinewidth": 0,
             "ticks": ""
            },
            "colorscale": [
             [
              0,
              "#0d0887"
             ],
             [
              0.1111111111111111,
              "#46039f"
             ],
             [
              0.2222222222222222,
              "#7201a8"
             ],
             [
              0.3333333333333333,
              "#9c179e"
             ],
             [
              0.4444444444444444,
              "#bd3786"
             ],
             [
              0.5555555555555556,
              "#d8576b"
             ],
             [
              0.6666666666666666,
              "#ed7953"
             ],
             [
              0.7777777777777778,
              "#fb9f3a"
             ],
             [
              0.8888888888888888,
              "#fdca26"
             ],
             [
              1,
              "#f0f921"
             ]
            ],
            "type": "histogram2d"
           }
          ],
          "histogram2dcontour": [
           {
            "colorbar": {
             "outlinewidth": 0,
             "ticks": ""
            },
            "colorscale": [
             [
              0,
              "#0d0887"
             ],
             [
              0.1111111111111111,
              "#46039f"
             ],
             [
              0.2222222222222222,
              "#7201a8"
             ],
             [
              0.3333333333333333,
              "#9c179e"
             ],
             [
              0.4444444444444444,
              "#bd3786"
             ],
             [
              0.5555555555555556,
              "#d8576b"
             ],
             [
              0.6666666666666666,
              "#ed7953"
             ],
             [
              0.7777777777777778,
              "#fb9f3a"
             ],
             [
              0.8888888888888888,
              "#fdca26"
             ],
             [
              1,
              "#f0f921"
             ]
            ],
            "type": "histogram2dcontour"
           }
          ],
          "mesh3d": [
           {
            "colorbar": {
             "outlinewidth": 0,
             "ticks": ""
            },
            "type": "mesh3d"
           }
          ],
          "parcoords": [
           {
            "line": {
             "colorbar": {
              "outlinewidth": 0,
              "ticks": ""
             }
            },
            "type": "parcoords"
           }
          ],
          "pie": [
           {
            "automargin": true,
            "type": "pie"
           }
          ],
          "scatter": [
           {
            "fillpattern": {
             "fillmode": "overlay",
             "size": 10,
             "solidity": 0.2
            },
            "type": "scatter"
           }
          ],
          "scatter3d": [
           {
            "line": {
             "colorbar": {
              "outlinewidth": 0,
              "ticks": ""
             }
            },
            "marker": {
             "colorbar": {
              "outlinewidth": 0,
              "ticks": ""
             }
            },
            "type": "scatter3d"
           }
          ],
          "scattercarpet": [
           {
            "marker": {
             "colorbar": {
              "outlinewidth": 0,
              "ticks": ""
             }
            },
            "type": "scattercarpet"
           }
          ],
          "scattergeo": [
           {
            "marker": {
             "colorbar": {
              "outlinewidth": 0,
              "ticks": ""
             }
            },
            "type": "scattergeo"
           }
          ],
          "scattergl": [
           {
            "marker": {
             "colorbar": {
              "outlinewidth": 0,
              "ticks": ""
             }
            },
            "type": "scattergl"
           }
          ],
          "scattermapbox": [
           {
            "marker": {
             "colorbar": {
              "outlinewidth": 0,
              "ticks": ""
             }
            },
            "type": "scattermapbox"
           }
          ],
          "scatterpolar": [
           {
            "marker": {
             "colorbar": {
              "outlinewidth": 0,
              "ticks": ""
             }
            },
            "type": "scatterpolar"
           }
          ],
          "scatterpolargl": [
           {
            "marker": {
             "colorbar": {
              "outlinewidth": 0,
              "ticks": ""
             }
            },
            "type": "scatterpolargl"
           }
          ],
          "scatterternary": [
           {
            "marker": {
             "colorbar": {
              "outlinewidth": 0,
              "ticks": ""
             }
            },
            "type": "scatterternary"
           }
          ],
          "surface": [
           {
            "colorbar": {
             "outlinewidth": 0,
             "ticks": ""
            },
            "colorscale": [
             [
              0,
              "#0d0887"
             ],
             [
              0.1111111111111111,
              "#46039f"
             ],
             [
              0.2222222222222222,
              "#7201a8"
             ],
             [
              0.3333333333333333,
              "#9c179e"
             ],
             [
              0.4444444444444444,
              "#bd3786"
             ],
             [
              0.5555555555555556,
              "#d8576b"
             ],
             [
              0.6666666666666666,
              "#ed7953"
             ],
             [
              0.7777777777777778,
              "#fb9f3a"
             ],
             [
              0.8888888888888888,
              "#fdca26"
             ],
             [
              1,
              "#f0f921"
             ]
            ],
            "type": "surface"
           }
          ],
          "table": [
           {
            "cells": {
             "fill": {
              "color": "#EBF0F8"
             },
             "line": {
              "color": "white"
             }
            },
            "header": {
             "fill": {
              "color": "#C8D4E3"
             },
             "line": {
              "color": "white"
             }
            },
            "type": "table"
           }
          ]
         },
         "layout": {
          "annotationdefaults": {
           "arrowcolor": "#2a3f5f",
           "arrowhead": 0,
           "arrowwidth": 1
          },
          "autotypenumbers": "strict",
          "coloraxis": {
           "colorbar": {
            "outlinewidth": 0,
            "ticks": ""
           }
          },
          "colorscale": {
           "diverging": [
            [
             0,
             "#8e0152"
            ],
            [
             0.1,
             "#c51b7d"
            ],
            [
             0.2,
             "#de77ae"
            ],
            [
             0.3,
             "#f1b6da"
            ],
            [
             0.4,
             "#fde0ef"
            ],
            [
             0.5,
             "#f7f7f7"
            ],
            [
             0.6,
             "#e6f5d0"
            ],
            [
             0.7,
             "#b8e186"
            ],
            [
             0.8,
             "#7fbc41"
            ],
            [
             0.9,
             "#4d9221"
            ],
            [
             1,
             "#276419"
            ]
           ],
           "sequential": [
            [
             0,
             "#0d0887"
            ],
            [
             0.1111111111111111,
             "#46039f"
            ],
            [
             0.2222222222222222,
             "#7201a8"
            ],
            [
             0.3333333333333333,
             "#9c179e"
            ],
            [
             0.4444444444444444,
             "#bd3786"
            ],
            [
             0.5555555555555556,
             "#d8576b"
            ],
            [
             0.6666666666666666,
             "#ed7953"
            ],
            [
             0.7777777777777778,
             "#fb9f3a"
            ],
            [
             0.8888888888888888,
             "#fdca26"
            ],
            [
             1,
             "#f0f921"
            ]
           ],
           "sequentialminus": [
            [
             0,
             "#0d0887"
            ],
            [
             0.1111111111111111,
             "#46039f"
            ],
            [
             0.2222222222222222,
             "#7201a8"
            ],
            [
             0.3333333333333333,
             "#9c179e"
            ],
            [
             0.4444444444444444,
             "#bd3786"
            ],
            [
             0.5555555555555556,
             "#d8576b"
            ],
            [
             0.6666666666666666,
             "#ed7953"
            ],
            [
             0.7777777777777778,
             "#fb9f3a"
            ],
            [
             0.8888888888888888,
             "#fdca26"
            ],
            [
             1,
             "#f0f921"
            ]
           ]
          },
          "colorway": [
           "#636efa",
           "#EF553B",
           "#00cc96",
           "#ab63fa",
           "#FFA15A",
           "#19d3f3",
           "#FF6692",
           "#B6E880",
           "#FF97FF",
           "#FECB52"
          ],
          "font": {
           "color": "#2a3f5f"
          },
          "geo": {
           "bgcolor": "white",
           "lakecolor": "white",
           "landcolor": "#E5ECF6",
           "showlakes": true,
           "showland": true,
           "subunitcolor": "white"
          },
          "hoverlabel": {
           "align": "left"
          },
          "hovermode": "closest",
          "mapbox": {
           "style": "light"
          },
          "paper_bgcolor": "white",
          "plot_bgcolor": "#E5ECF6",
          "polar": {
           "angularaxis": {
            "gridcolor": "white",
            "linecolor": "white",
            "ticks": ""
           },
           "bgcolor": "#E5ECF6",
           "radialaxis": {
            "gridcolor": "white",
            "linecolor": "white",
            "ticks": ""
           }
          },
          "scene": {
           "xaxis": {
            "backgroundcolor": "#E5ECF6",
            "gridcolor": "white",
            "gridwidth": 2,
            "linecolor": "white",
            "showbackground": true,
            "ticks": "",
            "zerolinecolor": "white"
           },
           "yaxis": {
            "backgroundcolor": "#E5ECF6",
            "gridcolor": "white",
            "gridwidth": 2,
            "linecolor": "white",
            "showbackground": true,
            "ticks": "",
            "zerolinecolor": "white"
           },
           "zaxis": {
            "backgroundcolor": "#E5ECF6",
            "gridcolor": "white",
            "gridwidth": 2,
            "linecolor": "white",
            "showbackground": true,
            "ticks": "",
            "zerolinecolor": "white"
           }
          },
          "shapedefaults": {
           "line": {
            "color": "#2a3f5f"
           }
          },
          "ternary": {
           "aaxis": {
            "gridcolor": "white",
            "linecolor": "white",
            "ticks": ""
           },
           "baxis": {
            "gridcolor": "white",
            "linecolor": "white",
            "ticks": ""
           },
           "bgcolor": "#E5ECF6",
           "caxis": {
            "gridcolor": "white",
            "linecolor": "white",
            "ticks": ""
           }
          },
          "title": {
           "x": 0.05
          },
          "xaxis": {
           "automargin": true,
           "gridcolor": "white",
           "linecolor": "white",
           "ticks": "",
           "title": {
            "standoff": 15
           },
           "zerolinecolor": "white",
           "zerolinewidth": 2
          },
          "yaxis": {
           "automargin": true,
           "gridcolor": "white",
           "linecolor": "white",
           "ticks": "",
           "title": {
            "standoff": 15
           },
           "zerolinecolor": "white",
           "zerolinewidth": 2
          }
         }
        },
        "title": {
         "text": "Gráfico PDP \"mean\" y \"std\""
        },
        "xaxis": {
         "anchor": "y",
         "domain": [
          0,
          1
         ],
         "title": {
          "text": "Error"
         }
        },
        "yaxis": {
         "anchor": "x",
         "domain": [
          0,
          1
         ],
         "title": {
          "text": "Feature"
         }
        }
       }
      }
     },
     "metadata": {},
     "output_type": "display_data"
    }
   ],
   "source": [
    "perm_importance_df = perm_importance_df.sort_values(by='mean', ascending=True)\n",
    "fig = px.bar(perm_importance_df, x='mean', y='feature', orientation='h', error_x='std')\n",
    "fig.update_layout(title='Gráfico PDP \"mean\" y \"std\"', xaxis_title='Error', yaxis_title='Feature')\n",
    "fig.show()"
   ]
  },
  {
   "cell_type": "markdown",
   "metadata": {},
   "source": [
    "Si comparamos ambos procesos (uno con 10 repeticiones y el otro con 30), podemos notar que tanto el promedio como la desviación estándar varían. La desviación estándar en los resultados de la importancia de características por permutación indica la consistencia del impacto de cada característica en la precisión del modelo a través de las repeticiones. Una desviación estándar baja sugiere que el cambio en la precisión debido a la permutación de esa característica es estable y predecible en múltiples ejecuciones, lo cual da confianza en la importancia de esa característica. Por otro lado, una desviación estándar alta señalaría que la importancia de la característica es menos consistente y puede variar, lo que podría indicar que su impacto depende de la interacción con otras variables o de la variabilidad en el conjunto de datos. En este caso, en general la desviación es baja. "
   ]
  },
  {
   "cell_type": "markdown",
   "metadata": {},
   "source": [
    "**4. Respuesta a algunas preguntas**"
   ]
  },
  {
   "cell_type": "markdown",
   "metadata": {},
   "source": [
    "**¿Cómo mide la importancia de las features su propuesta?**\n",
    "\n",
    "Para este caso, la importancia de las *features* se mide a través del métod de permutación, en donde en cada iteración se reorganizan los valores de esa columna y se ve el impacto que este cambio tiene sobre el desempeño del modelo. Si se tiene unamayor pérdida de rendimiento al hacer estas permutaciones para una cierta característica, entonces esta es importante en el modelo, ya que de ella depende en mayor medida el modelo para realizar las predicciones."
   ]
  },
  {
   "cell_type": "markdown",
   "metadata": {},
   "source": [
    "**¿Qué features tienen un mayor impacto en la salida del modelo?. Comente las 5 primeras, ¿tienen sentido?**\n",
    "\n",
    "Las 5 primeras *features* que tienen más impacto en el modelo son:\n",
    "\n",
    "1. `HighBP`: Indica si la persona tiene ($1$) o no ($0$) la presión sanguínea alta.\n",
    "2. `PhysActivity`: Indica si la persona hace ($1$) o no ($0$) actividad física.\n",
    "3. `HighChol`: Indica si la persona hace ($1$) o no ($0$) altos niveles de colesterol.\n",
    "4. `PhysHlth`: Indica si la persona hace ($1$) o no ($0$) una buena salud física.\n",
    "5. `Fruits`: Indica si la persona consume ($1$) o no ($0$) fruta.\n",
    "\n",
    "Es importante recordar que no contamos con más información de las variables más allá del nombre y los valores que pueden tomar, por lo que, por ejemplo, no sabemos si la variable `Fruits` indica si la persona consume una porción de frutas adecuada o si es derechamente consumo de frutas en general (si come o no, no importa la cantidad). Independiente a esta incertidumbre, podemosa decir que estas variables sí tienen relación con aspectos importantes a considerar al diagnosticar el riesgo de padecer diabetes, principalmente las 4 primeras variables."
   ]
  },
  {
   "cell_type": "markdown",
   "metadata": {},
   "source": [
    "**¿Cómo cambian sus conclusiones con respecto a las features importances del punto anterior?**\n",
    "\n",
    "Si vemos los *feature importances* de los métodos anteriores y este nuevo, podemos ver los siguientes resultados:\n",
    "| Top |  `Weight`  |       `Cover`       |       `Gain`        |  `Permutation` |\n",
    "|-----|------------|---------------------|---------------------|----------------|\n",
    "| 1   | `BMI`      | `CholCheck`         | `HighBP`            | `HighBP`       |\n",
    "| 2   | `Age`      | `BMI`               | `GenHlth`           | `PhysActivity` |\n",
    "| 3   | `MentHlth` | `HvyAlcoholConsump` | `HighChol`          | `HighChol`     |\n",
    "| 4   | `PhysHlth` | `Stroke`            | `CholCheck`         | `PhysHlth`     |\n",
    "| 5   | `GenHlth`  | `GenHlth`           | `HvyAlcoholConsump` | `Fruits`       |\n",
    "\n"
   ]
  },
  {
   "cell_type": "markdown",
   "metadata": {},
   "source": [
    "**Nombre y explique 3 ventajas y 3 desventajas del método implementado.**"
   ]
  },
  {
   "cell_type": "markdown",
   "metadata": {
    "cell_id": "bd24642fe85143b9bcdae0607e0bb2f6",
    "deepnote_cell_type": "markdown",
    "id": "4lR52BoIQy7R"
   },
   "source": [
    "## 5. Métodos Agnósticos Locales (20 puntos)\n",
    "\n",
    "<p align=\"center\">\n",
    "  <img src=\"https://i.makeagif.com/media/10-24-2024/oMCrLI.gif\" width=\"400\">\n",
    "</p>"
   ]
  },
  {
   "cell_type": "markdown",
   "metadata": {
    "cell_id": "feffba3234c9428abbc9f7db957c5b64",
    "deepnote_cell_type": "markdown",
    "id": "NTeHLX8GQy7R"
   },
   "source": [
    "### 5.1 Calculando Shap Values (4 puntos)"
   ]
  },
  {
   "cell_type": "markdown",
   "metadata": {
    "cell_id": "3dd06a63b4b045c1ab3e51ac01e0fbc0",
    "deepnote_cell_type": "markdown",
    "id": "81G7bX8PQy7R"
   },
   "source": [
    "Tareas:\n",
    "1. Alegre por saber cómo funciona el modelo de predicción a nivel general, Dr. Simi le pide ahora interpretar las predicciones de su modelo a nivel de paciente (es decir, desde un punto de vista **local**). Para esto, el ilustre farmacéutico le pide calcular los *shap values* de su modelo. (2 puntos)\n",
    "2. ¿Qué representa cada número en su resultado? (1 punto)\n",
    "3. ¿Es posible atribuir un significado a la positividad/negatividad de cada valor? (1 punto)"
   ]
  },
  {
   "cell_type": "code",
   "execution_count": 21,
   "metadata": {
    "cell_id": "dada61becc854fe4830665a1e1fcfb8b",
    "deepnote_cell_type": "code",
    "deepnote_to_be_reexecuted": false,
    "execution_millis": 7982,
    "execution_start": 1686925464848,
    "id": "cahAA22RQy7R",
    "outputId": "fceb6b7c-f4c4-45da-841f-df8361edc65c",
    "source_hash": "5d97bad"
   },
   "outputs": [
    {
     "name": "stdout",
     "output_type": "stream",
     "text": [
      "Requirement already satisfied: shap in c:\\users\\lucas\\appdata\\local\\programs\\python\\python310\\lib\\site-packages (0.46.0)\n",
      "Requirement already satisfied: numpy in c:\\users\\lucas\\appdata\\local\\programs\\python\\python310\\lib\\site-packages (from shap) (1.24.4)\n",
      "Requirement already satisfied: scipy in c:\\users\\lucas\\appdata\\local\\programs\\python\\python310\\lib\\site-packages (from shap) (1.9.0)\n",
      "Requirement already satisfied: scikit-learn in c:\\users\\lucas\\appdata\\local\\programs\\python\\python310\\lib\\site-packages (from shap) (1.5.2)\n",
      "Requirement already satisfied: pandas in c:\\users\\lucas\\appdata\\local\\programs\\python\\python310\\lib\\site-packages (from shap) (2.1.4)\n",
      "Requirement already satisfied: tqdm>=4.27.0 in c:\\users\\lucas\\appdata\\local\\programs\\python\\python310\\lib\\site-packages (from shap) (4.66.5)\n",
      "Requirement already satisfied: packaging>20.9 in c:\\users\\lucas\\appdata\\local\\programs\\python\\python310\\lib\\site-packages (from shap) (24.1)\n",
      "Requirement already satisfied: slicer==0.0.8 in c:\\users\\lucas\\appdata\\local\\programs\\python\\python310\\lib\\site-packages (from shap) (0.0.8)\n",
      "Requirement already satisfied: numba in c:\\users\\lucas\\appdata\\local\\programs\\python\\python310\\lib\\site-packages (from shap) (0.60.0)\n",
      "Requirement already satisfied: cloudpickle in c:\\users\\lucas\\appdata\\local\\programs\\python\\python310\\lib\\site-packages (from shap) (3.0.0)\n",
      "Requirement already satisfied: colorama in c:\\users\\lucas\\appdata\\local\\programs\\python\\python310\\lib\\site-packages (from tqdm>=4.27.0->shap) (0.4.6)\n",
      "Requirement already satisfied: llvmlite<0.44,>=0.43.0dev0 in c:\\users\\lucas\\appdata\\local\\programs\\python\\python310\\lib\\site-packages (from numba->shap) (0.43.0)\n",
      "Requirement already satisfied: python-dateutil>=2.8.2 in c:\\users\\lucas\\appdata\\local\\programs\\python\\python310\\lib\\site-packages (from pandas->shap) (2.8.2)\n",
      "Requirement already satisfied: pytz>=2020.1 in c:\\users\\lucas\\appdata\\local\\programs\\python\\python310\\lib\\site-packages (from pandas->shap) (2022.1)\n",
      "Requirement already satisfied: tzdata>=2022.1 in c:\\users\\lucas\\appdata\\local\\programs\\python\\python310\\lib\\site-packages (from pandas->shap) (2024.1)\n",
      "Requirement already satisfied: joblib>=1.2.0 in c:\\users\\lucas\\appdata\\local\\programs\\python\\python310\\lib\\site-packages (from scikit-learn->shap) (1.3.2)\n",
      "Requirement already satisfied: threadpoolctl>=3.1.0 in c:\\users\\lucas\\appdata\\local\\programs\\python\\python310\\lib\\site-packages (from scikit-learn->shap) (3.1.0)\n",
      "Requirement already satisfied: six>=1.5 in c:\\users\\lucas\\appdata\\local\\programs\\python\\python310\\lib\\site-packages (from python-dateutil>=2.8.2->pandas->shap) (1.16.0)\n"
     ]
    }
   ],
   "source": [
    "!pip install shap"
   ]
  },
  {
   "cell_type": "code",
   "execution_count": 22,
   "metadata": {
    "cell_id": "c2d01e18bb9946579275006ac63f29f8",
    "deepnote_cell_type": "code",
    "deepnote_to_be_reexecuted": false,
    "execution_millis": 2,
    "execution_start": 1686884837621,
    "id": "S7bjY7XmQy7R",
    "source_hash": "7220fd12"
   },
   "outputs": [],
   "source": [
    "import warnings\n",
    "warnings.filterwarnings(\"ignore\", message=\".*The 'nopython' keyword.*\")"
   ]
  },
  {
   "cell_type": "markdown",
   "metadata": {},
   "source": [
    "**1. Cálculo de los *shap values***"
   ]
  },
  {
   "cell_type": "code",
   "execution_count": 28,
   "metadata": {
    "cell_id": "28773926243a4632adf4ebe7f9b23c86",
    "deepnote_cell_type": "code",
    "deepnote_to_be_reexecuted": false,
    "execution_millis": 3,
    "execution_start": 1686930931899,
    "id": "1MLhkQu0Qy7S",
    "source_hash": "7b093107"
   },
   "outputs": [
    {
     "data": {
      "text/plain": [
       ".values =\n",
       "array([[ 4.85650420e-01, -3.90606374e-03,  6.51028097e-01, ...,\n",
       "        -9.62023586e-02, -1.50870755e-02, -7.32358873e-01],\n",
       "       [ 3.14346522e-01,  4.31119800e-01,  4.62925881e-01, ...,\n",
       "        -1.85534492e-01, -2.04294780e-03,  4.80476171e-01],\n",
       "       [-2.37458006e-01,  8.50231647e-01,  7.65623748e-01, ...,\n",
       "         5.42955287e-02, -1.98525302e-02,  5.49033940e-01],\n",
       "       ...,\n",
       "       [ 4.71706867e-01, -3.05651993e-01,  4.32199389e-01, ...,\n",
       "         1.61251545e-01,  1.08980775e-01,  4.96993095e-01],\n",
       "       [ 4.87886369e-01,  1.91479158e+00,  8.05980206e-01, ...,\n",
       "         1.32388040e-01,  6.34538615e-03, -7.63138592e-01],\n",
       "       [ 5.40037632e-01,  2.23292661e+00,  4.71893132e-01, ...,\n",
       "        -2.09555835e-01, -7.70992599e-03,  5.28236568e-01]], dtype=float32)\n",
       "\n",
       ".base_values =\n",
       "array([-0.0023599, -0.0023599, -0.0023599, ..., -0.0023599, -0.0023599,\n",
       "       -0.0023599], dtype=float32)\n",
       "\n",
       ".data =\n",
       "array([[ 5., 24.,  1., ...,  0.,  0.,  0.],\n",
       "       [11., 36.,  3., ...,  0.,  0.,  1.],\n",
       "       [13., 26.,  5., ...,  1.,  0.,  1.],\n",
       "       ...,\n",
       "       [11., 23.,  4., ...,  1.,  1.,  1.],\n",
       "       [ 1., 28.,  4., ...,  1.,  0.,  0.],\n",
       "       [ 8., 28.,  4., ...,  0.,  0.,  1.]])"
      ]
     },
     "execution_count": 28,
     "metadata": {},
     "output_type": "execute_result"
    }
   ],
   "source": [
    "import shap\n",
    "\n",
    "# Dado que XGBoost es un modelo tipo árbol, se utiliza el explainer de tipo Tree\n",
    "explainer = shap.TreeExplainer(xgb_model)\n",
    "shap_values = explainer(X_test)\n",
    "\n",
    "shap_values"
   ]
  },
  {
   "cell_type": "markdown",
   "metadata": {},
   "source": [
    "**2. ¿Qué representa cada número en su resultado?**\n",
    "\n",
    "El cálculo de los `shap_values` entrega 3 arreglos distintos:\n",
    "\n",
    "1. `values`: representa el impacto de cada característica en la predicción hecha para cada una de las observaciones. Son esencialmente los `shap_values` calculados.\n",
    "2. `base_values`: representa el valor de referencia (valor esperado) de la predicción si es que no hubiese características específicas involucradas.\n",
    "3. `data`: representa los valores de entrada para cada una de las observaciones.\n",
    "\n",
    "Podemos decir que las predicciones hechas por el modelo se componen de, para cada una de las observaciones, el `base_values` sobre el cual se van sumando los `shap_values` calculados."
   ]
  },
  {
   "cell_type": "markdown",
   "metadata": {},
   "source": [
    "**3. ¿Es posible atribuir un significado a la positividad/negatividad de cada valor?**\n",
    "\n",
    "Sí, existe un significado para la positividad o negatividad de cada uno de los valores obtenidos:\n",
    "\n",
    "- Valores **positivos**: Cuando un `shap_value` presenta un valor positivo para una característica dentro de una observación, significa que su impacto \"empuja\" a la predicción a una mayor pertenencia a la clase positiva, por lo que, mientras más alto sea el valor, más peso tiene esta característica a clasificar como positiva la observación.\n",
    "\n",
    "- Valores **negativos**: Cuando un `shap_value` presenta un valor negativo para una característica dentro de una observación, tenemos el caso contrario al anterior, ya que se \"empuja\" a una mayor pertenencia a la clase negativa. Mientras más negativo sea el valor, más peso tiene a clasificar en la clase negativa."
   ]
  },
  {
   "cell_type": "code",
   "execution_count": 24,
   "metadata": {},
   "outputs": [
    {
     "data": {
      "image/png": "[encoded data removed]",
      "text/plain": [
       "<Figure size 576x597.6 with 2 Axes>"
      ]
     },
     "metadata": {
      "needs_background": "light"
     },
     "output_type": "display_data"
    }
   ],
   "source": [
    "shap.summary_plot(shap_values, X_test)"
   ]
  },
  {
   "cell_type": "markdown",
   "metadata": {},
   "source": [
    "Si vemos por ejemplo la variable `HighBP`, podemos ver una tendencia: si se tienen valores altos (en este caso el valor alto es $1$), entonces esta variable tiende a empujar las predicciones hacia una clase positiva, mientras que las predicciones bajas (en este caso es el valor $0$) empujan a clasificar como clase negativa."
   ]
  },
  {
   "cell_type": "markdown",
   "metadata": {
    "cell_id": "ca1ccbeae2b2444d925329e0fd1c7bff",
    "deepnote_cell_type": "markdown",
    "id": "4aGmOtVPQy7S"
   },
   "source": [
    "### 5.2 Aporte local (4 puntos)"
   ]
  },
  {
   "cell_type": "markdown",
   "metadata": {
    "cell_id": "d1bd38afb30a418dad4d5229826459a3",
    "deepnote_cell_type": "markdown",
    "id": "-ucDyFmWQy7S"
   },
   "source": [
    "1. Usando los *shap values* calculados, grafique el **aporte local** de las diferentes variables para las instancias **1**, **9** y **150** (1 punto).\n",
    "\n",
    "2. Interprete sus resultados y responda:\n",
    "\n",
    "  - ¿Qué variables afectan de manera positiva/negativa a la probabilidad de poseer diabetes? (1 punto)\n",
    "\n",
    "  - ¿Existe algún patrón común entre las instancias analizadas? (1 punto)\n",
    "\n",
    "  - ¿Es posible generalizar estas conclusiones a todo el dataset? (1 punto)"
   ]
  },
  {
   "cell_type": "markdown",
   "metadata": {},
   "source": [
    "**1. Gráficos de aportes locales**"
   ]
  },
  {
   "cell_type": "code",
   "execution_count": 25,
   "metadata": {},
   "outputs": [
    {
     "data": {
      "image/png": "[encoded data removed]",
      "text/plain": [
       "<Figure size 576x720 with 3 Axes>"
      ]
     },
     "metadata": {},
     "output_type": "display_data"
    }
   ],
   "source": [
    "idx=1\n",
    "\n",
    "shap.plots.waterfall(shap_values[idx,:], \n",
    "                     max_display=17)"
   ]
  },
  {
   "cell_type": "code",
   "execution_count": 26,
   "metadata": {},
   "outputs": [
    {
     "data": {
      "image/png": "[encoded data removed]",
      "text/plain": [
       "<Figure size 576x720 with 3 Axes>"
      ]
     },
     "metadata": {},
     "output_type": "display_data"
    }
   ],
   "source": [
    "idx=9\n",
    "\n",
    "shap.plots.waterfall(shap_values[idx,:], \n",
    "                     max_display=17)"
   ]
  },
  {
   "cell_type": "code",
   "execution_count": 27,
   "metadata": {},
   "outputs": [
    {
     "data": {
      "image/png": "[encoded data removed]",
      "text/plain": [
       "<Figure size 576x720 with 3 Axes>"
      ]
     },
     "metadata": {},
     "output_type": "display_data"
    }
   ],
   "source": [
    "idx=150\n",
    "\n",
    "shap.plots.waterfall(shap_values[idx,:], \n",
    "                     max_display=17)"
   ]
  },
  {
   "cell_type": "markdown",
   "metadata": {},
   "source": [
    "**2. Interpretación de resultados**"
   ]
  },
  {
   "cell_type": "markdown",
   "metadata": {},
   "source": [
    "**¿Qué variables afectan de manera positiva/negativa a la probabilidad de poseer diabetes?**\n",
    "\n",
    "Podemos hacer una tabla con cada una de las variables para primero organizar los resultados:\n",
    "\n",
    "| Variable | Observación 1 | Observación 9 | Observación 150 |\n",
    "|----------|---------------|---------------|-----------------|\n",
    "| `Age` | +0.31 | +0.13 | +0.4 |\n",
    "| `Sex` | -0.04 | -0.04 | -0.06 |\n",
    "| `HighChol` | -0.31 | -0.43 | -0.49 |\n",
    "| `CholCheck` | +0.02 | +0.02 | +0.03 |\n",
    "| `BMI` | +0.43 | +0.68 | +1.06 |\n",
    "| `Smoker` | -0.51 | +0.35 | +0.39 |\n",
    "| `HeartDiseaseorAttack` | -0.04 | -0.08 | -0.03 |\n",
    "| `PhysActivity` | -0.25 | -0.34 | -0.47 |\n",
    "| `Fruits` | +0.04 | +0.18 | -0.1 |\n",
    "| `Veggies` | -0.08 | -0.06 | -0.04 |\n",
    "| `HvyAlcoholConsump` | +0 | +0.01 | +0.02 |\n",
    "| `GenHlth` | +0.46 | +0.57 | +0.85 |\n",
    "| `MentHlth` | -0.01 | +0.03 | -0.12 |\n",
    "| `PhysHlth` | -0.25 | -0.24 | +0.32 |\n",
    "| `DiffWalk` | -0.19 | -0.15 | +0.1 |\n",
    "| `Stroke` | -0 | -0.01 | +0.01 |\n",
    "| `HighBP` | +0.48 | +0.54 | -0.74 |\n",
    "\n",
    "Con esta comparación mucho más directa, podemos hacer un pseudo-ranking de las variables que aportan más y menos a la probabilidad de poseer diabetes (consistentes en común):\n",
    "\n",
    "- **Más probabilidades de poseer diabetes**\n",
    "    1. `GenHlth`\n",
    "    2. `BMI`\n",
    "    2. `Age`\n",
    "\n",
    "- **Menos probabilidades de poseer diabetes**\n",
    "    1. `HighChol`\n",
    "    2. `PhysActivity`\n",
    "    2. `Veggies`\n",
    "\n",
    "Además, existen otras variables que resultan beneficiosas para algunas observaciones (menos probabilidad de poseer diabetes), pero que para otras son perjudiciales (mayor probabilidad de poseer diabetes). Ejemplos de estas variable son:\n",
    "\n",
    "* `Smoker`: beneficioso para Obs. 1, perjudicial para Obs 9 y 150.\n",
    "* `Fruits`: beneficioso para Obs. 150, perjudicial para Obs. 1 y 9.\n",
    "* `MentHlth`: beneficioso para Obs. 1 y 150, perjudicial para Obs. 9.\n",
    "* `PhysHlth`: beneficioso para Obs. 1 y 9, perjudicial para Obs. 150.\n",
    "* `DiffWalk`: beneficioso para Obs. 1 y 9, perjudicial para Obs. 150.\n",
    "* `Stroke`: beneficioso para Obs. 1 y 9, perjudicial para Obs. 150.\n",
    "* `HighBP`: beneficioso para Obs. 150, perjudicial para Obs. 1 y 9."
   ]
  },
  {
   "cell_type": "markdown",
   "metadata": {},
   "source": [
    "**¿Existe algún patrón común entre las instancias analizadas?**\n",
    "\n",
    "Siguiendo con la respuesta anterior, hay algunas variables que, para estas 3 observaciones, presentan patrones tanto positivos (aumento de probabilidad de poseer diabetes) como negativos (disminución de probabilidad de poseer diabetes) constantes, teniendo un impacto más o menos similar en las 3 observaciones.\n",
    "\n",
    "- Impacto **positivo** constante:\n",
    "\n",
    "- Impacto **negativo** constante:\n"
   ]
  },
  {
   "cell_type": "markdown",
   "metadata": {},
   "source": [
    "**¿Es posible generalizar estas conclusiones a todo el dataset?**\n",
    "\n",
    "Como se vio también en la primera respuesta"
   ]
  },
  {
   "cell_type": "markdown",
   "metadata": {
    "cell_id": "717f41e3ccf143a483af4f350e510225",
    "deepnote_cell_type": "markdown",
    "id": "z34Bo3nuQy7T"
   },
   "source": [
    "### 5.3 Aporte global (4 puntos)"
   ]
  },
  {
   "cell_type": "markdown",
   "metadata": {
    "cell_id": "691dfe735fa644d5a8cac6e7053621ce",
    "deepnote_cell_type": "markdown",
    "id": "_-F3drm-Qy7T"
   },
   "source": [
    "Genere ahora una visualización donde se grafique el aporte de cada feature a nivel **global** e interprete sus resultados. ¿Qué diferencias existen con las conclusiones generadas a nivel de instancia?"
   ]
  },
  {
   "cell_type": "code",
   "execution_count": null,
   "metadata": {
    "cell_id": "54e88d349b7c476d82a95b977ce23fd4",
    "deepnote_cell_type": "code",
    "deepnote_to_be_reexecuted": false,
    "execution_millis": 4,
    "execution_start": 1686930956967,
    "id": "1cBZnPHHQy7T",
    "source_hash": "99e7a96a"
   },
   "outputs": [],
   "source": [
    "# Inserte código para generar gráficos de aporte global aquí"
   ]
  },
  {
   "cell_type": "markdown",
   "metadata": {
    "cell_id": "8c6e3e238a6c48719cd048ce9e5201d5",
    "deepnote_cell_type": "markdown",
    "id": "Vk7B9zHoQy7T"
   },
   "source": [
    "### 5.4 Scatter plot (4 puntos)\n"
   ]
  },
  {
   "cell_type": "markdown",
   "metadata": {
    "cell_id": "4cfe79b39ac646658225180063391369",
    "deepnote_cell_type": "markdown",
    "id": "b9RX6vCiQy7U"
   },
   "source": [
    "Grafique ahora un *scatterplot* entre los *shap values* y las primeras 5 features con mayor impacto global (un gráfico por cada feature), coloreando cada punto por la probabilidad de tener diabetes. ¿Qué puede concluir de sus resultados?"
   ]
  },
  {
   "cell_type": "code",
   "execution_count": null,
   "metadata": {
    "cell_id": "fe980bf5ee9c4cda84cb87db6e6f41dd",
    "deepnote_cell_type": "code",
    "deepnote_to_be_reexecuted": false,
    "execution_millis": 2,
    "execution_start": 1686930965534,
    "id": "lRlG8s2dQy7U",
    "source_hash": "80c98595"
   },
   "outputs": [],
   "source": [
    "# Inserte código para generar gráficos de feature vs shap value aquí"
   ]
  },
  {
   "cell_type": "markdown",
   "metadata": {
    "cell_id": "4204ce61132f4a91b465bd1324668ec4",
    "deepnote_cell_type": "markdown",
    "id": "724u-ijOQy7U"
   },
   "source": [
    "### 5.5 Partial Dependence Plot (4 puntos)"
   ]
  },
  {
   "cell_type": "markdown",
   "metadata": {
    "id": "SJBXLAR3HWhl"
   },
   "source": [
    "Finalmente, se le pide generar un gráfico del tipo Partial Dependence Plot para las mismas 5 variables con mayor impacto global usando una submuestra de 1000 observaciones. ¿Qué relación existe entre la salida promedio del modelo y cada feature analizada? ¿Son estas conclusiones generalizables para todo el conjunto de datos?"
   ]
  },
  {
   "cell_type": "code",
   "execution_count": null,
   "metadata": {
    "cell_id": "fe7a7b2e6f664d129fee9f64dd57f6bd",
    "deepnote_cell_type": "code",
    "deepnote_to_be_reexecuted": false,
    "execution_millis": 4,
    "execution_start": 1686930977674,
    "id": "tHKM8KHtQy7U",
    "source_hash": "4e0f176b"
   },
   "outputs": [],
   "source": [
    "# Inserte código para generar gráficos PDP aquí"
   ]
  },
  {
   "cell_type": "markdown",
   "metadata": {
    "cell_id": "22e4da384e83491e8e7c8dc9b875ad6b",
    "deepnote_cell_type": "markdown",
    "id": "i4tFPrFA4_O5"
   },
   "source": [
    "## 6. Sistema de Reglas! (10 punto)\n",
    "\n",
    "<p align=\"center\">\n",
    "  <img src=\"https://media.baamboozle.com/uploads/images/125978/1638281150_1380186_gif-url.gif\" width=\"400\">\n",
    "</p>"
   ]
  },
  {
   "cell_type": "markdown",
   "metadata": {
    "cell_id": "cbf4bdc66df14a948ee275be86501d4a",
    "deepnote_cell_type": "markdown",
    "id": "f_4NF0_V5XZ-"
   },
   "source": [
    "Después de todo el trabajo hecho, Dr. Simi le pide simplificar el funcionamiento de su modelo en un sistema de reglas que le permita explicar a sus clientes las predicciones que genera su modelo. \n",
    "En particular, Dr. Simi le pide explicar la decisión tomada para las observaciones **1000**, **3001** y **5751**. Con las reglas propuestas señale a **cuánta población** es posible explicar con estas reglas e indique la **precisión** que poseen las reglas en la totalidad de los datos. ¿Tienen sentido sus reglas propuestas para las observaciones?. Fundamente sus respuesta señalando el impacto que tienen sus reglas sobre todo el conjunto de datos.\n",
    "\n",
    "`Hint:` Como debe entregar las columnas que entran al clasificador entrenado de su pipeline, le será útil extraer el paso de preprocesamiento y generar dataframes preprocesados para el conjunto `train` y `test`. "
   ]
  },
  {
   "cell_type": "code",
   "execution_count": null,
   "metadata": {
    "cell_id": "9e3327e11a104dd5917f594a5e10baee",
    "deepnote_cell_type": "code",
    "deepnote_to_be_reexecuted": false,
    "execution_millis": 21693,
    "execution_start": 1686885552805,
    "id": "arJkVfO9Qy7b",
    "outputId": "7bd03366-c005-4bb8-86ab-d60f4abb26cd",
    "source_hash": "e7a6b6c4",
    "tags": []
   },
   "outputs": [],
   "source": [
    "!pip install alibi"
   ]
  },
  {
   "cell_type": "code",
   "execution_count": null,
   "metadata": {
    "cell_id": "bb38bb05376b429297fb0b3618fec6d4",
    "deepnote_cell_type": "code",
    "deepnote_to_be_reexecuted": false,
    "execution_millis": 10473,
    "execution_start": 1686885694481,
    "id": "_ED-yF_hQy7b",
    "outputId": "323e7e2c-1e4b-4b2e-cc7b-d3cf1234e50a",
    "source_hash": "e4ec2c4b"
   },
   "outputs": [],
   "source": [
    "from alibi.explainers import AnchorTabular"
   ]
  },
  {
   "cell_type": "code",
   "execution_count": null,
   "metadata": {
    "cell_id": "c51b7d6bfea74288b77cb73ba8c86978",
    "deepnote_cell_type": "code",
    "deepnote_to_be_reexecuted": false,
    "execution_millis": 76,
    "execution_start": 1686931515362,
    "id": "msFaoQBaQy7c",
    "source_hash": "51992da3"
   },
   "outputs": [],
   "source": [
    "# Inserte su código para generar sistema de reglas aquí\n",
    "\n",
    "idx = 1000\n",
    "# explicar predicción idx 1000\n",
    "\n",
    "idx = 3001\n",
    "# explicar predicción idx 3001\n",
    "\n",
    "idx = 5751\n",
    "# explicar predicción idx 5751"
   ]
  },
  {
   "cell_type": "markdown",
   "metadata": {
    "cell_id": "b358083895d844bbafee6969082e98db",
    "deepnote_cell_type": "markdown",
    "id": "0QvR_juJQy7c"
   },
   "source": [
    "# Retrospectiva... (10 puntos)"
   ]
  },
  {
   "cell_type": "markdown",
   "metadata": {
    "cell_id": "1db767e048bd4bf2bc86d9c49acc0c36",
    "deepnote_cell_type": "markdown",
    "id": "-5ljFheRQy7c"
   },
   "source": [
    "En base a los diferentes métodos que implementa y ha comentado en este laboratorio, comente qué métodos le permiten entregar mejores conclusiones para la tarea de clasificación de diabetes. Por otro lado, ¿qué métodos son más útiles para el problema del doctor Simi, métodos agnósticos locales o globales?"
   ]
  },
  {
   "cell_type": "markdown",
   "metadata": {
    "cell_id": "c841a2af491648f591108c7483afc66f",
    "deepnote_cell_type": "markdown",
    "id": "PVbQ8dyoQy7c"
   },
   "source": [
    "> Fundamente su Respuesta aquí"
   ]
  },
  {
   "cell_type": "markdown",
   "metadata": {
    "cell_id": "ad6f278e9e12463dbdde6a009cd0b97a",
    "deepnote_cell_type": "markdown",
    "id": "3CyhXoq9Qy7d"
   },
   "source": [
    "# Conclusión\n",
    "Eso ha sido todo para el lab de hoy, recuerden que el laboratorio tiene un plazo de entrega de una semana. Cualquier duda del laboratorio, no duden en contactarnos por mail o U-cursos.\n",
    "\n",
    "![Gracias Totales!](https://media.tenor.com/ctnq4bhZE3gAAAAC/drsimi-simi.gif)"
   ]
  },
  {
   "cell_type": "markdown",
   "metadata": {
    "created_in_deepnote_cell": true,
    "deepnote_cell_type": "markdown",
    "id": "arS9Nm9YQy7d"
   },
   "source": [
    "<a style='text-decoration:none;line-height:16px;display:flex;color:#5B5B62;padding:10px;justify-content:end;' href='https://deepnote.com?utm_source=created-in-deepnote-cell&projectId=87110296-876e-426f-b91d-aaf681223468' target=\"_blank\">\n",
    "<img alt='Created in deepnote.com' style='display:inline;max-height:16px;margin:0px;margin-right:7.5px;' src='data:image/svg+xml;base64,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' > </img>\n",
    "Created in <span style='font-weight:600;margin-left:4px;'>Deepnote</span></a>"
   ]
  }
 ],
 "metadata": {
  "colab": {
   "collapsed_sections": [
    "LCOUC4jss148",
    "GtG74Cphq56p"
   ],
   "provenance": []
  },
  "deepnote": {},
  "deepnote_execution_queue": [],
  "deepnote_notebook_id": "0afd011ae5da4596ac4144fb27adc429",
  "deepnote_persisted_session": {
   "createdAt": "2023-06-16T16:30:21.663Z"
  },
  "kernelspec": {
   "display_name": "Python 3",
   "language": "python",
   "name": "python3"
  },
  "language_info": {
   "codemirror_mode": {
    "name": "ipython",
    "version": 3
   },
   "file_extension": ".py",
   "mimetype": "text/x-python",
   "name": "python",
   "nbconvert_exporter": "python",
   "pygments_lexer": "ipython3",
   "version": "3.10.6"
  },
  "toc": {
   "base_numbering": 1,
   "nav_menu": {},
   "number_sections": true,
   "sideBar": true,
   "skip_h1_title": true,
   "title_cell": "Tabla de Contenidos",
   "title_sidebar": "Contenidos",
   "toc_cell": false,
   "toc_position": {
    "height": "calc(100% - 180px)",
    "left": "10px",
    "top": "150px",
    "width": "241.867px"
   },
   "toc_section_display": true,
   "toc_window_display": true
  },
  "varInspector": {
   "cols": {
    "lenName": 16,
    "lenType": 16,
    "lenVar": 40
   },
   "kernels_config": {
    "python": {
     "delete_cmd_postfix": "",
     "delete_cmd_prefix": "del ",
     "library": "var_list.py",
     "varRefreshCmd": "print(var_dic_list())"
    },
    "r": {
     "delete_cmd_postfix": ") ",
     "delete_cmd_prefix": "rm(",
     "library": "var_list.r",
     "varRefreshCmd": "cat(var_dic_list()) "
    }
   },
   "types_to_exclude": [
    "module",
    "function",
    "builtin_function_or_method",
    "instance",
    "_Feature"
   ],
   "window_display": false
  }
 },
 "nbformat": 4,
 "nbformat_minor": 0
}
