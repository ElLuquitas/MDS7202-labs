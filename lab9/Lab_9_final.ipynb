{
  "cells": [
    {
      "cell_type": "markdown",
      "metadata": {
        "cell_id": "b5c0d2440b3e4995a794ded565213150",
        "deepnote_cell_type": "markdown",
        "id": "_Mql1uRoI5v5"
      },
      "source": [
        "<h1><center>Laboratorio 9: Optimización de modelos 💯</center></h1>\n",
        "\n",
        "<center><strong>MDS7202: Laboratorio de Programación Científica para Ciencia de Datos - Primavera 2024</strong></center>"
      ]
    },
    {
      "cell_type": "markdown",
      "metadata": {
        "cell_id": "bfb94b9656f145ad83e81b75d218cb70",
        "deepnote_cell_type": "markdown",
        "id": "FAPGIlEAI5v8"
      },
      "source": [
        "### **Cuerpo Docente:**\n",
        "\n",
        "- Profesores: Ignacio Meza, Sebastián Tinoco\n",
        "- Auxiliar: Eduardo Moya\n",
        "- Ayudantes: Nicolás Ojeda, Melanie Peña, Valentina Rojas"
      ]
    },
    {
      "cell_type": "markdown",
      "metadata": {
        "cell_id": "b1b537fdd27c43909a49d3476ce64d91",
        "deepnote_cell_type": "markdown",
        "id": "8NozgbkZI5v9"
      },
      "source": [
        "### Equipo: SUPER IMPORTANTE - notebooks sin nombre no serán revisados\n",
        "\n",
        "- Nombre de alumno 1: Elizabeth Ramírez Z.\n",
        "- Nombre de alumno 2: Lucas Orellana J.\n"
      ]
    },
    {
      "cell_type": "markdown",
      "metadata": {},
      "source": [
        "### **Link de repositorio de GitHub:** [Insertar Repositorio](https://github.com/ElLuquitas/MDS7202-labs)"
      ]
    },
    {
      "cell_type": "markdown",
      "metadata": {
        "cell_id": "b7dbdd30ab544cb8a8afe00648a586ae",
        "deepnote_cell_type": "markdown",
        "id": "vHU9DI6wI5v9"
      },
      "source": [
        "### Temas a tratar\n",
        "\n",
        "- Predicción de demanda usando `xgboost`\n",
        "- Búsqueda del modelo óptimo de clasificación usando `optuna`\n",
        "- Uso de pipelines.\n",
        "\n",
        "### Reglas:\n",
        "\n",
        "- **Grupos de 2 personas**\n",
        "- Cualquier duda fuera del horario de clases al foro. Mensajes al equipo docente serán respondidos por este medio.\n",
        "- Prohibidas las copias.\n",
        "- Pueden usar cualquer matrial del curso que estimen conveniente.\n",
        "- Código que no se pueda ejecutar, no será revisado.\n",
        "\n",
        "### Objetivos principales del laboratorio\n",
        "\n",
        "- Optimizar modelos usando `optuna`\n",
        "- Recurrir a técnicas de *prunning*\n",
        "- Forzar el aprendizaje de relaciones entre variables mediante *constraints*\n",
        "- Fijar un pipeline con un modelo base que luego se irá optimizando.\n",
        "\n",
        "El laboratorio deberá ser desarrollado sin el uso indiscriminado de iteradores nativos de python (aka \"for\", \"while\"). La idea es que aprendan a exprimir al máximo las funciones optimizadas que nos entrega `pandas`, las cuales vale mencionar, son bastante más eficientes que los iteradores nativos sobre DataFrames."
      ]
    },
    {
      "cell_type": "markdown",
      "metadata": {
        "cell_id": "f1c73babb7f74af588a4fa6ae14829e0",
        "deepnote_cell_type": "markdown",
        "id": "U_-sNOuOI5v9"
      },
      "source": [
        "# Importamos librerias útiles"
      ]
    },
    {
      "cell_type": "code",
      "execution_count": 1,
      "metadata": {
        "cell_id": "51afe4d2df42442b9e5402ffece60ead",
        "deepnote_cell_type": "code",
        "deepnote_to_be_reexecuted": false,
        "execution_millis": 4957,
        "execution_start": 1699544354044,
        "id": "ekHbM85NI5v9",
        "source_hash": null
      },
      "outputs": [],
      "source": [
        "#!pip install -qq xgboost optuna"
      ]
    },
    {
      "cell_type": "markdown",
      "metadata": {
        "id": "y6hJXpLCSspz"
      },
      "source": [
        "# El emprendimiento de Fiu"
      ]
    },
    {
      "cell_type": "markdown",
      "metadata": {
        "cell_id": "44d227389a734ac59189c5e0005bc68a",
        "deepnote_cell_type": "markdown",
        "id": "b0bDalAOI5v-"
      },
      "source": [
        "Tras liderar de manera exitosa la implementación de un proyecto de ciencia de datos para caracterizar los datos generados en Santiago 2023, el misterioso corpóreo **Fiu** se anima y decide levantar su propio negocio de consultoría en machine learning. Tras varias e intensas negociaciones, Fiu logra encontrar su *primera chamba*: predecir la demanda (cantidad de venta) de una famosa productora de bebidas de calibre mundial. Al ver el gran potencial y talento que usted ha demostrado en el campo de la ciencia de datos, Fiu lo contrata como data scientist para que forme parte de su nuevo emprendimiento.\n",
        "\n",
        "Para este laboratorio deben trabajar con los datos `sales.csv` subidos a u-cursos, el cual contiene una muestra de ventas de la empresa para diferentes productos en un determinado tiempo.\n",
        "\n",
        "Para comenzar, cargue el dataset señalado y visualice a través de un `.head` los atributos que posee el dataset.\n",
        "\n",
        "<i><p align=\"center\">Fiu siendo felicitado por su excelente desempeño en el proyecto de caracterización de datos</p></i>\n",
        "<p align=\"center\">\n",
        "  <img src=\"https://media-front.elmostrador.cl/2023/09/A_UNO_1506411_2440e.jpg\">\n",
        "</p>"
      ]
    },
    {
      "cell_type": "code",
      "execution_count": 2,
      "metadata": {
        "cell_id": "2f9c82d204b14515ad27ae07e0b77702",
        "deepnote_cell_type": "code",
        "deepnote_to_be_reexecuted": false,
        "execution_millis": 92,
        "execution_start": 1699544359006,
        "id": "QvMPOqHuI5v-",
        "outputId": "659e7a12-d74d-45d6-d3c2-33a6cd338585",
        "source_hash": null
      },
      "outputs": [
        {
          "data": {
            "text/html": [
              "<div>\n",
              "<style scoped>\n",
              "    .dataframe tbody tr th:only-of-type {\n",
              "        vertical-align: middle;\n",
              "    }\n",
              "\n",
              "    .dataframe tbody tr th {\n",
              "        vertical-align: top;\n",
              "    }\n",
              "\n",
              "    .dataframe thead th {\n",
              "        text-align: right;\n",
              "    }\n",
              "</style>\n",
              "<table border=\"1\" class=\"dataframe\">\n",
              "  <thead>\n",
              "    <tr style=\"text-align: right;\">\n",
              "      <th></th>\n",
              "      <th>id</th>\n",
              "      <th>date</th>\n",
              "      <th>city</th>\n",
              "      <th>lat</th>\n",
              "      <th>long</th>\n",
              "      <th>pop</th>\n",
              "      <th>shop</th>\n",
              "      <th>brand</th>\n",
              "      <th>container</th>\n",
              "      <th>capacity</th>\n",
              "      <th>price</th>\n",
              "      <th>quantity</th>\n",
              "    </tr>\n",
              "  </thead>\n",
              "  <tbody>\n",
              "    <tr>\n",
              "      <th>0</th>\n",
              "      <td>0</td>\n",
              "      <td>31/01/12</td>\n",
              "      <td>Athens</td>\n",
              "      <td>37.97945</td>\n",
              "      <td>23.71622</td>\n",
              "      <td>672130</td>\n",
              "      <td>shop_1</td>\n",
              "      <td>kinder-cola</td>\n",
              "      <td>glass</td>\n",
              "      <td>500ml</td>\n",
              "      <td>0.96</td>\n",
              "      <td>13280</td>\n",
              "    </tr>\n",
              "    <tr>\n",
              "      <th>1</th>\n",
              "      <td>1</td>\n",
              "      <td>31/01/12</td>\n",
              "      <td>Athens</td>\n",
              "      <td>37.97945</td>\n",
              "      <td>23.71622</td>\n",
              "      <td>672130</td>\n",
              "      <td>shop_1</td>\n",
              "      <td>kinder-cola</td>\n",
              "      <td>plastic</td>\n",
              "      <td>1.5lt</td>\n",
              "      <td>2.86</td>\n",
              "      <td>6727</td>\n",
              "    </tr>\n",
              "    <tr>\n",
              "      <th>2</th>\n",
              "      <td>2</td>\n",
              "      <td>31/01/12</td>\n",
              "      <td>Athens</td>\n",
              "      <td>37.97945</td>\n",
              "      <td>23.71622</td>\n",
              "      <td>672130</td>\n",
              "      <td>shop_1</td>\n",
              "      <td>kinder-cola</td>\n",
              "      <td>can</td>\n",
              "      <td>330ml</td>\n",
              "      <td>0.87</td>\n",
              "      <td>9848</td>\n",
              "    </tr>\n",
              "    <tr>\n",
              "      <th>3</th>\n",
              "      <td>3</td>\n",
              "      <td>31/01/12</td>\n",
              "      <td>Athens</td>\n",
              "      <td>37.97945</td>\n",
              "      <td>23.71622</td>\n",
              "      <td>672130</td>\n",
              "      <td>shop_1</td>\n",
              "      <td>adult-cola</td>\n",
              "      <td>glass</td>\n",
              "      <td>500ml</td>\n",
              "      <td>1.00</td>\n",
              "      <td>20050</td>\n",
              "    </tr>\n",
              "    <tr>\n",
              "      <th>4</th>\n",
              "      <td>4</td>\n",
              "      <td>31/01/12</td>\n",
              "      <td>Athens</td>\n",
              "      <td>37.97945</td>\n",
              "      <td>23.71622</td>\n",
              "      <td>672130</td>\n",
              "      <td>shop_1</td>\n",
              "      <td>adult-cola</td>\n",
              "      <td>can</td>\n",
              "      <td>330ml</td>\n",
              "      <td>0.39</td>\n",
              "      <td>25696</td>\n",
              "    </tr>\n",
              "  </tbody>\n",
              "</table>\n",
              "</div>"
            ],
            "text/plain": [
              "   id      date    city       lat      long     pop    shop        brand  \\\n",
              "0   0  31/01/12  Athens  37.97945  23.71622  672130  shop_1  kinder-cola   \n",
              "1   1  31/01/12  Athens  37.97945  23.71622  672130  shop_1  kinder-cola   \n",
              "2   2  31/01/12  Athens  37.97945  23.71622  672130  shop_1  kinder-cola   \n",
              "3   3  31/01/12  Athens  37.97945  23.71622  672130  shop_1   adult-cola   \n",
              "4   4  31/01/12  Athens  37.97945  23.71622  672130  shop_1   adult-cola   \n",
              "\n",
              "  container capacity  price  quantity  \n",
              "0     glass    500ml   0.96     13280  \n",
              "1   plastic    1.5lt   2.86      6727  \n",
              "2       can    330ml   0.87      9848  \n",
              "3     glass    500ml   1.00     20050  \n",
              "4       can    330ml   0.39     25696  "
            ]
          },
          "execution_count": 2,
          "metadata": {},
          "output_type": "execute_result"
        }
      ],
      "source": [
        "import pandas as pd\n",
        "import numpy as np\n",
        "from datetime import datetime\n",
        "\n",
        "df = pd.read_csv('sales.csv')\n",
        "\n",
        "df.head()"
      ]
    },
    {
      "cell_type": "code",
      "execution_count": 3,
      "metadata": {},
      "outputs": [
        {
          "data": {
            "text/plain": [
              "id           7456\n",
              "date           84\n",
              "city            5\n",
              "lat             6\n",
              "long            6\n",
              "pop            35\n",
              "shop            6\n",
              "brand           5\n",
              "container       3\n",
              "capacity        3\n",
              "price         402\n",
              "quantity     6906\n",
              "dtype: int64"
            ]
          },
          "execution_count": 3,
          "metadata": {},
          "output_type": "execute_result"
        }
      ],
      "source": [
        "# Cantidad de valores únicos por columna\n",
        "df.nunique()"
      ]
    },
    {
      "cell_type": "markdown",
      "metadata": {
        "cell_id": "b50db6f2cb804932ae3f9e5748a6ea61",
        "deepnote_cell_type": "markdown",
        "id": "pk4ru76pI5v_"
      },
      "source": [
        "## 1 Generando un Baseline (5 puntos)\n",
        "\n",
        "<p align=\"center\">\n",
        "  <img src=\"https://media.tenor.com/O-lan6TkadUAAAAC/what-i-wnna-do-after-a-baseline.gif\">\n",
        "</p>\n",
        "\n",
        "Antes de entrenar un algoritmo, usted recuerda los apuntes de su magíster en ciencia de datos y recuerda que debe seguir una serie de *buenas prácticas* para entrenar correcta y debidamente su modelo. Después de un par de vueltas, llega a las siguientes tareas:\n",
        "\n",
        "1. Separe los datos en conjuntos de train (70%), validation (20%) y test (10%). Fije una semilla para controlar la aleatoriedad. [0.5 puntos]\n",
        "2. Implemente un `FunctionTransformer` para extraer el día, mes y año de la variable `date`. Guarde estas variables en el formato categorical de pandas. [1 punto]\n",
        "3. Implemente un `ColumnTransformer` para procesar de manera adecuada los datos numéricos y categóricos. Use `OneHotEncoder` para las variables categóricas. `Nota:` Utilice el método `.set_output(transform='pandas')` para obtener un DataFrame como salida del `ColumnTransformer` [1 punto]\n",
        "4. Guarde los pasos anteriores en un `Pipeline`, dejando como último paso el regresor `DummyRegressor` para generar predicciones en base a promedios. [0.5 punto]\n",
        "5. Entrene el pipeline anterior y reporte la métrica `mean_absolute_error` sobre los datos de validación. ¿Cómo se interpreta esta métrica para el contexto del negocio? [0.5 puntos]\n",
        "6. Finalmente, vuelva a entrenar el `Pipeline` pero esta vez usando `XGBRegressor` como modelo **utilizando los parámetros por default**. ¿Cómo cambia el MAE al implementar este algoritmo? ¿Es mejor o peor que el `DummyRegressor`? [1 punto]\n",
        "7. Guarde ambos modelos en un archivo .pkl (uno cada uno) [0.5 puntos]"
      ]
    },
    {
      "cell_type": "code",
      "execution_count": 4,
      "metadata": {
        "cell_id": "1482c992d9494e5582b23dbd3431dbfd",
        "deepnote_cell_type": "code",
        "id": "sfnN7HubI5v_"
      },
      "outputs": [],
      "source": [
        "from sklearn import set_config\n",
        "set_config(transform_output=\"pandas\")"
      ]
    },
    {
      "cell_type": "markdown",
      "metadata": {},
      "source": [
        "**1. Separación de conjuntos**\n",
        "\n",
        "Dado que la variable que queremos predecir es `quantity`, primero separaremos el dataset entre *datos* y *labels*"
      ]
    },
    {
      "cell_type": "code",
      "execution_count": 5,
      "metadata": {},
      "outputs": [],
      "source": [
        "from sklearn.model_selection import train_test_split\n",
        "\n",
        "X = df.drop(columns = ['id', 'quantity'])\n",
        "y = df['quantity']\n",
        "\n",
        "X_train_val, X_test, y_train_val, y_test = train_test_split(X, y, test_size=0.1, random_state=30)\n",
        "X_train, X_val, y_train, y_val = train_test_split(X_train_val, y_train_val, test_size=0.222, random_state=30)"
      ]
    },
    {
      "cell_type": "markdown",
      "metadata": {},
      "source": [
        "**2. Implementación `FunctionTransformer`**"
      ]
    },
    {
      "cell_type": "code",
      "execution_count": 6,
      "metadata": {},
      "outputs": [],
      "source": [
        "from sklearn.preprocessing import FunctionTransformer\n",
        "\n",
        "def date_extractor(df):\n",
        "    '''\n",
        "    Extrae el día, mes y año de una la columna 'date'\n",
        "\n",
        "    Args\n",
        "        df: DataFrame\n",
        "\n",
        "    Returns\n",
        "        transdformed_df: DataFrame con las columnas 'day', 'month' y 'year' y eliminada 'date'\n",
        "    '''\n",
        "    # Creación de las columnas separadas\n",
        "    transformed_df = df.copy()\n",
        "    transformed_df['date'] = pd.to_datetime(transformed_df['date'], format='%d/%m/%y', dayfirst = True)\n",
        "    transformed_df['day'] = transformed_df['date'].dt.day.astype('category')\n",
        "    transformed_df['month'] = transformed_df['date'].dt.month.astype('category')\n",
        "    transformed_df['year'] = transformed_df['date'].dt.year.astype('category')\n",
        "    transformed_df = transformed_df.drop(columns = 'date')\n",
        "\n",
        "    # Guardado\n",
        "\n",
        "    return transformed_df\n",
        "\n",
        "# Creamos el transformer para aplicar esta nueva función\n",
        "date_transformer = FunctionTransformer(date_extractor)"
      ]
    },
    {
      "cell_type": "markdown",
      "metadata": {},
      "source": [
        "**3. Implementación `ColumnTransformer`**"
      ]
    },
    {
      "cell_type": "code",
      "execution_count": 7,
      "metadata": {},
      "outputs": [
        {
          "data": {
            "text/html": [
              "<div>\n",
              "<style scoped>\n",
              "    .dataframe tbody tr th:only-of-type {\n",
              "        vertical-align: middle;\n",
              "    }\n",
              "\n",
              "    .dataframe tbody tr th {\n",
              "        vertical-align: top;\n",
              "    }\n",
              "\n",
              "    .dataframe thead th {\n",
              "        text-align: right;\n",
              "    }\n",
              "</style>\n",
              "<table border=\"1\" class=\"dataframe\">\n",
              "  <thead>\n",
              "    <tr style=\"text-align: right;\">\n",
              "      <th></th>\n",
              "      <th>id</th>\n",
              "      <th>lat</th>\n",
              "      <th>long</th>\n",
              "      <th>pop</th>\n",
              "      <th>price</th>\n",
              "      <th>quantity</th>\n",
              "    </tr>\n",
              "  </thead>\n",
              "  <tbody>\n",
              "    <tr>\n",
              "      <th>count</th>\n",
              "      <td>7456.000000</td>\n",
              "      <td>7456.000000</td>\n",
              "      <td>7456.000000</td>\n",
              "      <td>7456.000000</td>\n",
              "      <td>7456.000000</td>\n",
              "      <td>7456.000000</td>\n",
              "    </tr>\n",
              "    <tr>\n",
              "      <th>mean</th>\n",
              "      <td>3784.926770</td>\n",
              "      <td>38.300616</td>\n",
              "      <td>23.270170</td>\n",
              "      <td>355042.733637</td>\n",
              "      <td>1.197193</td>\n",
              "      <td>29408.428380</td>\n",
              "    </tr>\n",
              "    <tr>\n",
              "      <th>std</th>\n",
              "      <td>2185.822361</td>\n",
              "      <td>1.650030</td>\n",
              "      <td>1.086592</td>\n",
              "      <td>232336.703020</td>\n",
              "      <td>0.818175</td>\n",
              "      <td>17652.985675</td>\n",
              "    </tr>\n",
              "    <tr>\n",
              "      <th>min</th>\n",
              "      <td>0.000000</td>\n",
              "      <td>35.327870</td>\n",
              "      <td>21.734440</td>\n",
              "      <td>134219.000000</td>\n",
              "      <td>0.110000</td>\n",
              "      <td>2953.000000</td>\n",
              "    </tr>\n",
              "    <tr>\n",
              "      <th>25%</th>\n",
              "      <td>1889.750000</td>\n",
              "      <td>37.962450</td>\n",
              "      <td>22.417610</td>\n",
              "      <td>141732.000000</td>\n",
              "      <td>0.620000</td>\n",
              "      <td>16572.750000</td>\n",
              "    </tr>\n",
              "    <tr>\n",
              "      <th>50%</th>\n",
              "      <td>3783.500000</td>\n",
              "      <td>38.244440</td>\n",
              "      <td>22.930860</td>\n",
              "      <td>257501.500000</td>\n",
              "      <td>0.930000</td>\n",
              "      <td>25294.500000</td>\n",
              "    </tr>\n",
              "    <tr>\n",
              "      <th>75%</th>\n",
              "      <td>5682.250000</td>\n",
              "      <td>39.636890</td>\n",
              "      <td>23.716220</td>\n",
              "      <td>665102.000000</td>\n",
              "      <td>1.510000</td>\n",
              "      <td>37699.000000</td>\n",
              "    </tr>\n",
              "    <tr>\n",
              "      <th>max</th>\n",
              "      <td>7559.000000</td>\n",
              "      <td>40.643610</td>\n",
              "      <td>25.143410</td>\n",
              "      <td>672130.000000</td>\n",
              "      <td>4.790000</td>\n",
              "      <td>145287.000000</td>\n",
              "    </tr>\n",
              "  </tbody>\n",
              "</table>\n",
              "</div>"
            ],
            "text/plain": [
              "                id          lat         long            pop        price  \\\n",
              "count  7456.000000  7456.000000  7456.000000    7456.000000  7456.000000   \n",
              "mean   3784.926770    38.300616    23.270170  355042.733637     1.197193   \n",
              "std    2185.822361     1.650030     1.086592  232336.703020     0.818175   \n",
              "min       0.000000    35.327870    21.734440  134219.000000     0.110000   \n",
              "25%    1889.750000    37.962450    22.417610  141732.000000     0.620000   \n",
              "50%    3783.500000    38.244440    22.930860  257501.500000     0.930000   \n",
              "75%    5682.250000    39.636890    23.716220  665102.000000     1.510000   \n",
              "max    7559.000000    40.643610    25.143410  672130.000000     4.790000   \n",
              "\n",
              "            quantity  \n",
              "count    7456.000000  \n",
              "mean    29408.428380  \n",
              "std     17652.985675  \n",
              "min      2953.000000  \n",
              "25%     16572.750000  \n",
              "50%     25294.500000  \n",
              "75%     37699.000000  \n",
              "max    145287.000000  "
            ]
          },
          "execution_count": 7,
          "metadata": {},
          "output_type": "execute_result"
        }
      ],
      "source": [
        "df.describe()"
      ]
    },
    {
      "cell_type": "markdown",
      "metadata": {},
      "source": [
        "Haciendo una revisión de las variables, podemos decir que tenemos las siguientes categorías de datos:\n",
        "\n",
        "1. **Variables Numéricas**: `lat`, `long`, `pop`, `capacity`, `price`, `container`, `quantity`\n",
        "2. **Variables Categóricas**: `city`, `shop`, `brand`, `day`, `month`, `year`\n",
        "\n",
        "Además vamos a hacer un reemplazo dentro de la variable `container`. Dado que las únicas capacidades disponibles son `330ml`, `500ml` y `1.5lt`, podemos reemplazarlas por `300`, `500` y `1500` respectivamente, así mantenemos una misma unidad de medida."
      ]
    },
    {
      "cell_type": "code",
      "execution_count": 8,
      "metadata": {},
      "outputs": [
        {
          "name": "stderr",
          "output_type": "stream",
          "text": [
            "C:\\Users\\simon\\AppData\\Local\\Temp\\ipykernel_15284\\2111296503.py:7: FutureWarning: Downcasting behavior in `replace` is deprecated and will be removed in a future version. To retain the old behavior, explicitly call `result.infer_objects(copy=False)`. To opt-in to the future behavior, set `pd.set_option('future.no_silent_downcasting', True)`\n",
            "  X_train['capacity'] = X_train['capacity'].replace(replace)\n",
            "C:\\Users\\simon\\AppData\\Local\\Temp\\ipykernel_15284\\2111296503.py:8: FutureWarning: Downcasting behavior in `replace` is deprecated and will be removed in a future version. To retain the old behavior, explicitly call `result.infer_objects(copy=False)`. To opt-in to the future behavior, set `pd.set_option('future.no_silent_downcasting', True)`\n",
            "  X_val['capacity'] = X_val['capacity'].replace(replace)\n",
            "C:\\Users\\simon\\AppData\\Local\\Temp\\ipykernel_15284\\2111296503.py:9: FutureWarning: Downcasting behavior in `replace` is deprecated and will be removed in a future version. To retain the old behavior, explicitly call `result.infer_objects(copy=False)`. To opt-in to the future behavior, set `pd.set_option('future.no_silent_downcasting', True)`\n",
            "  X_test['capacity'] = X_test['capacity'].replace(replace)\n"
          ]
        }
      ],
      "source": [
        "replace = {\n",
        "    '330ml': 330,\n",
        "    '500ml': 500,\n",
        "    '1.5lt': 1500,\n",
        "}\n",
        "\n",
        "X_train['capacity'] = X_train['capacity'].replace(replace)\n",
        "X_val['capacity'] = X_val['capacity'].replace(replace)\n",
        "X_test['capacity'] = X_test['capacity'].replace(replace)"
      ]
    },
    {
      "cell_type": "code",
      "execution_count": 9,
      "metadata": {},
      "outputs": [],
      "source": [
        "from sklearn.preprocessing import MinMaxScaler , OneHotEncoder\n",
        "from sklearn.compose import ColumnTransformer\n",
        "\n",
        "num_columns = ['lat', 'long', 'pop', 'capacity', 'price']\n",
        "cat_columns = ['city', 'shop', 'brand', 'container', 'day', 'month', 'year']\n",
        "\n",
        "num_scaler = MinMaxScaler()\n",
        "cat_encoder = OneHotEncoder(handle_unknown = 'infrequent_if_exist', sparse_output = False)\n",
        "\n",
        "col_transformer = ColumnTransformer([\n",
        "    ('num', num_scaler, num_columns),\n",
        "    ('cat', cat_encoder, cat_columns)\n",
        "]).set_output(transform='pandas')"
      ]
    },
    {
      "cell_type": "markdown",
      "metadata": {},
      "source": [
        "**4. Creación de `Pipeline`**"
      ]
    },
    {
      "cell_type": "code",
      "execution_count": 10,
      "metadata": {},
      "outputs": [],
      "source": [
        "from sklearn.pipeline import Pipeline\n",
        "from sklearn.dummy import DummyRegressor\n",
        "\n",
        "dummy_model = DummyRegressor()\n",
        "\n",
        "dummy_pipe = Pipeline([\n",
        "    ('date', date_transformer),\n",
        "    ('col', col_transformer),\n",
        "    ('model', dummy_model)\n",
        "], verbose = True)"
      ]
    },
    {
      "cell_type": "markdown",
      "metadata": {},
      "source": [
        "**5. Entrenamiento `Pipeline` con `DummyRegressor`**"
      ]
    },
    {
      "cell_type": "code",
      "execution_count": 11,
      "metadata": {},
      "outputs": [
        {
          "name": "stdout",
          "output_type": "stream",
          "text": [
            "[Pipeline] .............. (step 1 of 3) Processing date, total=   0.0s\n",
            "[Pipeline] ............... (step 2 of 3) Processing col, total=   0.0s\n",
            "[Pipeline] ............. (step 3 of 3) Processing model, total=   0.0s\n"
          ]
        }
      ],
      "source": [
        "dummy_pipe.fit(X_train, y_train)\n",
        "\n",
        "val_pred = dummy_pipe.predict(X_val)"
      ]
    },
    {
      "cell_type": "code",
      "execution_count": 12,
      "metadata": {},
      "outputs": [
        {
          "name": "stdout",
          "output_type": "stream",
          "text": [
            "MAE Validation: 13283.86\n"
          ]
        }
      ],
      "source": [
        "from sklearn.metrics import mean_absolute_error\n",
        "\n",
        "mae_val = mean_absolute_error(y_val, val_pred)\n",
        "print(f'MAE Validation: {mae_val:.2f}')"
      ]
    },
    {
      "cell_type": "markdown",
      "metadata": {},
      "source": [
        "**¿Cómo se interpreta esta métrica para el contexto del negocio?**\n",
        "\n",
        "El MAE es error absoluto promedio entre las predicciones de un modelo y los valores reales. Tener un valor de 13283 significa que hay un error en ese monto en las cantidades simuladas por el modelo vs la realidad.  En otras palabras, el modelo se equivoca en aproximadamente 13283 unidades al predecir las cantidades."
      ]
    },
    {
      "cell_type": "markdown",
      "metadata": {},
      "source": [
        "**6. Reentrenamiento `Pipeline` con `XGBRegressor`**"
      ]
    },
    {
      "cell_type": "code",
      "execution_count": 13,
      "metadata": {},
      "outputs": [],
      "source": [
        "from xgboost import XGBRegressor\n",
        "\n",
        "xgbr_model = XGBRegressor()\n",
        "\n",
        "xgbr_pipe = Pipeline([\n",
        "    ('date', date_transformer),\n",
        "    ('col', col_transformer),\n",
        "    ('model', xgbr_model)\n",
        "], verbose = True)"
      ]
    },
    {
      "cell_type": "code",
      "execution_count": 14,
      "metadata": {},
      "outputs": [
        {
          "name": "stdout",
          "output_type": "stream",
          "text": [
            "[Pipeline] .............. (step 1 of 3) Processing date, total=   0.0s\n",
            "[Pipeline] ............... (step 2 of 3) Processing col, total=   0.0s\n",
            "[Pipeline] ............. (step 3 of 3) Processing model, total=   0.4s\n"
          ]
        }
      ],
      "source": [
        "xgbr_pipe.fit(X_train, y_train)\n",
        "\n",
        "val_pred = xgbr_pipe.predict(X_val)"
      ]
    },
    {
      "cell_type": "code",
      "execution_count": 15,
      "metadata": {},
      "outputs": [
        {
          "name": "stdout",
          "output_type": "stream",
          "text": [
            "MAE Validation: 2317.02\n"
          ]
        }
      ],
      "source": [
        "mae_val = mean_absolute_error(y_val, val_pred)\n",
        "print(f'MAE Validation: {mae_val:.2f}')"
      ]
    },
    {
      "cell_type": "markdown",
      "metadata": {},
      "source": [
        "**¿Cómo cambia el MAE al implementar este algoritmo? ¿Es mejor o peor que el DummyRegressor?**\n",
        "\n",
        "Efectivamente cambia el MAE y el algoritmo entrega un MAE más bajo, ya que antes era de 13283  y ahora es de 2317, ello quiere decir que el modelo se equivoca en aproximadamente 2317 unidades al predecir las cantidades con el modelo XGBRegressor."
      ]
    },
    {
      "cell_type": "markdown",
      "metadata": {},
      "source": [
        "**7. Guardado de modelos**"
      ]
    },
    {
      "cell_type": "code",
      "execution_count": 16,
      "metadata": {},
      "outputs": [
        {
          "data": {
            "text/plain": [
              "['xgbr_pipe.pkl']"
            ]
          },
          "execution_count": 16,
          "metadata": {},
          "output_type": "execute_result"
        }
      ],
      "source": [
        "# Guardamos ambos modelos en formato pickle\n",
        "import joblib\n",
        "\n",
        "joblib.dump(dummy_pipe, 'dummy_pipe.pkl')\n",
        "joblib.dump(xgbr_pipe, 'xgbr_pipe.pkl')"
      ]
    },
    {
      "cell_type": "markdown",
      "metadata": {
        "cell_id": "7e17e46063774ec28226fe300d42ffe0",
        "deepnote_cell_type": "markdown",
        "id": "wnyMINdKI5v_"
      },
      "source": [
        "## 2. Forzando relaciones entre parámetros con XGBoost (10 puntos)\n",
        "\n",
        "<p align=\"center\">\n",
        "  <img src=\"https://64.media.tumblr.com/14cc45f9610a6ee341a45fd0d68f4dde/20d11b36022bca7b-bf/s640x960/67ab1db12ff73a530f649ac455c000945d99c0d6.gif\">\n",
        "</p>\n",
        "\n",
        "Un colega aficionado a la economía le *sopla* que la demanda guarda una relación inversa con el precio del producto. Motivado para impresionar al querido corpóreo, se propone hacer uso de esta información para mejorar su modelo realizando las siguientes tareas:\n",
        "\n",
        "1. Vuelva a entrenar el `Pipeline` con `XGBRegressor`, pero esta vez forzando una relación monótona negativa entre el precio y la cantidad. Para aplicar esta restricción apóyese en la siguiente <a href = https://xgboost.readthedocs.io/en/stable/tutorials/monotonic.html>documentación</a>. [6 puntos]\n",
        "\n",
        ">Hint 1: Para implementar el constraint se le sugiere hacerlo especificando el nombre de la variable. De ser así, probablemente le sea útil **mantener el formato de pandas** antes del step de entrenamiento.\n",
        "\n",
        ">Hint 2: Puede obtener el nombre de las columnas en el paso anterior al modelo regresor mediante el método `.get_feature_names_out()`\n",
        "\n",
        "2. Luego, vuelva a reportar el `MAE` sobre el conjunto de validación. [1 puntos]\n",
        "\n",
        "3. ¿Cómo cambia el error al incluir esta relación? ¿Tenía razón su amigo? [2 puntos]\n",
        "\n",
        "4. Guarde su modelo en un archivo .pkl [1 punto]"
      ]
    },
    {
      "cell_type": "markdown",
      "metadata": {},
      "source": [
        "**1. Reentrenamiento `Pipeline` con `XGBRegressor` y relaciones**"
      ]
    },
    {
      "cell_type": "code",
      "execution_count": 17,
      "metadata": {
        "cell_id": "f469f3b572be434191d2d5c3f11b20d2",
        "deepnote_cell_type": "code",
        "id": "B7tMnkiAI5v_"
      },
      "outputs": [
        {
          "data": {
            "text/plain": [
              "array(['num__lat', 'num__long', 'num__pop', 'num__capacity', 'num__price',\n",
              "       'cat__city_Athens', 'cat__city_Irakleion', 'cat__city_Larisa',\n",
              "       'cat__city_Patra', 'cat__city_Thessaloniki', 'cat__shop_shop_1',\n",
              "       'cat__shop_shop_2', 'cat__shop_shop_3', 'cat__shop_shop_4',\n",
              "       'cat__shop_shop_5', 'cat__shop_shop_6', 'cat__brand_adult-cola',\n",
              "       'cat__brand_gazoza', 'cat__brand_kinder-cola',\n",
              "       'cat__brand_lemon-boost', 'cat__brand_orange-power',\n",
              "       'cat__container_can', 'cat__container_glass',\n",
              "       'cat__container_plastic', 'cat__day_28', 'cat__day_29',\n",
              "       'cat__day_30', 'cat__day_31', 'cat__month_1', 'cat__month_2',\n",
              "       'cat__month_3', 'cat__month_4', 'cat__month_5', 'cat__month_6',\n",
              "       'cat__month_7', 'cat__month_8', 'cat__month_9', 'cat__month_10',\n",
              "       'cat__month_11', 'cat__month_12', 'cat__year_2012',\n",
              "       'cat__year_2013', 'cat__year_2014', 'cat__year_2015',\n",
              "       'cat__year_2016', 'cat__year_2017', 'cat__year_2018'], dtype=object)"
            ]
          },
          "metadata": {},
          "output_type": "display_data"
        }
      ],
      "source": [
        "# Obtenemos el nombre de las columnas posteriores a la transformación\n",
        "X_train_copy = X_train.copy()\n",
        "X_train_copy = date_transformer.fit_transform(X_train_copy)\n",
        "col_transformer.fit(X_train_copy).set_output(transform='pandas')\n",
        "feature_names = col_transformer.get_feature_names_out()\n",
        "display(feature_names)"
      ]
    },
    {
      "cell_type": "code",
      "execution_count": 18,
      "metadata": {},
      "outputs": [
        {
          "name": "stdout",
          "output_type": "stream",
          "text": [
            "[Pipeline] .............. (step 1 of 3) Processing date, total=   0.0s\n",
            "[Pipeline] ............... (step 2 of 3) Processing col, total=   0.0s\n",
            "[Pipeline] ............. (step 3 of 3) Processing model, total=   1.0s\n"
          ]
        }
      ],
      "source": [
        "# Restricciones en las variables\n",
        "monotone_constraints = {name: -1 if 'num__price' in name else 0 for name in feature_names}\n",
        "\n",
        "xgbr_const_model = XGBRegressor(monotone_constraints = monotone_constraints)\n",
        "\n",
        "xgbr_pipe_with_constraints = Pipeline([\n",
        "    ('date', date_transformer),\n",
        "    ('col', col_transformer),\n",
        "    ('model', xgbr_const_model)\n",
        "], verbose=True)\n",
        "\n",
        "xgbr_pipe_with_constraints.fit(X_train, y_train)\n",
        "\n",
        "val_pred = xgbr_pipe_with_constraints.predict(X_val)"
      ]
    },
    {
      "cell_type": "markdown",
      "metadata": {},
      "source": [
        "**2. Revisión de `MAE`**"
      ]
    },
    {
      "cell_type": "code",
      "execution_count": 19,
      "metadata": {},
      "outputs": [
        {
          "name": "stdout",
          "output_type": "stream",
          "text": [
            "MAE Validation: 2425.95\n"
          ]
        }
      ],
      "source": [
        "mae_val = mean_absolute_error(y_val, val_pred)\n",
        "print(f'MAE Validation: {mae_val:.2f}')"
      ]
    },
    {
      "cell_type": "markdown",
      "metadata": {},
      "source": [
        "**3. ¿Cómo cambia el error al incluir esta relación? ¿Tenía razón su amigo?**\n",
        "\n",
        "Empeora el MAE. Antes daba 2317 y ahora da 2425. No se está cumpliendo lo que dijo el amigo. "
      ]
    },
    {
      "cell_type": "markdown",
      "metadata": {},
      "source": [
        "**4. Guardado del modelo**"
      ]
    },
    {
      "cell_type": "code",
      "execution_count": 20,
      "metadata": {},
      "outputs": [
        {
          "data": {
            "text/plain": [
              "['xgbr_pipe_with_constraints.pkl']"
            ]
          },
          "execution_count": 20,
          "metadata": {},
          "output_type": "execute_result"
        }
      ],
      "source": [
        "# Guardar modelo entrenado\n",
        "joblib.dump(xgbr_pipe_with_constraints, 'xgbr_pipe_with_constraints.pkl')"
      ]
    },
    {
      "cell_type": "markdown",
      "metadata": {
        "cell_id": "e59ef80ed20b4de8921f24da74e87374",
        "deepnote_cell_type": "markdown",
        "id": "5D5-tX4dI5v_"
      },
      "source": [
        "## 1.3 Optimización de Hiperparámetros con Optuna (20 puntos)\n",
        "\n",
        "<p align=\"center\">\n",
        "  <img src=\"https://media.tenor.com/fmNdyGN4z5kAAAAi/hacking-lucy.gif\">\n",
        "</p>\n",
        "\n",
        "Luego de presentarle sus resultados, Fiu le pregunta si es posible mejorar *aun más* su modelo. En particular, le comenta de la optimización de hiperparámetros con metodologías bayesianas a través del paquete `optuna`. Como usted es un aficionado al entrenamiento de modelos de ML, se propone implementar la descabellada idea de su jefe.\n",
        "\n",
        "A partir de la mejor configuración obtenida en la sección anterior, utilice `optuna` para optimizar sus hiperparámetros. En particular, se pide que su optimización considere lo siguiente:\n",
        "\n",
        "- Fijar una semilla en las instancias necesarias para garantizar la reproducibilidad de resultados\n",
        "- Utilice `TPESampler` como método de muestreo\n",
        "- De `XGBRegressor`, optimice los siguientes hiperparámetros:\n",
        "    - `learning_rate` buscando valores flotantes en el rango (0.001, 0.1)\n",
        "    - `n_estimators` buscando valores enteros en el rango (50, 1000)\n",
        "    - `max_depth` buscando valores enteros en el rango (3, 10)\n",
        "    - `max_leaves` buscando valores enteros en el rango (0, 100)\n",
        "    - `min_child_weight` buscando valores enteros en el rango (1, 5)\n",
        "    - `reg_alpha` buscando valores flotantes en el rango (0, 1)\n",
        "    - `reg_lambda` buscando valores flotantes en el rango (0, 1)\n",
        "- De `OneHotEncoder`, optimice el hiperparámetro `min_frequency` buscando el mejor valor flotante en el rango (0.0, 1.0)\n",
        "\n",
        "Para ello se pide los siguientes pasos:\n",
        "1. Implemente una función `objective()` que permita minimizar el `MAE` en el conjunto de validación. Use el método `.set_user_attr()` para almacenar el mejor pipeline entrenado. [10 puntos]\n",
        "2. Fije el tiempo de entrenamiento a 5 minutos. [1 punto]\n",
        "3. Optimizar el modelo y reportar el número de *trials*, el `MAE` y los mejores hiperparámetros encontrados. ¿Cómo cambian sus resultados con respecto a la sección anterior? ¿A qué se puede deber esto? [3 puntos]\n",
        "4. Explique cada hiperparámetro y su rol en el modelo. ¿Hacen sentido los rangos de optimización indicados? [5 puntos]\n",
        "5. Guardar su modelo en un archivo .pkl [1 punto]"
      ]
    },
    {
      "cell_type": "code",
      "execution_count": 48,
      "metadata": {
        "cell_id": "de5914621cc64cb0b1bacb9ff565a97e",
        "deepnote_cell_type": "code",
        "id": "kMXXi1ckI5v_"
      },
      "outputs": [],
      "source": [
        "import optuna\n",
        "from optuna.samplers import TPESampler\n",
        "optuna.logging.set_verbosity(optuna.logging.WARNING)\n",
        "\n",
        "def objective(trial):\n",
        "    '''\n",
        "    Función objetivo para optimizar el modelo XGBRegressor, buscando la mejor\n",
        "    combinación de hiperparámetros para minimizar el error absoluto medio.\n",
        "    Se usará TPESampler como método de muestreo.\n",
        "\n",
        "    Args\n",
        "        trial: instancia de la clase Trial\n",
        "\n",
        "    Returns\n",
        "        mae: error absoluto medio\n",
        "    '''\n",
        "    # Definición de los hiperparámetros a optimizar para xgboost\n",
        "    xgb_params = {\n",
        "        'learning_rate': trial.suggest_float('learning_rate', 0.001, 0.1),\n",
        "        'n_estimators': trial.suggest_int('n_estimators', 50, 1000),\n",
        "        'max_depth': trial.suggest_int('max_depth', 3, 10),\n",
        "        'max_leaves': trial.suggest_int('max_leaves', 0, 100),\n",
        "        'min_child_weight': trial.suggest_int('min_child_weight', 1, 5),\n",
        "        'reg_alpha': trial.suggest_float('reg_alpha', 0, 1),\n",
        "        'reg_lambda': trial.suggest_float('reg_lambda', 0, 1)\n",
        "    }\n",
        "\n",
        "    # Optimizar el min_frequency del OneHotEncoder\n",
        "    min_frequency = trial.suggest_float('min_frequency', 0.0, 1.0)\n",
        "    col_transformer.set_params(cat__min_frequency=min_frequency)\n",
        "    #col_transformer.set_output(transform='pandas')\n",
        "\n",
        "    # Creación del modelo\n",
        "    xgb_model = XGBRegressor(random_state = 30, **xgb_params)\n",
        "\n",
        "    # Pipeline de trabajo\n",
        "    pipe = Pipeline([\n",
        "        ('date', date_transformer),\n",
        "        ('col', col_transformer),\n",
        "        ('model', xgb_model)\n",
        "    ], verbose=False)\n",
        "\n",
        "    # Entrenamiento\n",
        "    pipe.fit(X_train, y_train)\n",
        "\n",
        "    y_val_pred = pipe.predict(X_val)\n",
        "    mae = mean_absolute_error(y_val, y_val_pred)\n",
        "\n",
        "    # Guardar el mejor pipeline entrenado\n",
        "    trial.set_user_attr('best_pipeline', pipe)\n",
        "\n",
        "    return mae"
      ]
    },
    {
      "cell_type": "markdown",
      "metadata": {},
      "source": [
        "**2. Tiempo de entrenamiento en 5 minutos**"
      ]
    },
    {
      "cell_type": "code",
      "execution_count": 49,
      "metadata": {},
      "outputs": [],
      "source": [
        "time = 300"
      ]
    },
    {
      "cell_type": "markdown",
      "metadata": {},
      "source": [
        "**3. Optimización del modelo**"
      ]
    },
    {
      "cell_type": "code",
      "execution_count": 50,
      "metadata": {},
      "outputs": [
        {
          "data": {
            "application/vnd.jupyter.widget-view+json": {
              "model_id": "6575771cf88a4f69aa2e23c6e9680154",
              "version_major": 2,
              "version_minor": 0
            },
            "text/plain": [
              "   0%|          | 00:00/05:00"
            ]
          },
          "metadata": {},
          "output_type": "display_data"
        }
      ],
      "source": [
        "sampler = TPESampler(seed = 30)\n",
        "study = optuna.create_study(direction = 'minimize', sampler = sampler)\n",
        "study.optimize(objective, timeout = time, show_progress_bar=True)"
      ]
    },
    {
      "cell_type": "code",
      "execution_count": 24,
      "metadata": {},
      "outputs": [
        {
          "name": "stdout",
          "output_type": "stream",
          "text": [
            "Número de trials: 320\n",
            "Mejor MAE: 1913.6482233444317\n",
            "Mejores hiperparámetros encontrados: {'learning_rate': 0.09212573369015933, 'n_estimators': 773, 'max_depth': 10, 'max_leaves': 80, 'min_child_weight': 5, 'reg_alpha': 0.5784090921320153, 'reg_lambda': 0.7838672967186624, 'min_frequency': 0.05866313814747783}\n"
          ]
        }
      ],
      "source": [
        "print(f\"Número de trials: {len(study.trials)}\")\n",
        "print(f\"Mejor MAE: {study.best_value}\")\n",
        "print(\"Mejores hiperparámetros encontrados:\", study.best_params)"
      ]
    },
    {
      "cell_type": "markdown",
      "metadata": {},
      "source": [
        "**¿Cómo cambian sus resultados con respecto a la sección anterior? ¿A qué se puede deber esto?**\n",
        "\n",
        "Los resultados del modelo mejoran tras la optimización de hiperparámetros debido a que estos ajustes permiten que el modelo se adapte mejor a los datos. Por ejemplo, optimizar el `learning_rate` ayuda a equilibrar el ajuste y la generalización, mientras que parámetros como `max_depth` y `min_child_weight` controlan la complejidad del modelo y previenen el sobreajuste. Además, ajustar el `min_frequency` en el `OneHotEncoder` reduce la dimensionalidad al eliminar categorías irrelevantes. En conjunto, estos cambios resultan en predicciones más precisas y un menor MAE en el conjunto de validación."
      ]
    },
    {
      "cell_type": "markdown",
      "metadata": {},
      "source": [
        "**4. Explique cada hiperparámetro y su rol en el modelo. ¿Hacen sentido los rangos de optimización indicados?**\n",
        "\n",
        "Cada hiperparámetro en `XGBRegressor` desempeña un papel en el ajuste del modelo:\n",
        "\n",
        "- El `learning_rate` controla la velocidad de aprendizaje, equilibrando la precisión y la velocidad de convergencia; un rango de $[0.001, 0.1]$ es adecuado, ya que valores bajos son útiles para evitar sobreajuste. \n",
        "- El `n_estimators` determina el número de árboles que se entrenan, y un rango de $[50, 1000]$ permite un amplio ajuste para lograr un buen balance entre sesgo y varianza.\n",
        "- `max_depth` y `max_leaves` afectan la complejidad de los árboles, con valores entre $[3, 10]$ y $[0, 100]$ respectivamente, permitiendo capturar patrones complejos sin caer en el sobreajuste.\n",
        "- `min_child_weight` regula el peso mínimo necesario para crear una hoja en el árbol; los valores entre $[1, 5]$ son típicos para controlar el sobreajuste. \n",
        "- Por último, `reg_alpha` y `reg_lambda` son parámetros de regularización que ayudan a evitar el sobreajuste al penalizar la complejidad del modelo, con rangos de $[0.0, 1.0]$ que son comunes y efectivos. Para el `min_frequency` de `OneHotEncoder`, el rango de $[0.0, 1.0]$ es apropiado, ya que permite ajustar la frecuencia mínima necesaria para incluir una categoría en el modelo, ayudando a gestionar el tamaño del conjunto de datos y el sobreajuste. En general, los rangos de optimización propuestos son razonables y permiten un ajuste efectivo de los hiperparámetros."
      ]
    },
    {
      "cell_type": "markdown",
      "metadata": {},
      "source": [
        "**5. Guardado de modelo**"
      ]
    },
    {
      "cell_type": "code",
      "execution_count": 51,
      "metadata": {},
      "outputs": [
        {
          "name": "stdout",
          "output_type": "stream",
          "text": [
            "Pipeline recuperado con éxito.\n"
          ]
        }
      ],
      "source": [
        "best_pipeline = study.best_trial.user_attrs.get('best_pipeline', None)\n",
        "if best_pipeline is None:\n",
        "    print(\"No se guardó el mejor pipeline correctamente.\")\n",
        "else:\n",
        "    print(\"Pipeline recuperado con éxito.\")"
      ]
    },
    {
      "cell_type": "code",
      "execution_count": 52,
      "metadata": {},
      "outputs": [
        {
          "data": {
            "text/plain": [
              "['best_pipeline.pkl']"
            ]
          },
          "execution_count": 52,
          "metadata": {},
          "output_type": "execute_result"
        }
      ],
      "source": [
        "joblib.dump(best_pipeline, 'best_pipeline.pkl')"
      ]
    },
    {
      "cell_type": "markdown",
      "metadata": {
        "cell_id": "5195ccfc37e044ad9453f6eb2754f631",
        "deepnote_cell_type": "markdown",
        "id": "ZglyD_QWI5wA"
      },
      "source": [
        "## 4. Optimización de Hiperparámetros con Optuna y Prunners (17 puntos)\n",
        "\n",
        "<p align=\"center\">\n",
        "  <img src=\"https://i.pinimg.com/originals/90/16/f9/9016f919c2259f3d0e8fe465049638a7.gif\">\n",
        "</p>\n",
        "\n",
        "Después de optimizar el rendimiento de su modelo varias veces, Fiu le pregunta si no es posible optimizar el entrenamiento del modelo en sí mismo. Después de leer un par de post de personas de dudosa reputación en la *deepweb*, usted llega a la conclusión que puede cumplir este objetivo mediante la implementación de **Prunning**.\n",
        "\n",
        "Vuelva a optimizar los mismos hiperparámetros que la sección pasada, pero esta vez utilizando **Prunning** en la optimización. En particular, usted debe:\n",
        "\n",
        "1. Responder: ¿Qué es prunning? ¿De qué forma debería impactar en el entrenamiento? [2 puntos]\n",
        "2. Redefinir la función `objective()` utilizando `optuna.integration.XGBoostPruningCallback` como método de **Prunning** [10 puntos]\n",
        "3. Fijar nuevamente el tiempo de entrenamiento a 5 minutos [1 punto]\n",
        "4. Reportar el número de *trials*, el `MAE` y los mejores hiperparámetros encontrados. ¿Cómo cambian sus resultados con respecto a la sección anterior? ¿A qué se puede deber esto? [3 puntos]\n",
        "5. Guardar su modelo en un archivo .pkl [1 punto]\n",
        "\n",
        "Nota: Si quieren silenciar los prints obtenidos en el prunning, pueden hacerlo mediante el siguiente comando:\n",
        "\n",
        "```\n",
        "optuna.logging.set_verbosity(optuna.logging.WARNING)\n",
        "```\n",
        "\n",
        "De implementar la opción anterior, pueden especificar `show_progress_bar = True` en el método `optimize` para *más sabor*.\n",
        "\n",
        "Hint: Si quieren especificar parámetros del método .fit() del modelo a través del pipeline, pueden hacerlo por medio de la siguiente sintaxis: `pipeline.fit(stepmodelo__parametro = valor)`\n",
        "\n",
        "Hint2: Este <a href = https://stackoverflow.com/questions/40329576/sklearn-pass-fit-parameters-to-xgboost-in-pipeline>enlace</a> les puede ser de ayuda en su implementación"
      ]
    },
    {
      "cell_type": "code",
      "execution_count": 27,
      "metadata": {},
      "outputs": [],
      "source": [
        "#!pip install optuna-integration[xgboost]"
      ]
    },
    {
      "cell_type": "markdown",
      "metadata": {},
      "source": [
        "**1. ¿Qué es *pruning*? ¿De qué forma debería impactar en el entrenamiento?**\n",
        "\n",
        "El *pruning* es una técnica utilizada en el entrenamiento de modelos de árboles, como los de `XGBoost`, que consiste en eliminar nodos o ramas que no contribuyen significativamente a la mejora del modelo. Esto ayuda a reducir la complejidad del modelo y a prevenir el sobreajuste. Al implementar el *pruning*, se espera que el entrenamiento sea más eficiente y que el modelo resultante tenga un mejor rendimiento en datos no vistos, lo que se traduce en una mayor capacidad de generalización y un menor error en las predicciones."
      ]
    },
    {
      "cell_type": "markdown",
      "metadata": {},
      "source": [
        "**2. Redefinición `objective()`**"
      ]
    },
    {
      "cell_type": "code",
      "execution_count": 28,
      "metadata": {},
      "outputs": [],
      "source": [
        "from xgboost import DMatrix, train\n",
        "optuna.logging.set_verbosity(optuna.logging.WARNING)\n",
        "from optuna.integration import XGBoostPruningCallback\n",
        "\n",
        "def objective_with_pruning(trial):\n",
        "    '''\n",
        "    Función objetivo para optimizar el modelo XGBRegressor, buscando la mejor\n",
        "    combinación de hiperparámetros para minimizar el error absoluto medio.\n",
        "    Se usará TPESampler como método de muestreo.\n",
        "\n",
        "    Args\n",
        "        trial: instancia de la clase Trial\n",
        "\n",
        "    Returns\n",
        "        mae: error absoluto medio\n",
        "    '''\n",
        "    # Definición de los hiperparámetros a optimizar para xgboost\n",
        "    xgb_params = {\n",
        "        'learning_rate': trial.suggest_float('learning_rate', 0.001, 0.1),\n",
        "        'n_estimators': trial.suggest_int('n_estimators', 50, 1000),\n",
        "        'max_depth': trial.suggest_int('max_depth', 3, 10),\n",
        "        'max_leaves': trial.suggest_int('max_leaves', 0, 100),\n",
        "        'min_child_weight': trial.suggest_int('min_child_weight', 1, 5),\n",
        "        'reg_alpha': trial.suggest_float('reg_alpha', 0, 1),\n",
        "        'reg_lambda': trial.suggest_float('reg_lambda', 0, 1),\n",
        "        'eval_metric': 'mae',\n",
        "        'verbosity': 0\n",
        "    }\n",
        "\n",
        "    # Ajustar min_frequency del OneHotEncoder\n",
        "    min_frequency = trial.suggest_float('min_frequency', 0.0, 1.0)\n",
        "    col_transformer.set_params(cat__min_frequency=min_frequency)\n",
        "\n",
        "    # Transformar los datos para mejor majeno\n",
        "    pipe = Pipeline([\n",
        "        ('date', date_transformer),\n",
        "        ('col', col_transformer)\n",
        "    ])\n",
        "    X_train_transformed = pipe.fit_transform(X_train, y_train)\n",
        "    X_val_transformed = pipe.transform(X_val)\n",
        "\n",
        "    # Crear las matrices DMatrix para XGBoost -> más eficiente\n",
        "    dtrain = DMatrix(X_train_transformed, label=y_train)\n",
        "    dval = DMatrix(X_val_transformed, label=y_val)\n",
        "\n",
        "    # Callback para pruning\n",
        "    pruning_callback = XGBoostPruningCallback(trial, \"validation-mae\")\n",
        "\n",
        "    # Entrenar el modelo\n",
        "    model = train(\n",
        "        params=xgb_params,\n",
        "        dtrain=dtrain,\n",
        "        num_boost_round=1000,\n",
        "        evals=[(dval, 'validation')],\n",
        "        early_stopping_rounds=50,\n",
        "        callbacks=[pruning_callback],\n",
        "        verbose_eval=False\n",
        "    )\n",
        "\n",
        "    # Predicción y cálculo del MAE\n",
        "    y_val_pred = model.predict(dval)\n",
        "    mae = mean_absolute_error(y_val, y_val_pred)\n",
        "\n",
        "    # Guardar el pipeline que mejor responde\n",
        "    trial.set_user_attr('best_pruning_pipeline', pipe)\n",
        "\n",
        "    return mae\n"
      ]
    },
    {
      "cell_type": "markdown",
      "metadata": {},
      "source": [
        "**3. Tiempo de entrenamiento 5 minutos**"
      ]
    },
    {
      "cell_type": "code",
      "execution_count": 29,
      "metadata": {},
      "outputs": [],
      "source": [
        "time = 300"
      ]
    },
    {
      "cell_type": "markdown",
      "metadata": {},
      "source": [
        "**4. Optimización del modelo**"
      ]
    },
    {
      "cell_type": "code",
      "execution_count": 30,
      "metadata": {},
      "outputs": [
        {
          "data": {
            "application/vnd.jupyter.widget-view+json": {
              "model_id": "d1c7b7fe468c4fa6b8e0481578579b96",
              "version_major": 2,
              "version_minor": 0
            },
            "text/plain": [
              "   0%|          | 00:00/05:00"
            ]
          },
          "metadata": {},
          "output_type": "display_data"
        }
      ],
      "source": [
        "sampler = TPESampler(seed = 30)\n",
        "study_pruning = optuna.create_study(direction = 'minimize', sampler = sampler)\n",
        "study_pruning.optimize(objective_with_pruning, timeout = time, show_progress_bar=True)"
      ]
    },
    {
      "cell_type": "code",
      "execution_count": 31,
      "metadata": {},
      "outputs": [
        {
          "name": "stdout",
          "output_type": "stream",
          "text": [
            "Número de trials: 632\n",
            "Mejor MAE: 1898.5624134857383\n",
            "Mejores hiperparámetros encontrados: {'learning_rate': 0.0953434657929359, 'n_estimators': 340, 'max_depth': 9, 'max_leaves': 82, 'min_child_weight': 5, 'reg_alpha': 0.21211990762027663, 'reg_lambda': 0.8543027637253752, 'min_frequency': 0.0731755653593289}\n"
          ]
        }
      ],
      "source": [
        "print(f\"Número de trials: {len(study_pruning.trials)}\")\n",
        "print(f\"Mejor MAE: {study_pruning.best_value}\")\n",
        "print(\"Mejores hiperparámetros encontrados:\", study_pruning.best_params)"
      ]
    },
    {
      "cell_type": "markdown",
      "metadata": {},
      "source": [
        "**¿Cómo cambian sus resultados con respecto a la sección anterior?**\n",
        "\n",
        "Los números de trials aumentaron de 320 a 632.\n",
        "El MAE baja, ya que ahora es 1898 y en la sección anterior era 1996. \n",
        "\n",
        "**¿A qué se puede deber esto?**\n",
        "\n",
        "Reducción en el MAE (1913 vs 1898):\n",
        "\n",
        "La disminución del MAE de 1913 a 1898 indica que la optimización actual ha mejorado el rendimiento del modelo. Esto puede deberse a varios factores, como:\n",
        "* El pruning ha permitido enfocarse en los trials más prometedores.\n",
        "* Mejor ajuste de hiperparámetros gracias al refinamiento en el proceso de optimización.\n",
        "* El uso de un conjunto de validación más eficiente o bien ajustado.\n"
      ]
    },
    {
      "cell_type": "markdown",
      "metadata": {},
      "source": [
        "**5. Guardado del modelo**"
      ]
    },
    {
      "cell_type": "code",
      "execution_count": 32,
      "metadata": {},
      "outputs": [
        {
          "name": "stdout",
          "output_type": "stream",
          "text": [
            "Pipeline recuperado con éxito.\n"
          ]
        }
      ],
      "source": [
        "best_pruning_pipeline = study_pruning.best_trial.user_attrs.get('best_pruning_pipeline', None)\n",
        "if best_pruning_pipeline is None:\n",
        "    print(\"No se guardó el mejor pipeline correctamente.\")\n",
        "else:\n",
        "    print(\"Pipeline recuperado con éxito.\")"
      ]
    },
    {
      "cell_type": "code",
      "execution_count": 33,
      "metadata": {},
      "outputs": [
        {
          "data": {
            "text/plain": [
              "['best_pruning_pipeline.pkl']"
            ]
          },
          "execution_count": 33,
          "metadata": {},
          "output_type": "execute_result"
        }
      ],
      "source": [
        "joblib.dump(best_pipeline, 'best_pruning_pipeline.pkl')"
      ]
    },
    {
      "cell_type": "markdown",
      "metadata": {
        "cell_id": "8a081778cc704fc6bed05393a5419327",
        "deepnote_cell_type": "markdown",
        "id": "ZMiiVaCUI5wA"
      },
      "source": [
        "## 5. Visualizaciones (5 puntos)\n",
        "\n",
        "<p align=\"center\">\n",
        "  <img src=\"https://media.tenor.com/F-LgB1xTebEAAAAd/look-at-this-graph-nickelback.gif\">\n",
        "</p>\n",
        "\n",
        "\n",
        "Satisfecho con su trabajo, Fiu le pregunta si es posible generar visualizaciones que permitan entender el entrenamiento de su modelo.\n",
        "\n",
        "A partir del siguiente <a href = https://optuna.readthedocs.io/en/stable/tutorial/10_key_features/005_visualization.html#visualization>enlace</a>, genere las siguientes visualizaciones:\n",
        "\n",
        "1. Gráfico de historial de optimización [1 punto]\n",
        "2. Gráfico de coordenadas paralelas [1 punto]\n",
        "3. Gráfico de importancia de hiperparámetros [1 punto]\n",
        "\n",
        "Comente sus resultados:\n",
        "\n",
        "4. ¿Desde qué *trial* se empiezan a observar mejoras notables en sus resultados? [0.5 puntos]\n",
        "5. ¿Qué tendencias puede observar a partir del gráfico de coordenadas paralelas? [1 punto]\n",
        "6. ¿Cuáles son los hiperparámetros con mayor importancia para la optimización de su modelo? [0.5 puntos]"
      ]
    },
    {
      "cell_type": "markdown",
      "metadata": {},
      "source": [
        "**1. Historial de optimización**"
      ]
    },
    {
      "cell_type": "code",
      "execution_count": 34,
      "metadata": {
        "cell_id": "0e706dc9a8d946eda7a9eb1f0463c6d7",
        "deepnote_cell_type": "code",
        "id": "xjxAEENAI5wA"
      },
      "outputs": [
        {
          "data": {
            "application/vnd.plotly.v1+json": {
              "config": {
                "plotlyServerURL": "https://plot.ly"
              },
              "data": [
                {
                  "mode": "markers",
                  "name": "Objective Value",
                  "type": "scatter",
                  "x": [
                    0,
                    1,
                    2,
                    3,
                    4,
                    20,
                    21,
                    22,
                    33,
                    34,
                    35,
                    37,
                    38,
                    42,
                    43,
                    51,
                    52,
                    55,
                    58,
                    61,
                    62,
                    63,
                    64,
                    65,
                    66,
                    67,
                    68,
                    69,
                    71,
                    72,
                    75,
                    80,
                    81,
                    83,
                    91,
                    96,
                    101,
                    102,
                    105,
                    111,
                    118,
                    122,
                    123,
                    126,
                    127,
                    129,
                    130,
                    131,
                    132,
                    141,
                    142,
                    151,
                    152,
                    155,
                    157,
                    166,
                    172,
                    173,
                    179,
                    183,
                    184,
                    186,
                    191,
                    192,
                    203,
                    206,
                    213,
                    216,
                    221,
                    222,
                    225,
                    260,
                    264,
                    265,
                    266,
                    272,
                    273,
                    275,
                    285,
                    294,
                    326,
                    327,
                    331,
                    335,
                    336,
                    339,
                    349,
                    357,
                    358,
                    360,
                    366,
                    374,
                    378,
                    393,
                    394,
                    417,
                    439,
                    445,
                    480,
                    490,
                    499,
                    510,
                    511,
                    528,
                    537,
                    540,
                    541,
                    545,
                    548,
                    552,
                    557,
                    574,
                    580,
                    586,
                    587,
                    588,
                    596,
                    598,
                    605,
                    608,
                    628,
                    631
                  ],
                  "y": [
                    6352.530633422032,
                    5573.757808895239,
                    2770.860375485004,
                    7302.13582739094,
                    7285.672221712458,
                    5596.013817703964,
                    5622.260588165897,
                    5522.015775744547,
                    2034.3958473154362,
                    2135.332972584155,
                    2098.2729921481755,
                    2113.5588487049076,
                    2091.2984096450296,
                    2073.5696734742032,
                    2060.286536709574,
                    2057.9632276701445,
                    2080.231907213454,
                    2047.4507597852873,
                    2019.989492613517,
                    2052.280628834155,
                    2041.9587716941066,
                    1995.2504774669674,
                    2059.7808993550757,
                    2010.0481137269296,
                    2020.2687645828964,
                    2033.0589489828021,
                    1947.9380954409605,
                    1981.6468468173239,
                    1994.8057422202705,
                    2027.4098573825504,
                    2010.4916846358535,
                    1971.836163944526,
                    1975.067461297976,
                    1963.443782606701,
                    1964.6711832136116,
                    1994.482531656355,
                    2010.306430401898,
                    1998.9103278038485,
                    2014.8922124056207,
                    2002.1372201394715,
                    2005.788411512951,
                    2002.0171717701342,
                    1980.5946343133915,
                    1967.550304930002,
                    1975.9434224583158,
                    1948.0723372286598,
                    1968.2755954409606,
                    1975.3617169476195,
                    1949.4174072265625,
                    1982.8852219549601,
                    1964.274362285025,
                    1946.8679879207739,
                    1955.2092290071832,
                    1967.1063950097,
                    1983.961142643666,
                    1921.850243485214,
                    1941.4201966560927,
                    1972.6815002031774,
                    1957.8540504404361,
                    1986.6504137282404,
                    1975.9866687749056,
                    1978.3161255702075,
                    1986.9742316943687,
                    1973.1875319512899,
                    1968.569018226982,
                    1979.5220175519084,
                    1943.922857952758,
                    1922.146060487888,
                    1947.1459166251573,
                    1950.743386246854,
                    1966.9919520435717,
                    1961.2904265742975,
                    1973.0531869363465,
                    1963.1322339358746,
                    1945.9839529152684,
                    1972.9032668964974,
                    1939.9217735751363,
                    1946.6765095755559,
                    1970.858441530778,
                    1966.5415622378355,
                    1941.3921794712144,
                    1956.177646549916,
                    1964.849450929373,
                    1935.7711768233537,
                    1957.0447701473365,
                    1955.6488405778105,
                    1941.1389813928797,
                    1969.0808731386326,
                    1949.17280420905,
                    1952.0147885316171,
                    1954.2685868026426,
                    1934.8052418139157,
                    1955.6160526557258,
                    1969.7153995385906,
                    1962.647429805474,
                    1954.8605162345323,
                    1960.596066714293,
                    1938.7340309091862,
                    1958.3851216770659,
                    1960.858738104289,
                    1960.7317769505034,
                    1951.5683377464345,
                    1939.5751849897756,
                    1941.3526527763213,
                    1954.7364762479026,
                    1955.8827880859376,
                    1935.5431013068896,
                    1935.3512755938025,
                    1940.1997512714975,
                    1902.7524330497588,
                    1898.5624134857383,
                    1915.745755394033,
                    1961.326111577181,
                    1915.1580746644295,
                    1907.556508231963,
                    1933.1476121736052,
                    1947.5948940200294,
                    1920.419633821833,
                    1934.9132597852874,
                    1934.5305705025692,
                    1938.2328510054006,
                    1943.607437441013
                  ]
                },
                {
                  "mode": "lines",
                  "name": "Best Value",
                  "type": "scatter",
                  "x": [
                    0,
                    1,
                    2,
                    3,
                    4,
                    5,
                    6,
                    7,
                    8,
                    9,
                    10,
                    11,
                    12,
                    13,
                    14,
                    15,
                    16,
                    17,
                    18,
                    19,
                    20,
                    21,
                    22,
                    23,
                    24,
                    25,
                    26,
                    27,
                    28,
                    29,
                    30,
                    31,
                    32,
                    33,
                    34,
                    35,
                    36,
                    37,
                    38,
                    39,
                    40,
                    41,
                    42,
                    43,
                    44,
                    45,
                    46,
                    47,
                    48,
                    49,
                    50,
                    51,
                    52,
                    53,
                    54,
                    55,
                    56,
                    57,
                    58,
                    59,
                    60,
                    61,
                    62,
                    63,
                    64,
                    65,
                    66,
                    67,
                    68,
                    69,
                    70,
                    71,
                    72,
                    73,
                    74,
                    75,
                    76,
                    77,
                    78,
                    79,
                    80,
                    81,
                    82,
                    83,
                    84,
                    85,
                    86,
                    87,
                    88,
                    89,
                    90,
                    91,
                    92,
                    93,
                    94,
                    95,
                    96,
                    97,
                    98,
                    99,
                    100,
                    101,
                    102,
                    103,
                    104,
                    105,
                    106,
                    107,
                    108,
                    109,
                    110,
                    111,
                    112,
                    113,
                    114,
                    115,
                    116,
                    117,
                    118,
                    119,
                    120,
                    121,
                    122,
                    123,
                    124,
                    125,
                    126,
                    127,
                    128,
                    129,
                    130,
                    131,
                    132,
                    133,
                    134,
                    135,
                    136,
                    137,
                    138,
                    139,
                    140,
                    141,
                    142,
                    143,
                    144,
                    145,
                    146,
                    147,
                    148,
                    149,
                    150,
                    151,
                    152,
                    153,
                    154,
                    155,
                    156,
                    157,
                    158,
                    159,
                    160,
                    161,
                    162,
                    163,
                    164,
                    165,
                    166,
                    167,
                    168,
                    169,
                    170,
                    171,
                    172,
                    173,
                    174,
                    175,
                    176,
                    177,
                    178,
                    179,
                    180,
                    181,
                    182,
                    183,
                    184,
                    185,
                    186,
                    187,
                    188,
                    189,
                    190,
                    191,
                    192,
                    193,
                    194,
                    195,
                    196,
                    197,
                    198,
                    199,
                    200,
                    201,
                    202,
                    203,
                    204,
                    205,
                    206,
                    207,
                    208,
                    209,
                    210,
                    211,
                    212,
                    213,
                    214,
                    215,
                    216,
                    217,
                    218,
                    219,
                    220,
                    221,
                    222,
                    223,
                    224,
                    225,
                    226,
                    227,
                    228,
                    229,
                    230,
                    231,
                    232,
                    233,
                    234,
                    235,
                    236,
                    237,
                    238,
                    239,
                    240,
                    241,
                    242,
                    243,
                    244,
                    245,
                    246,
                    247,
                    248,
                    249,
                    250,
                    251,
                    252,
                    253,
                    254,
                    255,
                    256,
                    257,
                    258,
                    259,
                    260,
                    261,
                    262,
                    263,
                    264,
                    265,
                    266,
                    267,
                    268,
                    269,
                    270,
                    271,
                    272,
                    273,
                    274,
                    275,
                    276,
                    277,
                    278,
                    279,
                    280,
                    281,
                    282,
                    283,
                    284,
                    285,
                    286,
                    287,
                    288,
                    289,
                    290,
                    291,
                    292,
                    293,
                    294,
                    295,
                    296,
                    297,
                    298,
                    299,
                    300,
                    301,
                    302,
                    303,
                    304,
                    305,
                    306,
                    307,
                    308,
                    309,
                    310,
                    311,
                    312,
                    313,
                    314,
                    315,
                    316,
                    317,
                    318,
                    319,
                    320,
                    321,
                    322,
                    323,
                    324,
                    325,
                    326,
                    327,
                    328,
                    329,
                    330,
                    331,
                    332,
                    333,
                    334,
                    335,
                    336,
                    337,
                    338,
                    339,
                    340,
                    341,
                    342,
                    343,
                    344,
                    345,
                    346,
                    347,
                    348,
                    349,
                    350,
                    351,
                    352,
                    353,
                    354,
                    355,
                    356,
                    357,
                    358,
                    359,
                    360,
                    361,
                    362,
                    363,
                    364,
                    365,
                    366,
                    367,
                    368,
                    369,
                    370,
                    371,
                    372,
                    373,
                    374,
                    375,
                    376,
                    377,
                    378,
                    379,
                    380,
                    381,
                    382,
                    383,
                    384,
                    385,
                    386,
                    387,
                    388,
                    389,
                    390,
                    391,
                    392,
                    393,
                    394,
                    395,
                    396,
                    397,
                    398,
                    399,
                    400,
                    401,
                    402,
                    403,
                    404,
                    405,
                    406,
                    407,
                    408,
                    409,
                    410,
                    411,
                    412,
                    413,
                    414,
                    415,
                    416,
                    417,
                    418,
                    419,
                    420,
                    421,
                    422,
                    423,
                    424,
                    425,
                    426,
                    427,
                    428,
                    429,
                    430,
                    431,
                    432,
                    433,
                    434,
                    435,
                    436,
                    437,
                    438,
                    439,
                    440,
                    441,
                    442,
                    443,
                    444,
                    445,
                    446,
                    447,
                    448,
                    449,
                    450,
                    451,
                    452,
                    453,
                    454,
                    455,
                    456,
                    457,
                    458,
                    459,
                    460,
                    461,
                    462,
                    463,
                    464,
                    465,
                    466,
                    467,
                    468,
                    469,
                    470,
                    471,
                    472,
                    473,
                    474,
                    475,
                    476,
                    477,
                    478,
                    479,
                    480,
                    481,
                    482,
                    483,
                    484,
                    485,
                    486,
                    487,
                    488,
                    489,
                    490,
                    491,
                    492,
                    493,
                    494,
                    495,
                    496,
                    497,
                    498,
                    499,
                    500,
                    501,
                    502,
                    503,
                    504,
                    505,
                    506,
                    507,
                    508,
                    509,
                    510,
                    511,
                    512,
                    513,
                    514,
                    515,
                    516,
                    517,
                    518,
                    519,
                    520,
                    521,
                    522,
                    523,
                    524,
                    525,
                    526,
                    527,
                    528,
                    529,
                    530,
                    531,
                    532,
                    533,
                    534,
                    535,
                    536,
                    537,
                    538,
                    539,
                    540,
                    541,
                    542,
                    543,
                    544,
                    545,
                    546,
                    547,
                    548,
                    549,
                    550,
                    551,
                    552,
                    553,
                    554,
                    555,
                    556,
                    557,
                    558,
                    559,
                    560,
                    561,
                    562,
                    563,
                    564,
                    565,
                    566,
                    567,
                    568,
                    569,
                    570,
                    571,
                    572,
                    573,
                    574,
                    575,
                    576,
                    577,
                    578,
                    579,
                    580,
                    581,
                    582,
                    583,
                    584,
                    585,
                    586,
                    587,
                    588,
                    589,
                    590,
                    591,
                    592,
                    593,
                    594,
                    595,
                    596,
                    597,
                    598,
                    599,
                    600,
                    601,
                    602,
                    603,
                    604,
                    605,
                    606,
                    607,
                    608,
                    609,
                    610,
                    611,
                    612,
                    613,
                    614,
                    615,
                    616,
                    617,
                    618,
                    619,
                    620,
                    621,
                    622,
                    623,
                    624,
                    625,
                    626,
                    627,
                    628,
                    629,
                    630,
                    631
                  ],
                  "y": [
                    6352.530633422032,
                    5573.757808895239,
                    2770.860375485004,
                    2770.860375485004,
                    2770.860375485004,
                    2770.860375485004,
                    2770.860375485004,
                    2770.860375485004,
                    2770.860375485004,
                    2770.860375485004,
                    2770.860375485004,
                    2770.860375485004,
                    2770.860375485004,
                    2770.860375485004,
                    2770.860375485004,
                    2770.860375485004,
                    2770.860375485004,
                    2770.860375485004,
                    2770.860375485004,
                    2770.860375485004,
                    2770.860375485004,
                    2770.860375485004,
                    2770.860375485004,
                    2770.860375485004,
                    2770.860375485004,
                    2770.860375485004,
                    2770.860375485004,
                    2770.860375485004,
                    2770.860375485004,
                    2770.860375485004,
                    2770.860375485004,
                    2770.860375485004,
                    2770.860375485004,
                    2034.3958473154362,
                    2034.3958473154362,
                    2034.3958473154362,
                    2034.3958473154362,
                    2034.3958473154362,
                    2034.3958473154362,
                    2034.3958473154362,
                    2034.3958473154362,
                    2034.3958473154362,
                    2034.3958473154362,
                    2034.3958473154362,
                    2034.3958473154362,
                    2034.3958473154362,
                    2034.3958473154362,
                    2034.3958473154362,
                    2034.3958473154362,
                    2034.3958473154362,
                    2034.3958473154362,
                    2034.3958473154362,
                    2034.3958473154362,
                    2034.3958473154362,
                    2034.3958473154362,
                    2034.3958473154362,
                    2034.3958473154362,
                    2034.3958473154362,
                    2019.989492613517,
                    2019.989492613517,
                    2019.989492613517,
                    2019.989492613517,
                    2019.989492613517,
                    1995.2504774669674,
                    1995.2504774669674,
                    1995.2504774669674,
                    1995.2504774669674,
                    1995.2504774669674,
                    1947.9380954409605,
                    1947.9380954409605,
                    1947.9380954409605,
                    1947.9380954409605,
                    1947.9380954409605,
                    1947.9380954409605,
                    1947.9380954409605,
                    1947.9380954409605,
                    1947.9380954409605,
                    1947.9380954409605,
                    1947.9380954409605,
                    1947.9380954409605,
                    1947.9380954409605,
                    1947.9380954409605,
                    1947.9380954409605,
                    1947.9380954409605,
                    1947.9380954409605,
                    1947.9380954409605,
                    1947.9380954409605,
                    1947.9380954409605,
                    1947.9380954409605,
                    1947.9380954409605,
                    1947.9380954409605,
                    1947.9380954409605,
                    1947.9380954409605,
                    1947.9380954409605,
                    1947.9380954409605,
                    1947.9380954409605,
                    1947.9380954409605,
                    1947.9380954409605,
                    1947.9380954409605,
                    1947.9380954409605,
                    1947.9380954409605,
                    1947.9380954409605,
                    1947.9380954409605,
                    1947.9380954409605,
                    1947.9380954409605,
                    1947.9380954409605,
                    1947.9380954409605,
                    1947.9380954409605,
                    1947.9380954409605,
                    1947.9380954409605,
                    1947.9380954409605,
                    1947.9380954409605,
                    1947.9380954409605,
                    1947.9380954409605,
                    1947.9380954409605,
                    1947.9380954409605,
                    1947.9380954409605,
                    1947.9380954409605,
                    1947.9380954409605,
                    1947.9380954409605,
                    1947.9380954409605,
                    1947.9380954409605,
                    1947.9380954409605,
                    1947.9380954409605,
                    1947.9380954409605,
                    1947.9380954409605,
                    1947.9380954409605,
                    1947.9380954409605,
                    1947.9380954409605,
                    1947.9380954409605,
                    1947.9380954409605,
                    1947.9380954409605,
                    1947.9380954409605,
                    1947.9380954409605,
                    1947.9380954409605,
                    1947.9380954409605,
                    1947.9380954409605,
                    1947.9380954409605,
                    1947.9380954409605,
                    1947.9380954409605,
                    1947.9380954409605,
                    1947.9380954409605,
                    1947.9380954409605,
                    1947.9380954409605,
                    1947.9380954409605,
                    1947.9380954409605,
                    1947.9380954409605,
                    1947.9380954409605,
                    1947.9380954409605,
                    1947.9380954409605,
                    1947.9380954409605,
                    1946.8679879207739,
                    1946.8679879207739,
                    1946.8679879207739,
                    1946.8679879207739,
                    1946.8679879207739,
                    1946.8679879207739,
                    1946.8679879207739,
                    1946.8679879207739,
                    1946.8679879207739,
                    1946.8679879207739,
                    1946.8679879207739,
                    1946.8679879207739,
                    1946.8679879207739,
                    1946.8679879207739,
                    1946.8679879207739,
                    1921.850243485214,
                    1921.850243485214,
                    1921.850243485214,
                    1921.850243485214,
                    1921.850243485214,
                    1921.850243485214,
                    1921.850243485214,
                    1921.850243485214,
                    1921.850243485214,
                    1921.850243485214,
                    1921.850243485214,
                    1921.850243485214,
                    1921.850243485214,
                    1921.850243485214,
                    1921.850243485214,
                    1921.850243485214,
                    1921.850243485214,
                    1921.850243485214,
                    1921.850243485214,
                    1921.850243485214,
                    1921.850243485214,
                    1921.850243485214,
                    1921.850243485214,
                    1921.850243485214,
                    1921.850243485214,
                    1921.850243485214,
                    1921.850243485214,
                    1921.850243485214,
                    1921.850243485214,
                    1921.850243485214,
                    1921.850243485214,
                    1921.850243485214,
                    1921.850243485214,
                    1921.850243485214,
                    1921.850243485214,
                    1921.850243485214,
                    1921.850243485214,
                    1921.850243485214,
                    1921.850243485214,
                    1921.850243485214,
                    1921.850243485214,
                    1921.850243485214,
                    1921.850243485214,
                    1921.850243485214,
                    1921.850243485214,
                    1921.850243485214,
                    1921.850243485214,
                    1921.850243485214,
                    1921.850243485214,
                    1921.850243485214,
                    1921.850243485214,
                    1921.850243485214,
                    1921.850243485214,
                    1921.850243485214,
                    1921.850243485214,
                    1921.850243485214,
                    1921.850243485214,
                    1921.850243485214,
                    1921.850243485214,
                    1921.850243485214,
                    1921.850243485214,
                    1921.850243485214,
                    1921.850243485214,
                    1921.850243485214,
                    1921.850243485214,
                    1921.850243485214,
                    1921.850243485214,
                    1921.850243485214,
                    1921.850243485214,
                    1921.850243485214,
                    1921.850243485214,
                    1921.850243485214,
                    1921.850243485214,
                    1921.850243485214,
                    1921.850243485214,
                    1921.850243485214,
                    1921.850243485214,
                    1921.850243485214,
                    1921.850243485214,
                    1921.850243485214,
                    1921.850243485214,
                    1921.850243485214,
                    1921.850243485214,
                    1921.850243485214,
                    1921.850243485214,
                    1921.850243485214,
                    1921.850243485214,
                    1921.850243485214,
                    1921.850243485214,
                    1921.850243485214,
                    1921.850243485214,
                    1921.850243485214,
                    1921.850243485214,
                    1921.850243485214,
                    1921.850243485214,
                    1921.850243485214,
                    1921.850243485214,
                    1921.850243485214,
                    1921.850243485214,
                    1921.850243485214,
                    1921.850243485214,
                    1921.850243485214,
                    1921.850243485214,
                    1921.850243485214,
                    1921.850243485214,
                    1921.850243485214,
                    1921.850243485214,
                    1921.850243485214,
                    1921.850243485214,
                    1921.850243485214,
                    1921.850243485214,
                    1921.850243485214,
                    1921.850243485214,
                    1921.850243485214,
                    1921.850243485214,
                    1921.850243485214,
                    1921.850243485214,
                    1921.850243485214,
                    1921.850243485214,
                    1921.850243485214,
                    1921.850243485214,
                    1921.850243485214,
                    1921.850243485214,
                    1921.850243485214,
                    1921.850243485214,
                    1921.850243485214,
                    1921.850243485214,
                    1921.850243485214,
                    1921.850243485214,
                    1921.850243485214,
                    1921.850243485214,
                    1921.850243485214,
                    1921.850243485214,
                    1921.850243485214,
                    1921.850243485214,
                    1921.850243485214,
                    1921.850243485214,
                    1921.850243485214,
                    1921.850243485214,
                    1921.850243485214,
                    1921.850243485214,
                    1921.850243485214,
                    1921.850243485214,
                    1921.850243485214,
                    1921.850243485214,
                    1921.850243485214,
                    1921.850243485214,
                    1921.850243485214,
                    1921.850243485214,
                    1921.850243485214,
                    1921.850243485214,
                    1921.850243485214,
                    1921.850243485214,
                    1921.850243485214,
                    1921.850243485214,
                    1921.850243485214,
                    1921.850243485214,
                    1921.850243485214,
                    1921.850243485214,
                    1921.850243485214,
                    1921.850243485214,
                    1921.850243485214,
                    1921.850243485214,
                    1921.850243485214,
                    1921.850243485214,
                    1921.850243485214,
                    1921.850243485214,
                    1921.850243485214,
                    1921.850243485214,
                    1921.850243485214,
                    1921.850243485214,
                    1921.850243485214,
                    1921.850243485214,
                    1921.850243485214,
                    1921.850243485214,
                    1921.850243485214,
                    1921.850243485214,
                    1921.850243485214,
                    1921.850243485214,
                    1921.850243485214,
                    1921.850243485214,
                    1921.850243485214,
                    1921.850243485214,
                    1921.850243485214,
                    1921.850243485214,
                    1921.850243485214,
                    1921.850243485214,
                    1921.850243485214,
                    1921.850243485214,
                    1921.850243485214,
                    1921.850243485214,
                    1921.850243485214,
                    1921.850243485214,
                    1921.850243485214,
                    1921.850243485214,
                    1921.850243485214,
                    1921.850243485214,
                    1921.850243485214,
                    1921.850243485214,
                    1921.850243485214,
                    1921.850243485214,
                    1921.850243485214,
                    1921.850243485214,
                    1921.850243485214,
                    1921.850243485214,
                    1921.850243485214,
                    1921.850243485214,
                    1921.850243485214,
                    1921.850243485214,
                    1921.850243485214,
                    1921.850243485214,
                    1921.850243485214,
                    1921.850243485214,
                    1921.850243485214,
                    1921.850243485214,
                    1921.850243485214,
                    1921.850243485214,
                    1921.850243485214,
                    1921.850243485214,
                    1921.850243485214,
                    1921.850243485214,
                    1921.850243485214,
                    1921.850243485214,
                    1921.850243485214,
                    1921.850243485214,
                    1921.850243485214,
                    1921.850243485214,
                    1921.850243485214,
                    1921.850243485214,
                    1921.850243485214,
                    1921.850243485214,
                    1921.850243485214,
                    1921.850243485214,
                    1921.850243485214,
                    1921.850243485214,
                    1921.850243485214,
                    1921.850243485214,
                    1921.850243485214,
                    1921.850243485214,
                    1921.850243485214,
                    1921.850243485214,
                    1921.850243485214,
                    1921.850243485214,
                    1921.850243485214,
                    1921.850243485214,
                    1921.850243485214,
                    1921.850243485214,
                    1921.850243485214,
                    1921.850243485214,
                    1921.850243485214,
                    1921.850243485214,
                    1921.850243485214,
                    1921.850243485214,
                    1921.850243485214,
                    1921.850243485214,
                    1921.850243485214,
                    1921.850243485214,
                    1921.850243485214,
                    1921.850243485214,
                    1921.850243485214,
                    1921.850243485214,
                    1921.850243485214,
                    1921.850243485214,
                    1921.850243485214,
                    1921.850243485214,
                    1921.850243485214,
                    1921.850243485214,
                    1921.850243485214,
                    1921.850243485214,
                    1921.850243485214,
                    1921.850243485214,
                    1921.850243485214,
                    1921.850243485214,
                    1921.850243485214,
                    1921.850243485214,
                    1921.850243485214,
                    1921.850243485214,
                    1921.850243485214,
                    1921.850243485214,
                    1921.850243485214,
                    1921.850243485214,
                    1921.850243485214,
                    1921.850243485214,
                    1921.850243485214,
                    1921.850243485214,
                    1921.850243485214,
                    1921.850243485214,
                    1921.850243485214,
                    1921.850243485214,
                    1921.850243485214,
                    1921.850243485214,
                    1921.850243485214,
                    1921.850243485214,
                    1921.850243485214,
                    1921.850243485214,
                    1921.850243485214,
                    1921.850243485214,
                    1921.850243485214,
                    1921.850243485214,
                    1921.850243485214,
                    1921.850243485214,
                    1921.850243485214,
                    1921.850243485214,
                    1921.850243485214,
                    1921.850243485214,
                    1921.850243485214,
                    1921.850243485214,
                    1921.850243485214,
                    1921.850243485214,
                    1921.850243485214,
                    1921.850243485214,
                    1921.850243485214,
                    1921.850243485214,
                    1921.850243485214,
                    1921.850243485214,
                    1921.850243485214,
                    1921.850243485214,
                    1921.850243485214,
                    1921.850243485214,
                    1921.850243485214,
                    1921.850243485214,
                    1921.850243485214,
                    1921.850243485214,
                    1921.850243485214,
                    1921.850243485214,
                    1921.850243485214,
                    1921.850243485214,
                    1921.850243485214,
                    1921.850243485214,
                    1921.850243485214,
                    1921.850243485214,
                    1921.850243485214,
                    1921.850243485214,
                    1921.850243485214,
                    1921.850243485214,
                    1921.850243485214,
                    1921.850243485214,
                    1921.850243485214,
                    1921.850243485214,
                    1921.850243485214,
                    1921.850243485214,
                    1921.850243485214,
                    1921.850243485214,
                    1921.850243485214,
                    1921.850243485214,
                    1921.850243485214,
                    1921.850243485214,
                    1921.850243485214,
                    1921.850243485214,
                    1921.850243485214,
                    1921.850243485214,
                    1921.850243485214,
                    1921.850243485214,
                    1921.850243485214,
                    1921.850243485214,
                    1921.850243485214,
                    1921.850243485214,
                    1921.850243485214,
                    1921.850243485214,
                    1921.850243485214,
                    1921.850243485214,
                    1921.850243485214,
                    1921.850243485214,
                    1921.850243485214,
                    1921.850243485214,
                    1921.850243485214,
                    1921.850243485214,
                    1921.850243485214,
                    1921.850243485214,
                    1921.850243485214,
                    1921.850243485214,
                    1921.850243485214,
                    1921.850243485214,
                    1921.850243485214,
                    1921.850243485214,
                    1921.850243485214,
                    1921.850243485214,
                    1921.850243485214,
                    1921.850243485214,
                    1921.850243485214,
                    1921.850243485214,
                    1921.850243485214,
                    1921.850243485214,
                    1921.850243485214,
                    1921.850243485214,
                    1921.850243485214,
                    1902.7524330497588,
                    1902.7524330497588,
                    1902.7524330497588,
                    1902.7524330497588,
                    1902.7524330497588,
                    1898.5624134857383,
                    1898.5624134857383,
                    1898.5624134857383,
                    1898.5624134857383,
                    1898.5624134857383,
                    1898.5624134857383,
                    1898.5624134857383,
                    1898.5624134857383,
                    1898.5624134857383,
                    1898.5624134857383,
                    1898.5624134857383,
                    1898.5624134857383,
                    1898.5624134857383,
                    1898.5624134857383,
                    1898.5624134857383,
                    1898.5624134857383,
                    1898.5624134857383,
                    1898.5624134857383,
                    1898.5624134857383,
                    1898.5624134857383,
                    1898.5624134857383,
                    1898.5624134857383,
                    1898.5624134857383,
                    1898.5624134857383,
                    1898.5624134857383,
                    1898.5624134857383,
                    1898.5624134857383,
                    1898.5624134857383,
                    1898.5624134857383,
                    1898.5624134857383,
                    1898.5624134857383,
                    1898.5624134857383,
                    1898.5624134857383,
                    1898.5624134857383,
                    1898.5624134857383,
                    1898.5624134857383,
                    1898.5624134857383,
                    1898.5624134857383,
                    1898.5624134857383,
                    1898.5624134857383,
                    1898.5624134857383,
                    1898.5624134857383,
                    1898.5624134857383,
                    1898.5624134857383,
                    1898.5624134857383,
                    1898.5624134857383,
                    1898.5624134857383,
                    1898.5624134857383,
                    1898.5624134857383,
                    1898.5624134857383,
                    1898.5624134857383,
                    1898.5624134857383,
                    1898.5624134857383,
                    1898.5624134857383,
                    1898.5624134857383,
                    1898.5624134857383,
                    1898.5624134857383,
                    1898.5624134857383,
                    1898.5624134857383,
                    1898.5624134857383,
                    1898.5624134857383,
                    1898.5624134857383,
                    1898.5624134857383,
                    1898.5624134857383,
                    1898.5624134857383,
                    1898.5624134857383,
                    1898.5624134857383,
                    1898.5624134857383,
                    1898.5624134857383,
                    1898.5624134857383,
                    1898.5624134857383,
                    1898.5624134857383,
                    1898.5624134857383,
                    1898.5624134857383,
                    1898.5624134857383
                  ]
                },
                {
                  "marker": {
                    "color": "#cccccc"
                  },
                  "mode": "markers",
                  "name": "Infeasible Trial",
                  "showlegend": false,
                  "type": "scatter",
                  "x": [],
                  "y": []
                }
              ],
              "layout": {
                "template": {
                  "data": {
                    "bar": [
                      {
                        "error_x": {
                          "color": "#2a3f5f"
                        },
                        "error_y": {
                          "color": "#2a3f5f"
                        },
                        "marker": {
                          "line": {
                            "color": "#E5ECF6",
                            "width": 0.5
                          },
                          "pattern": {
                            "fillmode": "overlay",
                            "size": 10,
                            "solidity": 0.2
                          }
                        },
                        "type": "bar"
                      }
                    ],
                    "barpolar": [
                      {
                        "marker": {
                          "line": {
                            "color": "#E5ECF6",
                            "width": 0.5
                          },
                          "pattern": {
                            "fillmode": "overlay",
                            "size": 10,
                            "solidity": 0.2
                          }
                        },
                        "type": "barpolar"
                      }
                    ],
                    "carpet": [
                      {
                        "aaxis": {
                          "endlinecolor": "#2a3f5f",
                          "gridcolor": "white",
                          "linecolor": "white",
                          "minorgridcolor": "white",
                          "startlinecolor": "#2a3f5f"
                        },
                        "baxis": {
                          "endlinecolor": "#2a3f5f",
                          "gridcolor": "white",
                          "linecolor": "white",
                          "minorgridcolor": "white",
                          "startlinecolor": "#2a3f5f"
                        },
                        "type": "carpet"
                      }
                    ],
                    "choropleth": [
                      {
                        "colorbar": {
                          "outlinewidth": 0,
                          "ticks": ""
                        },
                        "type": "choropleth"
                      }
                    ],
                    "contour": [
                      {
                        "colorbar": {
                          "outlinewidth": 0,
                          "ticks": ""
                        },
                        "colorscale": [
                          [
                            0,
                            "#0d0887"
                          ],
                          [
                            0.1111111111111111,
                            "#46039f"
                          ],
                          [
                            0.2222222222222222,
                            "#7201a8"
                          ],
                          [
                            0.3333333333333333,
                            "#9c179e"
                          ],
                          [
                            0.4444444444444444,
                            "#bd3786"
                          ],
                          [
                            0.5555555555555556,
                            "#d8576b"
                          ],
                          [
                            0.6666666666666666,
                            "#ed7953"
                          ],
                          [
                            0.7777777777777778,
                            "#fb9f3a"
                          ],
                          [
                            0.8888888888888888,
                            "#fdca26"
                          ],
                          [
                            1,
                            "#f0f921"
                          ]
                        ],
                        "type": "contour"
                      }
                    ],
                    "contourcarpet": [
                      {
                        "colorbar": {
                          "outlinewidth": 0,
                          "ticks": ""
                        },
                        "type": "contourcarpet"
                      }
                    ],
                    "heatmap": [
                      {
                        "colorbar": {
                          "outlinewidth": 0,
                          "ticks": ""
                        },
                        "colorscale": [
                          [
                            0,
                            "#0d0887"
                          ],
                          [
                            0.1111111111111111,
                            "#46039f"
                          ],
                          [
                            0.2222222222222222,
                            "#7201a8"
                          ],
                          [
                            0.3333333333333333,
                            "#9c179e"
                          ],
                          [
                            0.4444444444444444,
                            "#bd3786"
                          ],
                          [
                            0.5555555555555556,
                            "#d8576b"
                          ],
                          [
                            0.6666666666666666,
                            "#ed7953"
                          ],
                          [
                            0.7777777777777778,
                            "#fb9f3a"
                          ],
                          [
                            0.8888888888888888,
                            "#fdca26"
                          ],
                          [
                            1,
                            "#f0f921"
                          ]
                        ],
                        "type": "heatmap"
                      }
                    ],
                    "heatmapgl": [
                      {
                        "colorbar": {
                          "outlinewidth": 0,
                          "ticks": ""
                        },
                        "colorscale": [
                          [
                            0,
                            "#0d0887"
                          ],
                          [
                            0.1111111111111111,
                            "#46039f"
                          ],
                          [
                            0.2222222222222222,
                            "#7201a8"
                          ],
                          [
                            0.3333333333333333,
                            "#9c179e"
                          ],
                          [
                            0.4444444444444444,
                            "#bd3786"
                          ],
                          [
                            0.5555555555555556,
                            "#d8576b"
                          ],
                          [
                            0.6666666666666666,
                            "#ed7953"
                          ],
                          [
                            0.7777777777777778,
                            "#fb9f3a"
                          ],
                          [
                            0.8888888888888888,
                            "#fdca26"
                          ],
                          [
                            1,
                            "#f0f921"
                          ]
                        ],
                        "type": "heatmapgl"
                      }
                    ],
                    "histogram": [
                      {
                        "marker": {
                          "pattern": {
                            "fillmode": "overlay",
                            "size": 10,
                            "solidity": 0.2
                          }
                        },
                        "type": "histogram"
                      }
                    ],
                    "histogram2d": [
                      {
                        "colorbar": {
                          "outlinewidth": 0,
                          "ticks": ""
                        },
                        "colorscale": [
                          [
                            0,
                            "#0d0887"
                          ],
                          [
                            0.1111111111111111,
                            "#46039f"
                          ],
                          [
                            0.2222222222222222,
                            "#7201a8"
                          ],
                          [
                            0.3333333333333333,
                            "#9c179e"
                          ],
                          [
                            0.4444444444444444,
                            "#bd3786"
                          ],
                          [
                            0.5555555555555556,
                            "#d8576b"
                          ],
                          [
                            0.6666666666666666,
                            "#ed7953"
                          ],
                          [
                            0.7777777777777778,
                            "#fb9f3a"
                          ],
                          [
                            0.8888888888888888,
                            "#fdca26"
                          ],
                          [
                            1,
                            "#f0f921"
                          ]
                        ],
                        "type": "histogram2d"
                      }
                    ],
                    "histogram2dcontour": [
                      {
                        "colorbar": {
                          "outlinewidth": 0,
                          "ticks": ""
                        },
                        "colorscale": [
                          [
                            0,
                            "#0d0887"
                          ],
                          [
                            0.1111111111111111,
                            "#46039f"
                          ],
                          [
                            0.2222222222222222,
                            "#7201a8"
                          ],
                          [
                            0.3333333333333333,
                            "#9c179e"
                          ],
                          [
                            0.4444444444444444,
                            "#bd3786"
                          ],
                          [
                            0.5555555555555556,
                            "#d8576b"
                          ],
                          [
                            0.6666666666666666,
                            "#ed7953"
                          ],
                          [
                            0.7777777777777778,
                            "#fb9f3a"
                          ],
                          [
                            0.8888888888888888,
                            "#fdca26"
                          ],
                          [
                            1,
                            "#f0f921"
                          ]
                        ],
                        "type": "histogram2dcontour"
                      }
                    ],
                    "mesh3d": [
                      {
                        "colorbar": {
                          "outlinewidth": 0,
                          "ticks": ""
                        },
                        "type": "mesh3d"
                      }
                    ],
                    "parcoords": [
                      {
                        "line": {
                          "colorbar": {
                            "outlinewidth": 0,
                            "ticks": ""
                          }
                        },
                        "type": "parcoords"
                      }
                    ],
                    "pie": [
                      {
                        "automargin": true,
                        "type": "pie"
                      }
                    ],
                    "scatter": [
                      {
                        "fillpattern": {
                          "fillmode": "overlay",
                          "size": 10,
                          "solidity": 0.2
                        },
                        "type": "scatter"
                      }
                    ],
                    "scatter3d": [
                      {
                        "line": {
                          "colorbar": {
                            "outlinewidth": 0,
                            "ticks": ""
                          }
                        },
                        "marker": {
                          "colorbar": {
                            "outlinewidth": 0,
                            "ticks": ""
                          }
                        },
                        "type": "scatter3d"
                      }
                    ],
                    "scattercarpet": [
                      {
                        "marker": {
                          "colorbar": {
                            "outlinewidth": 0,
                            "ticks": ""
                          }
                        },
                        "type": "scattercarpet"
                      }
                    ],
                    "scattergeo": [
                      {
                        "marker": {
                          "colorbar": {
                            "outlinewidth": 0,
                            "ticks": ""
                          }
                        },
                        "type": "scattergeo"
                      }
                    ],
                    "scattergl": [
                      {
                        "marker": {
                          "colorbar": {
                            "outlinewidth": 0,
                            "ticks": ""
                          }
                        },
                        "type": "scattergl"
                      }
                    ],
                    "scattermapbox": [
                      {
                        "marker": {
                          "colorbar": {
                            "outlinewidth": 0,
                            "ticks": ""
                          }
                        },
                        "type": "scattermapbox"
                      }
                    ],
                    "scatterpolar": [
                      {
                        "marker": {
                          "colorbar": {
                            "outlinewidth": 0,
                            "ticks": ""
                          }
                        },
                        "type": "scatterpolar"
                      }
                    ],
                    "scatterpolargl": [
                      {
                        "marker": {
                          "colorbar": {
                            "outlinewidth": 0,
                            "ticks": ""
                          }
                        },
                        "type": "scatterpolargl"
                      }
                    ],
                    "scatterternary": [
                      {
                        "marker": {
                          "colorbar": {
                            "outlinewidth": 0,
                            "ticks": ""
                          }
                        },
                        "type": "scatterternary"
                      }
                    ],
                    "surface": [
                      {
                        "colorbar": {
                          "outlinewidth": 0,
                          "ticks": ""
                        },
                        "colorscale": [
                          [
                            0,
                            "#0d0887"
                          ],
                          [
                            0.1111111111111111,
                            "#46039f"
                          ],
                          [
                            0.2222222222222222,
                            "#7201a8"
                          ],
                          [
                            0.3333333333333333,
                            "#9c179e"
                          ],
                          [
                            0.4444444444444444,
                            "#bd3786"
                          ],
                          [
                            0.5555555555555556,
                            "#d8576b"
                          ],
                          [
                            0.6666666666666666,
                            "#ed7953"
                          ],
                          [
                            0.7777777777777778,
                            "#fb9f3a"
                          ],
                          [
                            0.8888888888888888,
                            "#fdca26"
                          ],
                          [
                            1,
                            "#f0f921"
                          ]
                        ],
                        "type": "surface"
                      }
                    ],
                    "table": [
                      {
                        "cells": {
                          "fill": {
                            "color": "#EBF0F8"
                          },
                          "line": {
                            "color": "white"
                          }
                        },
                        "header": {
                          "fill": {
                            "color": "#C8D4E3"
                          },
                          "line": {
                            "color": "white"
                          }
                        },
                        "type": "table"
                      }
                    ]
                  },
                  "layout": {
                    "annotationdefaults": {
                      "arrowcolor": "#2a3f5f",
                      "arrowhead": 0,
                      "arrowwidth": 1
                    },
                    "autotypenumbers": "strict",
                    "coloraxis": {
                      "colorbar": {
                        "outlinewidth": 0,
                        "ticks": ""
                      }
                    },
                    "colorscale": {
                      "diverging": [
                        [
                          0,
                          "#8e0152"
                        ],
                        [
                          0.1,
                          "#c51b7d"
                        ],
                        [
                          0.2,
                          "#de77ae"
                        ],
                        [
                          0.3,
                          "#f1b6da"
                        ],
                        [
                          0.4,
                          "#fde0ef"
                        ],
                        [
                          0.5,
                          "#f7f7f7"
                        ],
                        [
                          0.6,
                          "#e6f5d0"
                        ],
                        [
                          0.7,
                          "#b8e186"
                        ],
                        [
                          0.8,
                          "#7fbc41"
                        ],
                        [
                          0.9,
                          "#4d9221"
                        ],
                        [
                          1,
                          "#276419"
                        ]
                      ],
                      "sequential": [
                        [
                          0,
                          "#0d0887"
                        ],
                        [
                          0.1111111111111111,
                          "#46039f"
                        ],
                        [
                          0.2222222222222222,
                          "#7201a8"
                        ],
                        [
                          0.3333333333333333,
                          "#9c179e"
                        ],
                        [
                          0.4444444444444444,
                          "#bd3786"
                        ],
                        [
                          0.5555555555555556,
                          "#d8576b"
                        ],
                        [
                          0.6666666666666666,
                          "#ed7953"
                        ],
                        [
                          0.7777777777777778,
                          "#fb9f3a"
                        ],
                        [
                          0.8888888888888888,
                          "#fdca26"
                        ],
                        [
                          1,
                          "#f0f921"
                        ]
                      ],
                      "sequentialminus": [
                        [
                          0,
                          "#0d0887"
                        ],
                        [
                          0.1111111111111111,
                          "#46039f"
                        ],
                        [
                          0.2222222222222222,
                          "#7201a8"
                        ],
                        [
                          0.3333333333333333,
                          "#9c179e"
                        ],
                        [
                          0.4444444444444444,
                          "#bd3786"
                        ],
                        [
                          0.5555555555555556,
                          "#d8576b"
                        ],
                        [
                          0.6666666666666666,
                          "#ed7953"
                        ],
                        [
                          0.7777777777777778,
                          "#fb9f3a"
                        ],
                        [
                          0.8888888888888888,
                          "#fdca26"
                        ],
                        [
                          1,
                          "#f0f921"
                        ]
                      ]
                    },
                    "colorway": [
                      "#636efa",
                      "#EF553B",
                      "#00cc96",
                      "#ab63fa",
                      "#FFA15A",
                      "#19d3f3",
                      "#FF6692",
                      "#B6E880",
                      "#FF97FF",
                      "#FECB52"
                    ],
                    "font": {
                      "color": "#2a3f5f"
                    },
                    "geo": {
                      "bgcolor": "white",
                      "lakecolor": "white",
                      "landcolor": "#E5ECF6",
                      "showlakes": true,
                      "showland": true,
                      "subunitcolor": "white"
                    },
                    "hoverlabel": {
                      "align": "left"
                    },
                    "hovermode": "closest",
                    "mapbox": {
                      "style": "light"
                    },
                    "paper_bgcolor": "white",
                    "plot_bgcolor": "#E5ECF6",
                    "polar": {
                      "angularaxis": {
                        "gridcolor": "white",
                        "linecolor": "white",
                        "ticks": ""
                      },
                      "bgcolor": "#E5ECF6",
                      "radialaxis": {
                        "gridcolor": "white",
                        "linecolor": "white",
                        "ticks": ""
                      }
                    },
                    "scene": {
                      "xaxis": {
                        "backgroundcolor": "#E5ECF6",
                        "gridcolor": "white",
                        "gridwidth": 2,
                        "linecolor": "white",
                        "showbackground": true,
                        "ticks": "",
                        "zerolinecolor": "white"
                      },
                      "yaxis": {
                        "backgroundcolor": "#E5ECF6",
                        "gridcolor": "white",
                        "gridwidth": 2,
                        "linecolor": "white",
                        "showbackground": true,
                        "ticks": "",
                        "zerolinecolor": "white"
                      },
                      "zaxis": {
                        "backgroundcolor": "#E5ECF6",
                        "gridcolor": "white",
                        "gridwidth": 2,
                        "linecolor": "white",
                        "showbackground": true,
                        "ticks": "",
                        "zerolinecolor": "white"
                      }
                    },
                    "shapedefaults": {
                      "line": {
                        "color": "#2a3f5f"
                      }
                    },
                    "ternary": {
                      "aaxis": {
                        "gridcolor": "white",
                        "linecolor": "white",
                        "ticks": ""
                      },
                      "baxis": {
                        "gridcolor": "white",
                        "linecolor": "white",
                        "ticks": ""
                      },
                      "bgcolor": "#E5ECF6",
                      "caxis": {
                        "gridcolor": "white",
                        "linecolor": "white",
                        "ticks": ""
                      }
                    },
                    "title": {
                      "x": 0.05
                    },
                    "xaxis": {
                      "automargin": true,
                      "gridcolor": "white",
                      "linecolor": "white",
                      "ticks": "",
                      "title": {
                        "standoff": 15
                      },
                      "zerolinecolor": "white",
                      "zerolinewidth": 2
                    },
                    "yaxis": {
                      "automargin": true,
                      "gridcolor": "white",
                      "linecolor": "white",
                      "ticks": "",
                      "title": {
                        "standoff": 15
                      },
                      "zerolinecolor": "white",
                      "zerolinewidth": 2
                    }
                  }
                },
                "title": {
                  "text": "Optimization History Plot"
                },
                "xaxis": {
                  "title": {
                    "text": "Trial"
                  }
                },
                "yaxis": {
                  "title": {
                    "text": "Objective Value"
                  }
                }
              }
            }
          },
          "metadata": {},
          "output_type": "display_data"
        }
      ],
      "source": [
        "optuna.visualization.plot_optimization_history(study_pruning)"
      ]
    },
    {
      "cell_type": "markdown",
      "metadata": {},
      "source": [
        "**2. Coordenadas paralelas**"
      ]
    },
    {
      "cell_type": "code",
      "execution_count": 35,
      "metadata": {},
      "outputs": [
        {
          "data": {
            "application/vnd.plotly.v1+json": {
              "config": {
                "plotlyServerURL": "https://plot.ly"
              },
              "data": [
                {
                  "dimensions": [
                    {
                      "label": "Objective Value",
                      "range": [
                        1898.5624134857383,
                        7302.13582739094
                      ],
                      "values": [
                        6352.530633422032,
                        5573.757808895239,
                        2770.860375485004,
                        7302.13582739094,
                        7285.672221712458,
                        5596.013817703964,
                        5622.260588165897,
                        5522.015775744547,
                        2034.3958473154362,
                        2135.332972584155,
                        2098.2729921481755,
                        2113.5588487049076,
                        2091.2984096450296,
                        2073.5696734742032,
                        2060.286536709574,
                        2057.9632276701445,
                        2080.231907213454,
                        2047.4507597852873,
                        2019.989492613517,
                        2052.280628834155,
                        2041.9587716941066,
                        1995.2504774669674,
                        2059.7808993550757,
                        2010.0481137269296,
                        2020.2687645828964,
                        2033.0589489828021,
                        1947.9380954409605,
                        1981.6468468173239,
                        1994.8057422202705,
                        2027.4098573825504,
                        2010.4916846358535,
                        1971.836163944526,
                        1975.067461297976,
                        1963.443782606701,
                        1964.6711832136116,
                        1994.482531656355,
                        2010.306430401898,
                        1998.9103278038485,
                        2014.8922124056207,
                        2002.1372201394715,
                        2005.788411512951,
                        2002.0171717701342,
                        1980.5946343133915,
                        1967.550304930002,
                        1975.9434224583158,
                        1948.0723372286598,
                        1968.2755954409606,
                        1975.3617169476195,
                        1949.4174072265625,
                        1982.8852219549601,
                        1964.274362285025,
                        1946.8679879207739,
                        1955.2092290071832,
                        1967.1063950097,
                        1983.961142643666,
                        1921.850243485214,
                        1941.4201966560927,
                        1972.6815002031774,
                        1957.8540504404361,
                        1986.6504137282404,
                        1975.9866687749056,
                        1978.3161255702075,
                        1986.9742316943687,
                        1973.1875319512899,
                        1968.569018226982,
                        1979.5220175519084,
                        1943.922857952758,
                        1922.146060487888,
                        1947.1459166251573,
                        1950.743386246854,
                        1966.9919520435717,
                        1961.2904265742975,
                        1973.0531869363465,
                        1963.1322339358746,
                        1945.9839529152684,
                        1972.9032668964974,
                        1939.9217735751363,
                        1946.6765095755559,
                        1970.858441530778,
                        1966.5415622378355,
                        1941.3921794712144,
                        1956.177646549916,
                        1964.849450929373,
                        1935.7711768233537,
                        1957.0447701473365,
                        1955.6488405778105,
                        1941.1389813928797,
                        1969.0808731386326,
                        1949.17280420905,
                        1952.0147885316171,
                        1954.2685868026426,
                        1934.8052418139157,
                        1955.6160526557258,
                        1969.7153995385906,
                        1962.647429805474,
                        1954.8605162345323,
                        1960.596066714293,
                        1938.7340309091862,
                        1958.3851216770659,
                        1960.858738104289,
                        1960.7317769505034,
                        1951.5683377464345,
                        1939.5751849897756,
                        1941.3526527763213,
                        1954.7364762479026,
                        1955.8827880859376,
                        1935.5431013068896,
                        1935.3512755938025,
                        1940.1997512714975,
                        1902.7524330497588,
                        1898.5624134857383,
                        1915.745755394033,
                        1961.326111577181,
                        1915.1580746644295,
                        1907.556508231963,
                        1933.1476121736052,
                        1947.5948940200294,
                        1920.419633821833,
                        1934.9132597852874,
                        1934.5305705025692,
                        1938.2328510054006,
                        1943.607437441013
                      ]
                    },
                    {
                      "label": "learning_rate",
                      "range": [
                        0.02038135442023248,
                        0.09999966813753676
                      ],
                      "values": [
                        0.06477021007076517,
                        0.058983732583644116,
                        0.02038135442023248,
                        0.09034887048160498,
                        0.05202282911184991,
                        0.09823580467149032,
                        0.09725197638509642,
                        0.07411435886070451,
                        0.07955382519471661,
                        0.08264725717669197,
                        0.08115493157259203,
                        0.0880576890947196,
                        0.09181816490824116,
                        0.0801475538039272,
                        0.07834041575456213,
                        0.08989928588304576,
                        0.09312449268953774,
                        0.09457572958474392,
                        0.09995774292317892,
                        0.09427198406678088,
                        0.09635019526565272,
                        0.09652798915654782,
                        0.09501134602070163,
                        0.09697897875033816,
                        0.09622083882308367,
                        0.09731172524510891,
                        0.0987762423968916,
                        0.09901954102361246,
                        0.09895656459861706,
                        0.0993398431120113,
                        0.09772611302338409,
                        0.09669069787502661,
                        0.09683425751302736,
                        0.09774500244519373,
                        0.09771440978834395,
                        0.09784221894646304,
                        0.09800339337042001,
                        0.09814088457927475,
                        0.09859371844357517,
                        0.09721909053818546,
                        0.09763127103124933,
                        0.09692310507600256,
                        0.09970004360116476,
                        0.09604912134553369,
                        0.09536313088240335,
                        0.09465322358857321,
                        0.09438773983324654,
                        0.0933623914137139,
                        0.09424492221983939,
                        0.09561678613497031,
                        0.09586290371540823,
                        0.0961805799378706,
                        0.09599398700307214,
                        0.09785327250430609,
                        0.09768717498426242,
                        0.09799816431327961,
                        0.09999811224323994,
                        0.0956915559208272,
                        0.09485313658518954,
                        0.093606032370521,
                        0.09714696842776797,
                        0.09807752547744673,
                        0.09727493150366119,
                        0.09712583730713367,
                        0.09467934976518273,
                        0.09550196148223557,
                        0.09627120890203415,
                        0.09605766518995706,
                        0.09612610879134302,
                        0.0965097038519647,
                        0.09626593420469885,
                        0.09799621868190153,
                        0.09999966813753676,
                        0.09871874538000722,
                        0.09968891681627688,
                        0.09997727507786387,
                        0.09479628215799278,
                        0.09750581919665564,
                        0.09807228655588415,
                        0.09998968402551481,
                        0.09819335608764147,
                        0.09991804026190634,
                        0.09790641953093399,
                        0.09578861117670857,
                        0.09847331695510333,
                        0.09819565202792999,
                        0.09622008519381324,
                        0.09839919282309173,
                        0.09999075512186296,
                        0.09961109017757053,
                        0.09705942403807084,
                        0.09488713893119043,
                        0.09610853639991851,
                        0.0957666079741013,
                        0.09676392682801636,
                        0.0944631496649636,
                        0.09997971392729964,
                        0.09618342310001307,
                        0.09639494880580787,
                        0.09708377575546352,
                        0.09698336875907912,
                        0.0998700517743846,
                        0.0999583674371889,
                        0.0999668785886108,
                        0.09676750641003364,
                        0.09778432710636488,
                        0.09676880303044523,
                        0.09603777249211745,
                        0.0963050876769782,
                        0.09527239336981677,
                        0.0953434657929359,
                        0.09722886631920483,
                        0.09625305413385962,
                        0.09997575370981499,
                        0.09529946216871503,
                        0.09635020522440314,
                        0.09826501346426705,
                        0.09608344602671859,
                        0.09746680824771814,
                        0.09841230911227604,
                        0.09808805441469953,
                        0.09674726303192618
                      ]
                    },
                    {
                      "label": "max_depth",
                      "range": [
                        4,
                        10
                      ],
                      "values": [
                        8,
                        4,
                        4,
                        7,
                        6,
                        6,
                        6,
                        8,
                        6,
                        5,
                        5,
                        6,
                        6,
                        6,
                        6,
                        6,
                        6,
                        7,
                        7,
                        6,
                        7,
                        7,
                        8,
                        7,
                        7,
                        8,
                        8,
                        9,
                        9,
                        9,
                        10,
                        9,
                        9,
                        9,
                        8,
                        8,
                        9,
                        9,
                        9,
                        9,
                        7,
                        7,
                        7,
                        7,
                        7,
                        7,
                        7,
                        7,
                        7,
                        7,
                        7,
                        8,
                        8,
                        8,
                        8,
                        7,
                        8,
                        8,
                        8,
                        8,
                        8,
                        8,
                        8,
                        8,
                        8,
                        8,
                        8,
                        9,
                        8,
                        8,
                        8,
                        7,
                        8,
                        8,
                        8,
                        7,
                        10,
                        7,
                        8,
                        8,
                        8,
                        8,
                        8,
                        8,
                        8,
                        8,
                        8,
                        8,
                        9,
                        9,
                        8,
                        8,
                        8,
                        8,
                        8,
                        8,
                        8,
                        8,
                        8,
                        8,
                        9,
                        8,
                        8,
                        8,
                        9,
                        9,
                        9,
                        9,
                        9,
                        9,
                        9,
                        9,
                        9,
                        10,
                        10,
                        10,
                        10,
                        10,
                        10,
                        10,
                        10,
                        10
                      ]
                    },
                    {
                      "label": "max_leaves",
                      "range": [
                        16,
                        100
                      ],
                      "values": [
                        16,
                        54,
                        24,
                        38,
                        75,
                        47,
                        45,
                        34,
                        49,
                        63,
                        81,
                        80,
                        79,
                        80,
                        77,
                        79,
                        77,
                        85,
                        67,
                        73,
                        73,
                        66,
                        72,
                        66,
                        60,
                        60,
                        59,
                        60,
                        66,
                        66,
                        67,
                        63,
                        62,
                        69,
                        67,
                        61,
                        68,
                        71,
                        72,
                        68,
                        64,
                        69,
                        69,
                        71,
                        77,
                        75,
                        76,
                        81,
                        81,
                        81,
                        73,
                        72,
                        71,
                        75,
                        78,
                        72,
                        73,
                        76,
                        89,
                        83,
                        92,
                        69,
                        88,
                        91,
                        89,
                        82,
                        91,
                        73,
                        78,
                        74,
                        73,
                        87,
                        88,
                        88,
                        88,
                        88,
                        94,
                        93,
                        90,
                        90,
                        74,
                        73,
                        94,
                        94,
                        96,
                        100,
                        100,
                        95,
                        89,
                        86,
                        92,
                        85,
                        100,
                        85,
                        91,
                        93,
                        90,
                        98,
                        77,
                        94,
                        84,
                        89,
                        89,
                        82,
                        89,
                        88,
                        86,
                        86,
                        84,
                        80,
                        82,
                        84,
                        88,
                        80,
                        80,
                        79,
                        81,
                        78,
                        79,
                        82,
                        83,
                        83
                      ]
                    },
                    {
                      "label": "min_child_weight",
                      "range": [
                        1,
                        5
                      ],
                      "values": [
                        5,
                        3,
                        4,
                        1,
                        2,
                        4,
                        4,
                        3,
                        3,
                        2,
                        1,
                        1,
                        1,
                        2,
                        1,
                        1,
                        1,
                        2,
                        2,
                        2,
                        2,
                        2,
                        2,
                        3,
                        3,
                        3,
                        3,
                        3,
                        3,
                        3,
                        3,
                        3,
                        3,
                        3,
                        3,
                        4,
                        3,
                        3,
                        3,
                        3,
                        3,
                        3,
                        3,
                        3,
                        3,
                        3,
                        3,
                        3,
                        3,
                        3,
                        3,
                        3,
                        3,
                        3,
                        3,
                        3,
                        3,
                        3,
                        3,
                        3,
                        3,
                        3,
                        3,
                        3,
                        3,
                        3,
                        3,
                        3,
                        3,
                        3,
                        3,
                        3,
                        3,
                        3,
                        3,
                        3,
                        3,
                        3,
                        3,
                        3,
                        3,
                        3,
                        3,
                        3,
                        3,
                        3,
                        3,
                        3,
                        3,
                        3,
                        3,
                        3,
                        3,
                        3,
                        3,
                        3,
                        3,
                        3,
                        3,
                        3,
                        3,
                        3,
                        3,
                        4,
                        5,
                        5,
                        5,
                        5,
                        5,
                        5,
                        5,
                        5,
                        5,
                        5,
                        5,
                        5,
                        5,
                        5,
                        5,
                        5,
                        4,
                        4
                      ]
                    },
                    {
                      "label": "min_frequency",
                      "range": [
                        0.0002085233051081596,
                        0.36698733001025263
                      ],
                      "values": [
                        0.2350578956056456,
                        0.08970338278592749,
                        0.031130748417627196,
                        0.36698733001025263,
                        0.3462504239281453,
                        0.10842355669983197,
                        0.08618879972099705,
                        0.13608520922924472,
                        0.0012478208617866943,
                        0.04464307060712562,
                        0.030264339176681164,
                        0.050464180251541584,
                        0.06308169906339689,
                        0.06658142909215164,
                        0.06341065861706617,
                        0.06465700432731486,
                        0.07517711383854751,
                        0.08020785588552637,
                        0.03334536900393663,
                        0.0325608203161862,
                        0.029624036799251754,
                        0.002167797904047329,
                        0.027690267684739343,
                        0.009900664856888237,
                        0.016735267568174415,
                        0.025640800619609383,
                        0.004660375181300771,
                        0.007397573767953899,
                        0.0022309362148089495,
                        0.0002085233051081596,
                        0.04105313289928088,
                        0.04332280624809278,
                        0.042157461490842194,
                        0.04240800508150017,
                        0.030017903583996794,
                        0.049858988781792776,
                        0.04308520891219849,
                        0.02751764374670483,
                        0.020399983713903815,
                        0.04214613208584289,
                        0.00027133320310850084,
                        0.0005502903862521641,
                        0.0013274471768814633,
                        0.029324519558870332,
                        0.02127248032116734,
                        0.07875133680239768,
                        0.07442623726505061,
                        0.06732436749115851,
                        0.0748876156967352,
                        0.037123803986110857,
                        0.06325797342399174,
                        0.0505799335578421,
                        0.053529725729072074,
                        0.07980763179319904,
                        0.08101618607767043,
                        0.031753314625547126,
                        0.0014081746284537455,
                        0.036443204366826056,
                        0.017176281206878235,
                        0.056494639058714505,
                        0.0016710692146784233,
                        0.06359119319460711,
                        0.0022009091692604746,
                        0.0027107549840466524,
                        0.041767791315262176,
                        0.034339183868975186,
                        0.047832149000736165,
                        0.04579992972353082,
                        0.024298571777557034,
                        0.03395966466561564,
                        0.016197062784704182,
                        0.07303769531275442,
                        0.02332236265068443,
                        0.020521235621916708,
                        0.03031964323639442,
                        0.0482379544495534,
                        0.02008728973099,
                        0.017754798334063408,
                        0.03759885055318086,
                        0.060461480716498456,
                        0.015029749493896002,
                        0.010314150884279063,
                        0.02629410089369789,
                        0.018922665979181366,
                        0.04334378788820355,
                        0.04232370320358833,
                        0.06685812636886451,
                        0.030233316299055145,
                        0.05021024230319051,
                        0.017433430546370192,
                        0.046743135754619504,
                        0.03332384750681529,
                        0.044216509172514074,
                        0.029638417470847243,
                        0.07616745342268197,
                        0.04300232216215237,
                        0.0003743508974600601,
                        0.034244972901199516,
                        0.07705398539904712,
                        0.03565438783660691,
                        0.0005937903288587149,
                        0.05543415754706571,
                        0.06980480605556413,
                        0.07808374715741292,
                        0.0005241090378267973,
                        0.0007120753477861622,
                        0.02107064850291164,
                        0.05648495314350527,
                        0.07424400604583117,
                        0.07978052018345676,
                        0.0731755653593289,
                        0.045986763099399634,
                        0.05117705050204798,
                        0.04903266151285873,
                        0.03159225435401608,
                        0.027248859252028114,
                        0.06051348130678106,
                        0.02320036816814882,
                        0.05411926640879732,
                        0.07992376467053856,
                        0.0009758292927369572,
                        0.027851349478689516
                      ]
                    },
                    {
                      "label": "n_estimators",
                      "range": [
                        50,
                        995
                      ],
                      "values": [
                        412,
                        436,
                        995,
                        322,
                        499,
                        605,
                        577,
                        300,
                        271,
                        347,
                        267,
                        124,
                        157,
                        59,
                        50,
                        128,
                        152,
                        158,
                        116,
                        121,
                        116,
                        127,
                        203,
                        243,
                        292,
                        297,
                        295,
                        291,
                        292,
                        347,
                        320,
                        249,
                        239,
                        323,
                        287,
                        364,
                        313,
                        272,
                        244,
                        306,
                        741,
                        303,
                        390,
                        387,
                        470,
                        443,
                        399,
                        511,
                        436,
                        390,
                        441,
                        416,
                        478,
                        546,
                        578,
                        481,
                        510,
                        509,
                        521,
                        601,
                        503,
                        521,
                        567,
                        468,
                        465,
                        403,
                        493,
                        516,
                        485,
                        484,
                        438,
                        440,
                        443,
                        447,
                        409,
                        454,
                        429,
                        387,
                        478,
                        383,
                        556,
                        576,
                        560,
                        562,
                        562,
                        560,
                        506,
                        510,
                        647,
                        733,
                        642,
                        697,
                        691,
                        673,
                        613,
                        508,
                        610,
                        636,
                        553,
                        410,
                        525,
                        543,
                        528,
                        510,
                        550,
                        584,
                        558,
                        406,
                        407,
                        353,
                        340,
                        380,
                        388,
                        421,
                        412,
                        379,
                        416,
                        345,
                        406,
                        362,
                        322,
                        338
                      ]
                    },
                    {
                      "label": "reg_alpha",
                      "range": [
                        0.08543569357390923,
                        0.9991823812935745
                      ],
                      "values": [
                        0.34666184037976566,
                        0.7668551062985054,
                        0.7349525766431395,
                        0.4941491215472047,
                        0.5954382882010286,
                        0.21339693312975117,
                        0.21107907470017495,
                        0.23639931424697813,
                        0.5019665449912563,
                        0.4993084360714183,
                        0.5179965738631057,
                        0.5415029710791822,
                        0.5473150003064664,
                        0.4280054406805519,
                        0.4307515141176259,
                        0.527701982382666,
                        0.5183091585216621,
                        0.5051728511982022,
                        0.41426390129975527,
                        0.48872368214614614,
                        0.46686243877233385,
                        0.47472577217103734,
                        0.47354777222566663,
                        0.4889564735748587,
                        0.3314862379944253,
                        0.38825935128193295,
                        0.3361340642405213,
                        0.2685840813500327,
                        0.3455265205172616,
                        0.32101214711016973,
                        0.17418891405493198,
                        0.2299269404174707,
                        0.21518044797707875,
                        0.1682133736106262,
                        0.3577643787796498,
                        0.24205169418601588,
                        0.35576257523144444,
                        0.39039558789470363,
                        0.3827829505089528,
                        0.3664792059166747,
                        0.41100643141715315,
                        0.3396331680496895,
                        0.3374839131827906,
                        0.29639303864685906,
                        0.2938914193472384,
                        0.29613109509179064,
                        0.2881423281474887,
                        0.29092812485970854,
                        0.2914951910665426,
                        0.2884163009253606,
                        0.2841508101911091,
                        0.24804329225084454,
                        0.26760693314537515,
                        0.25350391192061117,
                        0.2487607380993592,
                        0.30576601152310484,
                        0.277643445775517,
                        0.2900365601339967,
                        0.7649095218674595,
                        0.8175363741879571,
                        0.2823881414496764,
                        0.23199313974420271,
                        0.29018294777477527,
                        0.2820765118623965,
                        0.3126362312149821,
                        0.2463112760804616,
                        0.30982267014121423,
                        0.2501576730546513,
                        0.29455693121944426,
                        0.3047780517705396,
                        0.33592637721471696,
                        0.21956332551572383,
                        0.2319087983165236,
                        0.22560952867040973,
                        0.22617719180794468,
                        0.23761950538544518,
                        0.2141234421378095,
                        0.21277950331352982,
                        0.19136096307835715,
                        0.2960949816080731,
                        0.26647337764806556,
                        0.9704521629129631,
                        0.7028543418476798,
                        0.9922885436602046,
                        0.9886983682165609,
                        0.9638915937149993,
                        0.9859819671817658,
                        0.842924501729927,
                        0.9650646556879747,
                        0.9416043241842224,
                        0.9963197089769598,
                        0.9616922820032497,
                        0.9226912096904792,
                        0.9827838011435643,
                        0.9539971589565492,
                        0.9991823812935745,
                        0.516247242247512,
                        0.9990524108509935,
                        0.3164513415003856,
                        0.9053183237215068,
                        0.4284041468218721,
                        0.9484159964914818,
                        0.9425341231370853,
                        0.23564578480038054,
                        0.2477562963384398,
                        0.25505629632570503,
                        0.22544068329465233,
                        0.1991157994360359,
                        0.20679815698866733,
                        0.1977047901975871,
                        0.21211990762027663,
                        0.18773013581872644,
                        0.18053055498145096,
                        0.16071522304435587,
                        0.11879390519935573,
                        0.1129753835230374,
                        0.15714376080280823,
                        0.10618930686002506,
                        0.12370324872600015,
                        0.1336571787575877,
                        0.08543569357390923,
                        0.09221407668652781
                      ]
                    },
                    {
                      "label": "reg_lambda",
                      "range": [
                        0.0012520788209657227,
                        0.9986066944109203
                      ],
                      "values": [
                        0.9917509922936076,
                        0.9338501433185797,
                        0.6883443830672038,
                        0.8347150934934147,
                        0.3161333819082539,
                        0.5791853220981742,
                        0.5775569081195245,
                        0.411312868593542,
                        0.34004565199426984,
                        0.3085984282085595,
                        0.3341273498833843,
                        0.21563496639804003,
                        0.20055898525189297,
                        0.25298604731105445,
                        0.234356514325098,
                        0.2021823411832484,
                        0.19387287532171768,
                        0.1209688364240584,
                        0.015500435692097247,
                        0.05278434600784703,
                        0.04655976217279538,
                        0.05039103539043466,
                        0.04920627036603897,
                        0.007836127578227,
                        0.012995296870866667,
                        0.003691208330338591,
                        0.01917288641879803,
                        0.004349277818061182,
                        0.013585645779425764,
                        0.008229108204660662,
                        0.07709460259977025,
                        0.10357255076751776,
                        0.0012520788209657227,
                        0.03400927344231762,
                        0.030779708123875923,
                        0.1721377038445736,
                        0.08303277096729583,
                        0.08774648291911462,
                        0.02744716818492144,
                        0.08185075460458176,
                        0.08202863467343456,
                        0.04868328360139332,
                        0.04767852515521732,
                        0.8665564401981133,
                        0.8909123065042476,
                        0.8730262426277909,
                        0.8867609841932058,
                        0.8828842141556528,
                        0.8665371172251953,
                        0.8547963246445879,
                        0.845385953627777,
                        0.9105112598295854,
                        0.90082588905169,
                        0.6772450790072666,
                        0.7577431209787744,
                        0.855344541296763,
                        0.8795617502436043,
                        0.876955300532255,
                        0.8034536465356232,
                        0.8319769842382547,
                        0.7090616000432157,
                        0.7852974113428938,
                        0.7051294160308772,
                        0.8519068964168918,
                        0.6603306831483854,
                        0.8175278184534247,
                        0.7098276489319081,
                        0.9395724973013369,
                        0.8725971499926364,
                        0.8627949465801945,
                        0.834994251355896,
                        0.7423298448425244,
                        0.8404461840215798,
                        0.7859501965885968,
                        0.7853309672329728,
                        0.7602021327733344,
                        0.7997270756732429,
                        0.8044884779943472,
                        0.6780008799761374,
                        0.9165170975949587,
                        0.7164905412925847,
                        0.6941651346700843,
                        0.7289116136997669,
                        0.7439689936046452,
                        0.7401793638451638,
                        0.7500169774537205,
                        0.7153855558234914,
                        0.7929555506379842,
                        0.7602815356796215,
                        0.7600241894505296,
                        0.7606583863537277,
                        0.6682840607830569,
                        0.6197872914859235,
                        0.7620911071747556,
                        0.24640740978880551,
                        0.7828897036445109,
                        0.7441658574744966,
                        0.8761348414341583,
                        0.8329562854817828,
                        0.7685446513663461,
                        0.8776736286628504,
                        0.9259189326838762,
                        0.9542805327355445,
                        0.9129016838185724,
                        0.27243822099299364,
                        0.9139442427495217,
                        0.22593551928013444,
                        0.8691702216244822,
                        0.8612502722128278,
                        0.8527561115023199,
                        0.8543027637253752,
                        0.8624292646129059,
                        0.8784182212386044,
                        0.9111716655304952,
                        0.9153693277666964,
                        0.9469898942658317,
                        0.9638241969333479,
                        0.9986066944109203,
                        0.9524772397668119,
                        0.9379426937320265,
                        0.9111993337696326,
                        0.9408679167204151
                      ]
                    }
                  ],
                  "labelangle": 30,
                  "labelside": "bottom",
                  "line": {
                    "color": [
                      6352.530633422032,
                      5573.757808895239,
                      2770.860375485004,
                      7302.13582739094,
                      7285.672221712458,
                      5596.013817703964,
                      5622.260588165897,
                      5522.015775744547,
                      2034.3958473154362,
                      2135.332972584155,
                      2098.2729921481755,
                      2113.5588487049076,
                      2091.2984096450296,
                      2073.5696734742032,
                      2060.286536709574,
                      2057.9632276701445,
                      2080.231907213454,
                      2047.4507597852873,
                      2019.989492613517,
                      2052.280628834155,
                      2041.9587716941066,
                      1995.2504774669674,
                      2059.7808993550757,
                      2010.0481137269296,
                      2020.2687645828964,
                      2033.0589489828021,
                      1947.9380954409605,
                      1981.6468468173239,
                      1994.8057422202705,
                      2027.4098573825504,
                      2010.4916846358535,
                      1971.836163944526,
                      1975.067461297976,
                      1963.443782606701,
                      1964.6711832136116,
                      1994.482531656355,
                      2010.306430401898,
                      1998.9103278038485,
                      2014.8922124056207,
                      2002.1372201394715,
                      2005.788411512951,
                      2002.0171717701342,
                      1980.5946343133915,
                      1967.550304930002,
                      1975.9434224583158,
                      1948.0723372286598,
                      1968.2755954409606,
                      1975.3617169476195,
                      1949.4174072265625,
                      1982.8852219549601,
                      1964.274362285025,
                      1946.8679879207739,
                      1955.2092290071832,
                      1967.1063950097,
                      1983.961142643666,
                      1921.850243485214,
                      1941.4201966560927,
                      1972.6815002031774,
                      1957.8540504404361,
                      1986.6504137282404,
                      1975.9866687749056,
                      1978.3161255702075,
                      1986.9742316943687,
                      1973.1875319512899,
                      1968.569018226982,
                      1979.5220175519084,
                      1943.922857952758,
                      1922.146060487888,
                      1947.1459166251573,
                      1950.743386246854,
                      1966.9919520435717,
                      1961.2904265742975,
                      1973.0531869363465,
                      1963.1322339358746,
                      1945.9839529152684,
                      1972.9032668964974,
                      1939.9217735751363,
                      1946.6765095755559,
                      1970.858441530778,
                      1966.5415622378355,
                      1941.3921794712144,
                      1956.177646549916,
                      1964.849450929373,
                      1935.7711768233537,
                      1957.0447701473365,
                      1955.6488405778105,
                      1941.1389813928797,
                      1969.0808731386326,
                      1949.17280420905,
                      1952.0147885316171,
                      1954.2685868026426,
                      1934.8052418139157,
                      1955.6160526557258,
                      1969.7153995385906,
                      1962.647429805474,
                      1954.8605162345323,
                      1960.596066714293,
                      1938.7340309091862,
                      1958.3851216770659,
                      1960.858738104289,
                      1960.7317769505034,
                      1951.5683377464345,
                      1939.5751849897756,
                      1941.3526527763213,
                      1954.7364762479026,
                      1955.8827880859376,
                      1935.5431013068896,
                      1935.3512755938025,
                      1940.1997512714975,
                      1902.7524330497588,
                      1898.5624134857383,
                      1915.745755394033,
                      1961.326111577181,
                      1915.1580746644295,
                      1907.556508231963,
                      1933.1476121736052,
                      1947.5948940200294,
                      1920.419633821833,
                      1934.9132597852874,
                      1934.5305705025692,
                      1938.2328510054006,
                      1943.607437441013
                    ],
                    "colorbar": {
                      "title": {
                        "text": "Objective Value"
                      }
                    },
                    "colorscale": [
                      [
                        0,
                        "rgb(247,251,255)"
                      ],
                      [
                        0.125,
                        "rgb(222,235,247)"
                      ],
                      [
                        0.25,
                        "rgb(198,219,239)"
                      ],
                      [
                        0.375,
                        "rgb(158,202,225)"
                      ],
                      [
                        0.5,
                        "rgb(107,174,214)"
                      ],
                      [
                        0.625,
                        "rgb(66,146,198)"
                      ],
                      [
                        0.75,
                        "rgb(33,113,181)"
                      ],
                      [
                        0.875,
                        "rgb(8,81,156)"
                      ],
                      [
                        1,
                        "rgb(8,48,107)"
                      ]
                    ],
                    "reversescale": true,
                    "showscale": true
                  },
                  "type": "parcoords"
                }
              ],
              "layout": {
                "template": {
                  "data": {
                    "bar": [
                      {
                        "error_x": {
                          "color": "#2a3f5f"
                        },
                        "error_y": {
                          "color": "#2a3f5f"
                        },
                        "marker": {
                          "line": {
                            "color": "#E5ECF6",
                            "width": 0.5
                          },
                          "pattern": {
                            "fillmode": "overlay",
                            "size": 10,
                            "solidity": 0.2
                          }
                        },
                        "type": "bar"
                      }
                    ],
                    "barpolar": [
                      {
                        "marker": {
                          "line": {
                            "color": "#E5ECF6",
                            "width": 0.5
                          },
                          "pattern": {
                            "fillmode": "overlay",
                            "size": 10,
                            "solidity": 0.2
                          }
                        },
                        "type": "barpolar"
                      }
                    ],
                    "carpet": [
                      {
                        "aaxis": {
                          "endlinecolor": "#2a3f5f",
                          "gridcolor": "white",
                          "linecolor": "white",
                          "minorgridcolor": "white",
                          "startlinecolor": "#2a3f5f"
                        },
                        "baxis": {
                          "endlinecolor": "#2a3f5f",
                          "gridcolor": "white",
                          "linecolor": "white",
                          "minorgridcolor": "white",
                          "startlinecolor": "#2a3f5f"
                        },
                        "type": "carpet"
                      }
                    ],
                    "choropleth": [
                      {
                        "colorbar": {
                          "outlinewidth": 0,
                          "ticks": ""
                        },
                        "type": "choropleth"
                      }
                    ],
                    "contour": [
                      {
                        "colorbar": {
                          "outlinewidth": 0,
                          "ticks": ""
                        },
                        "colorscale": [
                          [
                            0,
                            "#0d0887"
                          ],
                          [
                            0.1111111111111111,
                            "#46039f"
                          ],
                          [
                            0.2222222222222222,
                            "#7201a8"
                          ],
                          [
                            0.3333333333333333,
                            "#9c179e"
                          ],
                          [
                            0.4444444444444444,
                            "#bd3786"
                          ],
                          [
                            0.5555555555555556,
                            "#d8576b"
                          ],
                          [
                            0.6666666666666666,
                            "#ed7953"
                          ],
                          [
                            0.7777777777777778,
                            "#fb9f3a"
                          ],
                          [
                            0.8888888888888888,
                            "#fdca26"
                          ],
                          [
                            1,
                            "#f0f921"
                          ]
                        ],
                        "type": "contour"
                      }
                    ],
                    "contourcarpet": [
                      {
                        "colorbar": {
                          "outlinewidth": 0,
                          "ticks": ""
                        },
                        "type": "contourcarpet"
                      }
                    ],
                    "heatmap": [
                      {
                        "colorbar": {
                          "outlinewidth": 0,
                          "ticks": ""
                        },
                        "colorscale": [
                          [
                            0,
                            "#0d0887"
                          ],
                          [
                            0.1111111111111111,
                            "#46039f"
                          ],
                          [
                            0.2222222222222222,
                            "#7201a8"
                          ],
                          [
                            0.3333333333333333,
                            "#9c179e"
                          ],
                          [
                            0.4444444444444444,
                            "#bd3786"
                          ],
                          [
                            0.5555555555555556,
                            "#d8576b"
                          ],
                          [
                            0.6666666666666666,
                            "#ed7953"
                          ],
                          [
                            0.7777777777777778,
                            "#fb9f3a"
                          ],
                          [
                            0.8888888888888888,
                            "#fdca26"
                          ],
                          [
                            1,
                            "#f0f921"
                          ]
                        ],
                        "type": "heatmap"
                      }
                    ],
                    "heatmapgl": [
                      {
                        "colorbar": {
                          "outlinewidth": 0,
                          "ticks": ""
                        },
                        "colorscale": [
                          [
                            0,
                            "#0d0887"
                          ],
                          [
                            0.1111111111111111,
                            "#46039f"
                          ],
                          [
                            0.2222222222222222,
                            "#7201a8"
                          ],
                          [
                            0.3333333333333333,
                            "#9c179e"
                          ],
                          [
                            0.4444444444444444,
                            "#bd3786"
                          ],
                          [
                            0.5555555555555556,
                            "#d8576b"
                          ],
                          [
                            0.6666666666666666,
                            "#ed7953"
                          ],
                          [
                            0.7777777777777778,
                            "#fb9f3a"
                          ],
                          [
                            0.8888888888888888,
                            "#fdca26"
                          ],
                          [
                            1,
                            "#f0f921"
                          ]
                        ],
                        "type": "heatmapgl"
                      }
                    ],
                    "histogram": [
                      {
                        "marker": {
                          "pattern": {
                            "fillmode": "overlay",
                            "size": 10,
                            "solidity": 0.2
                          }
                        },
                        "type": "histogram"
                      }
                    ],
                    "histogram2d": [
                      {
                        "colorbar": {
                          "outlinewidth": 0,
                          "ticks": ""
                        },
                        "colorscale": [
                          [
                            0,
                            "#0d0887"
                          ],
                          [
                            0.1111111111111111,
                            "#46039f"
                          ],
                          [
                            0.2222222222222222,
                            "#7201a8"
                          ],
                          [
                            0.3333333333333333,
                            "#9c179e"
                          ],
                          [
                            0.4444444444444444,
                            "#bd3786"
                          ],
                          [
                            0.5555555555555556,
                            "#d8576b"
                          ],
                          [
                            0.6666666666666666,
                            "#ed7953"
                          ],
                          [
                            0.7777777777777778,
                            "#fb9f3a"
                          ],
                          [
                            0.8888888888888888,
                            "#fdca26"
                          ],
                          [
                            1,
                            "#f0f921"
                          ]
                        ],
                        "type": "histogram2d"
                      }
                    ],
                    "histogram2dcontour": [
                      {
                        "colorbar": {
                          "outlinewidth": 0,
                          "ticks": ""
                        },
                        "colorscale": [
                          [
                            0,
                            "#0d0887"
                          ],
                          [
                            0.1111111111111111,
                            "#46039f"
                          ],
                          [
                            0.2222222222222222,
                            "#7201a8"
                          ],
                          [
                            0.3333333333333333,
                            "#9c179e"
                          ],
                          [
                            0.4444444444444444,
                            "#bd3786"
                          ],
                          [
                            0.5555555555555556,
                            "#d8576b"
                          ],
                          [
                            0.6666666666666666,
                            "#ed7953"
                          ],
                          [
                            0.7777777777777778,
                            "#fb9f3a"
                          ],
                          [
                            0.8888888888888888,
                            "#fdca26"
                          ],
                          [
                            1,
                            "#f0f921"
                          ]
                        ],
                        "type": "histogram2dcontour"
                      }
                    ],
                    "mesh3d": [
                      {
                        "colorbar": {
                          "outlinewidth": 0,
                          "ticks": ""
                        },
                        "type": "mesh3d"
                      }
                    ],
                    "parcoords": [
                      {
                        "line": {
                          "colorbar": {
                            "outlinewidth": 0,
                            "ticks": ""
                          }
                        },
                        "type": "parcoords"
                      }
                    ],
                    "pie": [
                      {
                        "automargin": true,
                        "type": "pie"
                      }
                    ],
                    "scatter": [
                      {
                        "fillpattern": {
                          "fillmode": "overlay",
                          "size": 10,
                          "solidity": 0.2
                        },
                        "type": "scatter"
                      }
                    ],
                    "scatter3d": [
                      {
                        "line": {
                          "colorbar": {
                            "outlinewidth": 0,
                            "ticks": ""
                          }
                        },
                        "marker": {
                          "colorbar": {
                            "outlinewidth": 0,
                            "ticks": ""
                          }
                        },
                        "type": "scatter3d"
                      }
                    ],
                    "scattercarpet": [
                      {
                        "marker": {
                          "colorbar": {
                            "outlinewidth": 0,
                            "ticks": ""
                          }
                        },
                        "type": "scattercarpet"
                      }
                    ],
                    "scattergeo": [
                      {
                        "marker": {
                          "colorbar": {
                            "outlinewidth": 0,
                            "ticks": ""
                          }
                        },
                        "type": "scattergeo"
                      }
                    ],
                    "scattergl": [
                      {
                        "marker": {
                          "colorbar": {
                            "outlinewidth": 0,
                            "ticks": ""
                          }
                        },
                        "type": "scattergl"
                      }
                    ],
                    "scattermapbox": [
                      {
                        "marker": {
                          "colorbar": {
                            "outlinewidth": 0,
                            "ticks": ""
                          }
                        },
                        "type": "scattermapbox"
                      }
                    ],
                    "scatterpolar": [
                      {
                        "marker": {
                          "colorbar": {
                            "outlinewidth": 0,
                            "ticks": ""
                          }
                        },
                        "type": "scatterpolar"
                      }
                    ],
                    "scatterpolargl": [
                      {
                        "marker": {
                          "colorbar": {
                            "outlinewidth": 0,
                            "ticks": ""
                          }
                        },
                        "type": "scatterpolargl"
                      }
                    ],
                    "scatterternary": [
                      {
                        "marker": {
                          "colorbar": {
                            "outlinewidth": 0,
                            "ticks": ""
                          }
                        },
                        "type": "scatterternary"
                      }
                    ],
                    "surface": [
                      {
                        "colorbar": {
                          "outlinewidth": 0,
                          "ticks": ""
                        },
                        "colorscale": [
                          [
                            0,
                            "#0d0887"
                          ],
                          [
                            0.1111111111111111,
                            "#46039f"
                          ],
                          [
                            0.2222222222222222,
                            "#7201a8"
                          ],
                          [
                            0.3333333333333333,
                            "#9c179e"
                          ],
                          [
                            0.4444444444444444,
                            "#bd3786"
                          ],
                          [
                            0.5555555555555556,
                            "#d8576b"
                          ],
                          [
                            0.6666666666666666,
                            "#ed7953"
                          ],
                          [
                            0.7777777777777778,
                            "#fb9f3a"
                          ],
                          [
                            0.8888888888888888,
                            "#fdca26"
                          ],
                          [
                            1,
                            "#f0f921"
                          ]
                        ],
                        "type": "surface"
                      }
                    ],
                    "table": [
                      {
                        "cells": {
                          "fill": {
                            "color": "#EBF0F8"
                          },
                          "line": {
                            "color": "white"
                          }
                        },
                        "header": {
                          "fill": {
                            "color": "#C8D4E3"
                          },
                          "line": {
                            "color": "white"
                          }
                        },
                        "type": "table"
                      }
                    ]
                  },
                  "layout": {
                    "annotationdefaults": {
                      "arrowcolor": "#2a3f5f",
                      "arrowhead": 0,
                      "arrowwidth": 1
                    },
                    "autotypenumbers": "strict",
                    "coloraxis": {
                      "colorbar": {
                        "outlinewidth": 0,
                        "ticks": ""
                      }
                    },
                    "colorscale": {
                      "diverging": [
                        [
                          0,
                          "#8e0152"
                        ],
                        [
                          0.1,
                          "#c51b7d"
                        ],
                        [
                          0.2,
                          "#de77ae"
                        ],
                        [
                          0.3,
                          "#f1b6da"
                        ],
                        [
                          0.4,
                          "#fde0ef"
                        ],
                        [
                          0.5,
                          "#f7f7f7"
                        ],
                        [
                          0.6,
                          "#e6f5d0"
                        ],
                        [
                          0.7,
                          "#b8e186"
                        ],
                        [
                          0.8,
                          "#7fbc41"
                        ],
                        [
                          0.9,
                          "#4d9221"
                        ],
                        [
                          1,
                          "#276419"
                        ]
                      ],
                      "sequential": [
                        [
                          0,
                          "#0d0887"
                        ],
                        [
                          0.1111111111111111,
                          "#46039f"
                        ],
                        [
                          0.2222222222222222,
                          "#7201a8"
                        ],
                        [
                          0.3333333333333333,
                          "#9c179e"
                        ],
                        [
                          0.4444444444444444,
                          "#bd3786"
                        ],
                        [
                          0.5555555555555556,
                          "#d8576b"
                        ],
                        [
                          0.6666666666666666,
                          "#ed7953"
                        ],
                        [
                          0.7777777777777778,
                          "#fb9f3a"
                        ],
                        [
                          0.8888888888888888,
                          "#fdca26"
                        ],
                        [
                          1,
                          "#f0f921"
                        ]
                      ],
                      "sequentialminus": [
                        [
                          0,
                          "#0d0887"
                        ],
                        [
                          0.1111111111111111,
                          "#46039f"
                        ],
                        [
                          0.2222222222222222,
                          "#7201a8"
                        ],
                        [
                          0.3333333333333333,
                          "#9c179e"
                        ],
                        [
                          0.4444444444444444,
                          "#bd3786"
                        ],
                        [
                          0.5555555555555556,
                          "#d8576b"
                        ],
                        [
                          0.6666666666666666,
                          "#ed7953"
                        ],
                        [
                          0.7777777777777778,
                          "#fb9f3a"
                        ],
                        [
                          0.8888888888888888,
                          "#fdca26"
                        ],
                        [
                          1,
                          "#f0f921"
                        ]
                      ]
                    },
                    "colorway": [
                      "#636efa",
                      "#EF553B",
                      "#00cc96",
                      "#ab63fa",
                      "#FFA15A",
                      "#19d3f3",
                      "#FF6692",
                      "#B6E880",
                      "#FF97FF",
                      "#FECB52"
                    ],
                    "font": {
                      "color": "#2a3f5f"
                    },
                    "geo": {
                      "bgcolor": "white",
                      "lakecolor": "white",
                      "landcolor": "#E5ECF6",
                      "showlakes": true,
                      "showland": true,
                      "subunitcolor": "white"
                    },
                    "hoverlabel": {
                      "align": "left"
                    },
                    "hovermode": "closest",
                    "mapbox": {
                      "style": "light"
                    },
                    "paper_bgcolor": "white",
                    "plot_bgcolor": "#E5ECF6",
                    "polar": {
                      "angularaxis": {
                        "gridcolor": "white",
                        "linecolor": "white",
                        "ticks": ""
                      },
                      "bgcolor": "#E5ECF6",
                      "radialaxis": {
                        "gridcolor": "white",
                        "linecolor": "white",
                        "ticks": ""
                      }
                    },
                    "scene": {
                      "xaxis": {
                        "backgroundcolor": "#E5ECF6",
                        "gridcolor": "white",
                        "gridwidth": 2,
                        "linecolor": "white",
                        "showbackground": true,
                        "ticks": "",
                        "zerolinecolor": "white"
                      },
                      "yaxis": {
                        "backgroundcolor": "#E5ECF6",
                        "gridcolor": "white",
                        "gridwidth": 2,
                        "linecolor": "white",
                        "showbackground": true,
                        "ticks": "",
                        "zerolinecolor": "white"
                      },
                      "zaxis": {
                        "backgroundcolor": "#E5ECF6",
                        "gridcolor": "white",
                        "gridwidth": 2,
                        "linecolor": "white",
                        "showbackground": true,
                        "ticks": "",
                        "zerolinecolor": "white"
                      }
                    },
                    "shapedefaults": {
                      "line": {
                        "color": "#2a3f5f"
                      }
                    },
                    "ternary": {
                      "aaxis": {
                        "gridcolor": "white",
                        "linecolor": "white",
                        "ticks": ""
                      },
                      "baxis": {
                        "gridcolor": "white",
                        "linecolor": "white",
                        "ticks": ""
                      },
                      "bgcolor": "#E5ECF6",
                      "caxis": {
                        "gridcolor": "white",
                        "linecolor": "white",
                        "ticks": ""
                      }
                    },
                    "title": {
                      "x": 0.05
                    },
                    "xaxis": {
                      "automargin": true,
                      "gridcolor": "white",
                      "linecolor": "white",
                      "ticks": "",
                      "title": {
                        "standoff": 15
                      },
                      "zerolinecolor": "white",
                      "zerolinewidth": 2
                    },
                    "yaxis": {
                      "automargin": true,
                      "gridcolor": "white",
                      "linecolor": "white",
                      "ticks": "",
                      "title": {
                        "standoff": 15
                      },
                      "zerolinecolor": "white",
                      "zerolinewidth": 2
                    }
                  }
                },
                "title": {
                  "text": "Parallel Coordinate Plot"
                }
              }
            }
          },
          "metadata": {},
          "output_type": "display_data"
        }
      ],
      "source": [
        "optuna.visualization.plot_parallel_coordinate(study_pruning)"
      ]
    },
    {
      "cell_type": "markdown",
      "metadata": {},
      "source": [
        "**3. Importancia de hiperparámetros**"
      ]
    },
    {
      "cell_type": "code",
      "execution_count": 36,
      "metadata": {},
      "outputs": [
        {
          "data": {
            "application/vnd.plotly.v1+json": {
              "config": {
                "plotlyServerURL": "https://plot.ly"
              },
              "data": [
                {
                  "cliponaxis": false,
                  "hovertemplate": [
                    "learning_rate (FloatDistribution): 0.004504048899210198<extra></extra>",
                    "max_depth (IntDistribution): 0.006062432969422634<extra></extra>",
                    "reg_alpha (FloatDistribution): 0.006815736848447397<extra></extra>",
                    "reg_lambda (FloatDistribution): 0.010523034288540142<extra></extra>",
                    "n_estimators (IntDistribution): 0.012079807204467616<extra></extra>",
                    "min_child_weight (IntDistribution): 0.07285363175024627<extra></extra>",
                    "max_leaves (IntDistribution): 0.08172390946831086<extra></extra>",
                    "min_frequency (FloatDistribution): 0.805437398571355<extra></extra>"
                  ],
                  "name": "Objective Value",
                  "orientation": "h",
                  "text": [
                    "<0.01",
                    "<0.01",
                    "<0.01",
                    "0.01",
                    "0.01",
                    "0.07",
                    "0.08",
                    "0.81"
                  ],
                  "textposition": "outside",
                  "type": "bar",
                  "x": [
                    0.004504048899210198,
                    0.006062432969422634,
                    0.006815736848447397,
                    0.010523034288540142,
                    0.012079807204467616,
                    0.07285363175024627,
                    0.08172390946831086,
                    0.805437398571355
                  ],
                  "y": [
                    "learning_rate",
                    "max_depth",
                    "reg_alpha",
                    "reg_lambda",
                    "n_estimators",
                    "min_child_weight",
                    "max_leaves",
                    "min_frequency"
                  ]
                }
              ],
              "layout": {
                "template": {
                  "data": {
                    "bar": [
                      {
                        "error_x": {
                          "color": "#2a3f5f"
                        },
                        "error_y": {
                          "color": "#2a3f5f"
                        },
                        "marker": {
                          "line": {
                            "color": "#E5ECF6",
                            "width": 0.5
                          },
                          "pattern": {
                            "fillmode": "overlay",
                            "size": 10,
                            "solidity": 0.2
                          }
                        },
                        "type": "bar"
                      }
                    ],
                    "barpolar": [
                      {
                        "marker": {
                          "line": {
                            "color": "#E5ECF6",
                            "width": 0.5
                          },
                          "pattern": {
                            "fillmode": "overlay",
                            "size": 10,
                            "solidity": 0.2
                          }
                        },
                        "type": "barpolar"
                      }
                    ],
                    "carpet": [
                      {
                        "aaxis": {
                          "endlinecolor": "#2a3f5f",
                          "gridcolor": "white",
                          "linecolor": "white",
                          "minorgridcolor": "white",
                          "startlinecolor": "#2a3f5f"
                        },
                        "baxis": {
                          "endlinecolor": "#2a3f5f",
                          "gridcolor": "white",
                          "linecolor": "white",
                          "minorgridcolor": "white",
                          "startlinecolor": "#2a3f5f"
                        },
                        "type": "carpet"
                      }
                    ],
                    "choropleth": [
                      {
                        "colorbar": {
                          "outlinewidth": 0,
                          "ticks": ""
                        },
                        "type": "choropleth"
                      }
                    ],
                    "contour": [
                      {
                        "colorbar": {
                          "outlinewidth": 0,
                          "ticks": ""
                        },
                        "colorscale": [
                          [
                            0,
                            "#0d0887"
                          ],
                          [
                            0.1111111111111111,
                            "#46039f"
                          ],
                          [
                            0.2222222222222222,
                            "#7201a8"
                          ],
                          [
                            0.3333333333333333,
                            "#9c179e"
                          ],
                          [
                            0.4444444444444444,
                            "#bd3786"
                          ],
                          [
                            0.5555555555555556,
                            "#d8576b"
                          ],
                          [
                            0.6666666666666666,
                            "#ed7953"
                          ],
                          [
                            0.7777777777777778,
                            "#fb9f3a"
                          ],
                          [
                            0.8888888888888888,
                            "#fdca26"
                          ],
                          [
                            1,
                            "#f0f921"
                          ]
                        ],
                        "type": "contour"
                      }
                    ],
                    "contourcarpet": [
                      {
                        "colorbar": {
                          "outlinewidth": 0,
                          "ticks": ""
                        },
                        "type": "contourcarpet"
                      }
                    ],
                    "heatmap": [
                      {
                        "colorbar": {
                          "outlinewidth": 0,
                          "ticks": ""
                        },
                        "colorscale": [
                          [
                            0,
                            "#0d0887"
                          ],
                          [
                            0.1111111111111111,
                            "#46039f"
                          ],
                          [
                            0.2222222222222222,
                            "#7201a8"
                          ],
                          [
                            0.3333333333333333,
                            "#9c179e"
                          ],
                          [
                            0.4444444444444444,
                            "#bd3786"
                          ],
                          [
                            0.5555555555555556,
                            "#d8576b"
                          ],
                          [
                            0.6666666666666666,
                            "#ed7953"
                          ],
                          [
                            0.7777777777777778,
                            "#fb9f3a"
                          ],
                          [
                            0.8888888888888888,
                            "#fdca26"
                          ],
                          [
                            1,
                            "#f0f921"
                          ]
                        ],
                        "type": "heatmap"
                      }
                    ],
                    "heatmapgl": [
                      {
                        "colorbar": {
                          "outlinewidth": 0,
                          "ticks": ""
                        },
                        "colorscale": [
                          [
                            0,
                            "#0d0887"
                          ],
                          [
                            0.1111111111111111,
                            "#46039f"
                          ],
                          [
                            0.2222222222222222,
                            "#7201a8"
                          ],
                          [
                            0.3333333333333333,
                            "#9c179e"
                          ],
                          [
                            0.4444444444444444,
                            "#bd3786"
                          ],
                          [
                            0.5555555555555556,
                            "#d8576b"
                          ],
                          [
                            0.6666666666666666,
                            "#ed7953"
                          ],
                          [
                            0.7777777777777778,
                            "#fb9f3a"
                          ],
                          [
                            0.8888888888888888,
                            "#fdca26"
                          ],
                          [
                            1,
                            "#f0f921"
                          ]
                        ],
                        "type": "heatmapgl"
                      }
                    ],
                    "histogram": [
                      {
                        "marker": {
                          "pattern": {
                            "fillmode": "overlay",
                            "size": 10,
                            "solidity": 0.2
                          }
                        },
                        "type": "histogram"
                      }
                    ],
                    "histogram2d": [
                      {
                        "colorbar": {
                          "outlinewidth": 0,
                          "ticks": ""
                        },
                        "colorscale": [
                          [
                            0,
                            "#0d0887"
                          ],
                          [
                            0.1111111111111111,
                            "#46039f"
                          ],
                          [
                            0.2222222222222222,
                            "#7201a8"
                          ],
                          [
                            0.3333333333333333,
                            "#9c179e"
                          ],
                          [
                            0.4444444444444444,
                            "#bd3786"
                          ],
                          [
                            0.5555555555555556,
                            "#d8576b"
                          ],
                          [
                            0.6666666666666666,
                            "#ed7953"
                          ],
                          [
                            0.7777777777777778,
                            "#fb9f3a"
                          ],
                          [
                            0.8888888888888888,
                            "#fdca26"
                          ],
                          [
                            1,
                            "#f0f921"
                          ]
                        ],
                        "type": "histogram2d"
                      }
                    ],
                    "histogram2dcontour": [
                      {
                        "colorbar": {
                          "outlinewidth": 0,
                          "ticks": ""
                        },
                        "colorscale": [
                          [
                            0,
                            "#0d0887"
                          ],
                          [
                            0.1111111111111111,
                            "#46039f"
                          ],
                          [
                            0.2222222222222222,
                            "#7201a8"
                          ],
                          [
                            0.3333333333333333,
                            "#9c179e"
                          ],
                          [
                            0.4444444444444444,
                            "#bd3786"
                          ],
                          [
                            0.5555555555555556,
                            "#d8576b"
                          ],
                          [
                            0.6666666666666666,
                            "#ed7953"
                          ],
                          [
                            0.7777777777777778,
                            "#fb9f3a"
                          ],
                          [
                            0.8888888888888888,
                            "#fdca26"
                          ],
                          [
                            1,
                            "#f0f921"
                          ]
                        ],
                        "type": "histogram2dcontour"
                      }
                    ],
                    "mesh3d": [
                      {
                        "colorbar": {
                          "outlinewidth": 0,
                          "ticks": ""
                        },
                        "type": "mesh3d"
                      }
                    ],
                    "parcoords": [
                      {
                        "line": {
                          "colorbar": {
                            "outlinewidth": 0,
                            "ticks": ""
                          }
                        },
                        "type": "parcoords"
                      }
                    ],
                    "pie": [
                      {
                        "automargin": true,
                        "type": "pie"
                      }
                    ],
                    "scatter": [
                      {
                        "fillpattern": {
                          "fillmode": "overlay",
                          "size": 10,
                          "solidity": 0.2
                        },
                        "type": "scatter"
                      }
                    ],
                    "scatter3d": [
                      {
                        "line": {
                          "colorbar": {
                            "outlinewidth": 0,
                            "ticks": ""
                          }
                        },
                        "marker": {
                          "colorbar": {
                            "outlinewidth": 0,
                            "ticks": ""
                          }
                        },
                        "type": "scatter3d"
                      }
                    ],
                    "scattercarpet": [
                      {
                        "marker": {
                          "colorbar": {
                            "outlinewidth": 0,
                            "ticks": ""
                          }
                        },
                        "type": "scattercarpet"
                      }
                    ],
                    "scattergeo": [
                      {
                        "marker": {
                          "colorbar": {
                            "outlinewidth": 0,
                            "ticks": ""
                          }
                        },
                        "type": "scattergeo"
                      }
                    ],
                    "scattergl": [
                      {
                        "marker": {
                          "colorbar": {
                            "outlinewidth": 0,
                            "ticks": ""
                          }
                        },
                        "type": "scattergl"
                      }
                    ],
                    "scattermapbox": [
                      {
                        "marker": {
                          "colorbar": {
                            "outlinewidth": 0,
                            "ticks": ""
                          }
                        },
                        "type": "scattermapbox"
                      }
                    ],
                    "scatterpolar": [
                      {
                        "marker": {
                          "colorbar": {
                            "outlinewidth": 0,
                            "ticks": ""
                          }
                        },
                        "type": "scatterpolar"
                      }
                    ],
                    "scatterpolargl": [
                      {
                        "marker": {
                          "colorbar": {
                            "outlinewidth": 0,
                            "ticks": ""
                          }
                        },
                        "type": "scatterpolargl"
                      }
                    ],
                    "scatterternary": [
                      {
                        "marker": {
                          "colorbar": {
                            "outlinewidth": 0,
                            "ticks": ""
                          }
                        },
                        "type": "scatterternary"
                      }
                    ],
                    "surface": [
                      {
                        "colorbar": {
                          "outlinewidth": 0,
                          "ticks": ""
                        },
                        "colorscale": [
                          [
                            0,
                            "#0d0887"
                          ],
                          [
                            0.1111111111111111,
                            "#46039f"
                          ],
                          [
                            0.2222222222222222,
                            "#7201a8"
                          ],
                          [
                            0.3333333333333333,
                            "#9c179e"
                          ],
                          [
                            0.4444444444444444,
                            "#bd3786"
                          ],
                          [
                            0.5555555555555556,
                            "#d8576b"
                          ],
                          [
                            0.6666666666666666,
                            "#ed7953"
                          ],
                          [
                            0.7777777777777778,
                            "#fb9f3a"
                          ],
                          [
                            0.8888888888888888,
                            "#fdca26"
                          ],
                          [
                            1,
                            "#f0f921"
                          ]
                        ],
                        "type": "surface"
                      }
                    ],
                    "table": [
                      {
                        "cells": {
                          "fill": {
                            "color": "#EBF0F8"
                          },
                          "line": {
                            "color": "white"
                          }
                        },
                        "header": {
                          "fill": {
                            "color": "#C8D4E3"
                          },
                          "line": {
                            "color": "white"
                          }
                        },
                        "type": "table"
                      }
                    ]
                  },
                  "layout": {
                    "annotationdefaults": {
                      "arrowcolor": "#2a3f5f",
                      "arrowhead": 0,
                      "arrowwidth": 1
                    },
                    "autotypenumbers": "strict",
                    "coloraxis": {
                      "colorbar": {
                        "outlinewidth": 0,
                        "ticks": ""
                      }
                    },
                    "colorscale": {
                      "diverging": [
                        [
                          0,
                          "#8e0152"
                        ],
                        [
                          0.1,
                          "#c51b7d"
                        ],
                        [
                          0.2,
                          "#de77ae"
                        ],
                        [
                          0.3,
                          "#f1b6da"
                        ],
                        [
                          0.4,
                          "#fde0ef"
                        ],
                        [
                          0.5,
                          "#f7f7f7"
                        ],
                        [
                          0.6,
                          "#e6f5d0"
                        ],
                        [
                          0.7,
                          "#b8e186"
                        ],
                        [
                          0.8,
                          "#7fbc41"
                        ],
                        [
                          0.9,
                          "#4d9221"
                        ],
                        [
                          1,
                          "#276419"
                        ]
                      ],
                      "sequential": [
                        [
                          0,
                          "#0d0887"
                        ],
                        [
                          0.1111111111111111,
                          "#46039f"
                        ],
                        [
                          0.2222222222222222,
                          "#7201a8"
                        ],
                        [
                          0.3333333333333333,
                          "#9c179e"
                        ],
                        [
                          0.4444444444444444,
                          "#bd3786"
                        ],
                        [
                          0.5555555555555556,
                          "#d8576b"
                        ],
                        [
                          0.6666666666666666,
                          "#ed7953"
                        ],
                        [
                          0.7777777777777778,
                          "#fb9f3a"
                        ],
                        [
                          0.8888888888888888,
                          "#fdca26"
                        ],
                        [
                          1,
                          "#f0f921"
                        ]
                      ],
                      "sequentialminus": [
                        [
                          0,
                          "#0d0887"
                        ],
                        [
                          0.1111111111111111,
                          "#46039f"
                        ],
                        [
                          0.2222222222222222,
                          "#7201a8"
                        ],
                        [
                          0.3333333333333333,
                          "#9c179e"
                        ],
                        [
                          0.4444444444444444,
                          "#bd3786"
                        ],
                        [
                          0.5555555555555556,
                          "#d8576b"
                        ],
                        [
                          0.6666666666666666,
                          "#ed7953"
                        ],
                        [
                          0.7777777777777778,
                          "#fb9f3a"
                        ],
                        [
                          0.8888888888888888,
                          "#fdca26"
                        ],
                        [
                          1,
                          "#f0f921"
                        ]
                      ]
                    },
                    "colorway": [
                      "#636efa",
                      "#EF553B",
                      "#00cc96",
                      "#ab63fa",
                      "#FFA15A",
                      "#19d3f3",
                      "#FF6692",
                      "#B6E880",
                      "#FF97FF",
                      "#FECB52"
                    ],
                    "font": {
                      "color": "#2a3f5f"
                    },
                    "geo": {
                      "bgcolor": "white",
                      "lakecolor": "white",
                      "landcolor": "#E5ECF6",
                      "showlakes": true,
                      "showland": true,
                      "subunitcolor": "white"
                    },
                    "hoverlabel": {
                      "align": "left"
                    },
                    "hovermode": "closest",
                    "mapbox": {
                      "style": "light"
                    },
                    "paper_bgcolor": "white",
                    "plot_bgcolor": "#E5ECF6",
                    "polar": {
                      "angularaxis": {
                        "gridcolor": "white",
                        "linecolor": "white",
                        "ticks": ""
                      },
                      "bgcolor": "#E5ECF6",
                      "radialaxis": {
                        "gridcolor": "white",
                        "linecolor": "white",
                        "ticks": ""
                      }
                    },
                    "scene": {
                      "xaxis": {
                        "backgroundcolor": "#E5ECF6",
                        "gridcolor": "white",
                        "gridwidth": 2,
                        "linecolor": "white",
                        "showbackground": true,
                        "ticks": "",
                        "zerolinecolor": "white"
                      },
                      "yaxis": {
                        "backgroundcolor": "#E5ECF6",
                        "gridcolor": "white",
                        "gridwidth": 2,
                        "linecolor": "white",
                        "showbackground": true,
                        "ticks": "",
                        "zerolinecolor": "white"
                      },
                      "zaxis": {
                        "backgroundcolor": "#E5ECF6",
                        "gridcolor": "white",
                        "gridwidth": 2,
                        "linecolor": "white",
                        "showbackground": true,
                        "ticks": "",
                        "zerolinecolor": "white"
                      }
                    },
                    "shapedefaults": {
                      "line": {
                        "color": "#2a3f5f"
                      }
                    },
                    "ternary": {
                      "aaxis": {
                        "gridcolor": "white",
                        "linecolor": "white",
                        "ticks": ""
                      },
                      "baxis": {
                        "gridcolor": "white",
                        "linecolor": "white",
                        "ticks": ""
                      },
                      "bgcolor": "#E5ECF6",
                      "caxis": {
                        "gridcolor": "white",
                        "linecolor": "white",
                        "ticks": ""
                      }
                    },
                    "title": {
                      "x": 0.05
                    },
                    "xaxis": {
                      "automargin": true,
                      "gridcolor": "white",
                      "linecolor": "white",
                      "ticks": "",
                      "title": {
                        "standoff": 15
                      },
                      "zerolinecolor": "white",
                      "zerolinewidth": 2
                    },
                    "yaxis": {
                      "automargin": true,
                      "gridcolor": "white",
                      "linecolor": "white",
                      "ticks": "",
                      "title": {
                        "standoff": 15
                      },
                      "zerolinecolor": "white",
                      "zerolinewidth": 2
                    }
                  }
                },
                "title": {
                  "text": "Hyperparameter Importances"
                },
                "xaxis": {
                  "title": {
                    "text": "Hyperparameter Importance"
                  }
                },
                "yaxis": {
                  "title": {
                    "text": "Hyperparameter"
                  }
                }
              }
            }
          },
          "metadata": {},
          "output_type": "display_data"
        }
      ],
      "source": [
        "optuna.visualization.plot_param_importances(study_pruning)"
      ]
    },
    {
      "cell_type": "markdown",
      "metadata": {},
      "source": [
        "**4. ¿Desde qué trial se empiezan a observar mejoras notables en sus resultados?**\n",
        "\n",
        "Desde el trial 2 se observa una mejora importante, ya que el MAE baja considerablemente. "
      ]
    },
    {
      "cell_type": "markdown",
      "metadata": {},
      "source": [
        "**5. ¿Qué tendencias puede observar a partir del gráfico de coordenadas paralelas?**\n",
        "\n",
        "En el gráfico de coordenadas paralelas  se pueden observar varias tendencias  relacionadas con los hiperparámetros y su impacto en el valor objetivo:\n",
        "\n",
        "- Learning Rate: Los valores más bajos de la métrica de evaluación (cerca de 2000 en el eje \"Objective Value\") parecen estar asociados con valores de learning_rate altos, entre 0.08 y 0.1. Los valores más bajos de learning_rate (entre 0.02 y 0.08) están relacionados con un peor rendimiento.\n",
        "\n",
        "- Max Depth y Max Leaves: El número máximo de max_depth alrededor de 9 parece estar relacionado con un mejor rendimiento del modelo, mientras que profundidades menores a 6 no parecen mejorar el valor objetivo. De manera similar, los valores más altos de max_leaves (sobre 60) parecen estar asociados con mejores valores de la métrica.\n",
        "\n",
        "- Min Child Weight: Los valores de min_child_weight entre 1 y 3 muestran una tendencia de estar asociados con menores valores del objetivo, lo cual sugiere que es importante que el modelo pueda tener más flexibilidad al dividir nodos.\n",
        "\n",
        "- N Estimators: Un menor número de estimadores (entre 200 y 600) parece estar asociado con los valores más bajos del objetivo, indicando que más árboles ayudan a mejorar el rendimiento.\n",
        "\n",
        "- Reg Alpha y Reg Lambda: Para los hiperparámetros de regularización, los mejores valores (alrededor de 0.2 a 0.4 para reg_alpha y entre 0.6 y 1.0 para reg_lambda) están asociados con los mejores valores del objetivo.\n",
        "\n",
        "En conclusión, las combinaciones de parámetros como un learning_rate alto, max_depth alrededor de 9, max_leaves altos, y más estimadores parecen tener un efecto positivo en la reducción del MAE. "
      ]
    },
    {
      "cell_type": "markdown",
      "metadata": {},
      "source": [
        "**6. ¿Cuáles son los hiperparámetros con mayor importancia para la optimización de su modelo?**\n",
        "\n",
        "El con mayor importancia es min_frecuency.\n",
        "Luego, se observan con importancia semejante max_leaves, min_child_weight y un poco más abajo n_estimators, siendo el resto similares a este último. "
      ]
    },
    {
      "cell_type": "markdown",
      "metadata": {
        "cell_id": "ac8a20f445d045a3becf1a518d410a7d",
        "deepnote_cell_type": "markdown",
        "id": "EoW32TA9I5wA"
      },
      "source": [
        "## 6. Síntesis de resultados (3 puntos)\n",
        "\n",
        "Finalmente:\n",
        "\n",
        "1. Genere una tabla resumen del MAE en el conjunto de validación obtenido en los 5 modelos entrenados desde Baseline hasta XGBoost con Constraints, Optuna y Prunning. [1 punto]\n",
        "2. Compare los resultados de la tabla y responda, ¿qué modelo obtiene el mejor rendimiento? [0.5 puntos]\n",
        "3. Cargue el mejor modelo, prediga sobre el conjunto de **test** y reporte su MAE. [0.5 puntos]\n",
        "4. ¿Existen diferencias con respecto a las métricas obtenidas en el conjunto de validación? ¿Porqué puede ocurrir esto? [1 punto]"
      ]
    },
    {
      "cell_type": "markdown",
      "metadata": {},
      "source": [
        "**1. Tabla Resumen**\n",
        "\n",
        "| Modelo                   | MAE validación |\n",
        "|--------------------------|----------------|\n",
        "| Baseline                 | 13283          |\n",
        "| XGBoost                  | 2317           |\n",
        "| XGBoost función monotona | 2425           |\n",
        "| Optuna                   | 1913           |\n",
        "| Prunning.                | 1898           |"
      ]
    },
    {
      "cell_type": "markdown",
      "metadata": {},
      "source": [
        "**2. ¿Qué modelo obtiene el mejor rendimiento?**\n",
        "\n",
        "El mejor rendimiento lo tiene el modelo con Prunning. Las razones de ello ya se hablaron antes, ya que este método optimiza de mejor manera el proceso para minimizar el MAE"
      ]
    },
    {
      "cell_type": "markdown",
      "metadata": {},
      "source": [
        "**3. Predicciones sobre conjunto `Test`**"
      ]
    },
    {
      "cell_type": "code",
      "execution_count": 53,
      "metadata": {},
      "outputs": [
        {
          "ename": "ValueError",
          "evalue": "feature_names mismatch: ['num__lat', 'num__long', 'num__pop', 'num__capacity', 'num__price', 'cat__city_Athens', 'cat__city_Irakleion', 'cat__city_Larisa', 'cat__city_Patra', 'cat__city_Thessaloniki', 'cat__shop_shop_1', 'cat__shop_shop_2', 'cat__shop_shop_3', 'cat__shop_shop_4', 'cat__shop_shop_5', 'cat__shop_shop_6', 'cat__brand_adult-cola', 'cat__brand_gazoza', 'cat__brand_kinder-cola', 'cat__brand_lemon-boost', 'cat__brand_orange-power', 'cat__container_can', 'cat__container_glass', 'cat__container_plastic', 'cat__day_28', 'cat__day_30', 'cat__day_31', 'cat__day_infrequent_sklearn', 'cat__month_1', 'cat__month_2', 'cat__month_3', 'cat__month_4', 'cat__month_5', 'cat__month_6', 'cat__month_7', 'cat__month_8', 'cat__month_9', 'cat__month_10', 'cat__month_11', 'cat__month_12', 'cat__year_2012', 'cat__year_2013', 'cat__year_2014', 'cat__year_2015', 'cat__year_2016', 'cat__year_2017', 'cat__year_2018'] ['num__lat', 'num__long', 'num__pop', 'num__capacity', 'num__price', 'cat__city_Athens', 'cat__city_Irakleion', 'cat__city_Larisa', 'cat__city_Patra', 'cat__city_Thessaloniki', 'cat__shop_shop_1', 'cat__shop_shop_2', 'cat__shop_shop_3', 'cat__shop_shop_4', 'cat__shop_shop_5', 'cat__shop_shop_6', 'cat__brand_adult-cola', 'cat__brand_gazoza', 'cat__brand_kinder-cola', 'cat__brand_lemon-boost', 'cat__brand_orange-power', 'cat__container_can', 'cat__container_glass', 'cat__container_plastic', 'cat__day_30', 'cat__day_31', 'cat__day_infrequent_sklearn', 'cat__month_9', 'cat__month_11', 'cat__month_12', 'cat__month_infrequent_sklearn', 'cat__year_2012', 'cat__year_2013', 'cat__year_2014', 'cat__year_2015', 'cat__year_2016', 'cat__year_2017', 'cat__year_2018']\nexpected cat__month_4, cat__month_3, cat__month_1, cat__month_10, cat__month_7, cat__month_6, cat__month_8, cat__month_2, cat__day_28, cat__month_5 in input data\ntraining data did not have the following fields: cat__month_infrequent_sklearn",
          "output_type": "error",
          "traceback": [
            "\u001b[1;31m---------------------------------------------------------------------------\u001b[0m",
            "\u001b[1;31mValueError\u001b[0m                                Traceback (most recent call last)",
            "Cell \u001b[1;32mIn[53], line 5\u001b[0m\n\u001b[0;32m      2\u001b[0m best_pipeline \u001b[38;5;241m=\u001b[39m joblib\u001b[38;5;241m.\u001b[39mload(\u001b[38;5;124m'\u001b[39m\u001b[38;5;124mbest_pipeline.pkl\u001b[39m\u001b[38;5;124m'\u001b[39m)\n\u001b[0;32m      4\u001b[0m \u001b[38;5;66;03m# Predecir con el mejor pipeline\u001b[39;00m\n\u001b[1;32m----> 5\u001b[0m y_test_pred \u001b[38;5;241m=\u001b[39m \u001b[43mbest_pipeline\u001b[49m\u001b[38;5;241;43m.\u001b[39;49m\u001b[43mpredict\u001b[49m\u001b[43m(\u001b[49m\u001b[43mX_test\u001b[49m\u001b[43m)\u001b[49m\n\u001b[0;32m      7\u001b[0m \u001b[38;5;66;03m# Calcular el error absoluto medio\u001b[39;00m\n\u001b[0;32m      8\u001b[0m mae_test \u001b[38;5;241m=\u001b[39m mean_absolute_error(y_test, y_test_pred)\n",
            "File \u001b[1;32m~\\AppData\\Local\\Packages\\PythonSoftwareFoundation.Python.3.12_qbz5n2kfra8p0\\LocalCache\\local-packages\\Python312\\site-packages\\sklearn\\pipeline.py:601\u001b[0m, in \u001b[0;36mPipeline.predict\u001b[1;34m(self, X, **params)\u001b[0m\n\u001b[0;32m    599\u001b[0m     \u001b[38;5;28;01mfor\u001b[39;00m _, name, transform \u001b[38;5;129;01min\u001b[39;00m \u001b[38;5;28mself\u001b[39m\u001b[38;5;241m.\u001b[39m_iter(with_final\u001b[38;5;241m=\u001b[39m\u001b[38;5;28;01mFalse\u001b[39;00m):\n\u001b[0;32m    600\u001b[0m         Xt \u001b[38;5;241m=\u001b[39m transform\u001b[38;5;241m.\u001b[39mtransform(Xt)\n\u001b[1;32m--> 601\u001b[0m     \u001b[38;5;28;01mreturn\u001b[39;00m \u001b[38;5;28;43mself\u001b[39;49m\u001b[38;5;241;43m.\u001b[39;49m\u001b[43msteps\u001b[49m\u001b[43m[\u001b[49m\u001b[38;5;241;43m-\u001b[39;49m\u001b[38;5;241;43m1\u001b[39;49m\u001b[43m]\u001b[49m\u001b[43m[\u001b[49m\u001b[38;5;241;43m1\u001b[39;49m\u001b[43m]\u001b[49m\u001b[38;5;241;43m.\u001b[39;49m\u001b[43mpredict\u001b[49m\u001b[43m(\u001b[49m\u001b[43mXt\u001b[49m\u001b[43m,\u001b[49m\u001b[43m \u001b[49m\u001b[38;5;241;43m*\u001b[39;49m\u001b[38;5;241;43m*\u001b[39;49m\u001b[43mparams\u001b[49m\u001b[43m)\u001b[49m\n\u001b[0;32m    603\u001b[0m \u001b[38;5;66;03m# metadata routing enabled\u001b[39;00m\n\u001b[0;32m    604\u001b[0m routed_params \u001b[38;5;241m=\u001b[39m process_routing(\u001b[38;5;28mself\u001b[39m, \u001b[38;5;124m\"\u001b[39m\u001b[38;5;124mpredict\u001b[39m\u001b[38;5;124m\"\u001b[39m, \u001b[38;5;241m*\u001b[39m\u001b[38;5;241m*\u001b[39mparams)\n",
            "File \u001b[1;32m~\\AppData\\Local\\Packages\\PythonSoftwareFoundation.Python.3.12_qbz5n2kfra8p0\\LocalCache\\local-packages\\Python312\\site-packages\\xgboost\\sklearn.py:1186\u001b[0m, in \u001b[0;36mXGBModel.predict\u001b[1;34m(self, X, output_margin, validate_features, base_margin, iteration_range)\u001b[0m\n\u001b[0;32m   1184\u001b[0m \u001b[38;5;28;01mif\u001b[39;00m \u001b[38;5;28mself\u001b[39m\u001b[38;5;241m.\u001b[39m_can_use_inplace_predict():\n\u001b[0;32m   1185\u001b[0m     \u001b[38;5;28;01mtry\u001b[39;00m:\n\u001b[1;32m-> 1186\u001b[0m         predts \u001b[38;5;241m=\u001b[39m \u001b[38;5;28;43mself\u001b[39;49m\u001b[38;5;241;43m.\u001b[39;49m\u001b[43mget_booster\u001b[49m\u001b[43m(\u001b[49m\u001b[43m)\u001b[49m\u001b[38;5;241;43m.\u001b[39;49m\u001b[43minplace_predict\u001b[49m\u001b[43m(\u001b[49m\n\u001b[0;32m   1187\u001b[0m \u001b[43m            \u001b[49m\u001b[43mdata\u001b[49m\u001b[38;5;241;43m=\u001b[39;49m\u001b[43mX\u001b[49m\u001b[43m,\u001b[49m\n\u001b[0;32m   1188\u001b[0m \u001b[43m            \u001b[49m\u001b[43miteration_range\u001b[49m\u001b[38;5;241;43m=\u001b[39;49m\u001b[43miteration_range\u001b[49m\u001b[43m,\u001b[49m\n\u001b[0;32m   1189\u001b[0m \u001b[43m            \u001b[49m\u001b[43mpredict_type\u001b[49m\u001b[38;5;241;43m=\u001b[39;49m\u001b[38;5;124;43m\"\u001b[39;49m\u001b[38;5;124;43mmargin\u001b[39;49m\u001b[38;5;124;43m\"\u001b[39;49m\u001b[43m \u001b[49m\u001b[38;5;28;43;01mif\u001b[39;49;00m\u001b[43m \u001b[49m\u001b[43moutput_margin\u001b[49m\u001b[43m \u001b[49m\u001b[38;5;28;43;01melse\u001b[39;49;00m\u001b[43m \u001b[49m\u001b[38;5;124;43m\"\u001b[39;49m\u001b[38;5;124;43mvalue\u001b[39;49m\u001b[38;5;124;43m\"\u001b[39;49m\u001b[43m,\u001b[49m\n\u001b[0;32m   1190\u001b[0m \u001b[43m            \u001b[49m\u001b[43mmissing\u001b[49m\u001b[38;5;241;43m=\u001b[39;49m\u001b[38;5;28;43mself\u001b[39;49m\u001b[38;5;241;43m.\u001b[39;49m\u001b[43mmissing\u001b[49m\u001b[43m,\u001b[49m\n\u001b[0;32m   1191\u001b[0m \u001b[43m            \u001b[49m\u001b[43mbase_margin\u001b[49m\u001b[38;5;241;43m=\u001b[39;49m\u001b[43mbase_margin\u001b[49m\u001b[43m,\u001b[49m\n\u001b[0;32m   1192\u001b[0m \u001b[43m            \u001b[49m\u001b[43mvalidate_features\u001b[49m\u001b[38;5;241;43m=\u001b[39;49m\u001b[43mvalidate_features\u001b[49m\u001b[43m,\u001b[49m\n\u001b[0;32m   1193\u001b[0m \u001b[43m        \u001b[49m\u001b[43m)\u001b[49m\n\u001b[0;32m   1194\u001b[0m         \u001b[38;5;28;01mif\u001b[39;00m _is_cupy_alike(predts):\n\u001b[0;32m   1195\u001b[0m             \u001b[38;5;28;01mimport\u001b[39;00m \u001b[38;5;21;01mcupy\u001b[39;00m  \u001b[38;5;66;03m# pylint: disable=import-error\u001b[39;00m\n",
            "File \u001b[1;32m~\\AppData\\Local\\Packages\\PythonSoftwareFoundation.Python.3.12_qbz5n2kfra8p0\\LocalCache\\local-packages\\Python312\\site-packages\\xgboost\\core.py:2510\u001b[0m, in \u001b[0;36mBooster.inplace_predict\u001b[1;34m(self, data, iteration_range, predict_type, missing, validate_features, base_margin, strict_shape)\u001b[0m\n\u001b[0;32m   2508\u001b[0m     data, fns, _ \u001b[38;5;241m=\u001b[39m _transform_pandas_df(data, enable_categorical)\n\u001b[0;32m   2509\u001b[0m     \u001b[38;5;28;01mif\u001b[39;00m validate_features:\n\u001b[1;32m-> 2510\u001b[0m         \u001b[38;5;28;43mself\u001b[39;49m\u001b[38;5;241;43m.\u001b[39;49m\u001b[43m_validate_features\u001b[49m\u001b[43m(\u001b[49m\u001b[43mfns\u001b[49m\u001b[43m)\u001b[49m\n\u001b[0;32m   2511\u001b[0m \u001b[38;5;28;01mif\u001b[39;00m _is_list(data) \u001b[38;5;129;01mor\u001b[39;00m _is_tuple(data):\n\u001b[0;32m   2512\u001b[0m     data \u001b[38;5;241m=\u001b[39m np\u001b[38;5;241m.\u001b[39marray(data)\n",
            "File \u001b[1;32m~\\AppData\\Local\\Packages\\PythonSoftwareFoundation.Python.3.12_qbz5n2kfra8p0\\LocalCache\\local-packages\\Python312\\site-packages\\xgboost\\core.py:3075\u001b[0m, in \u001b[0;36mBooster._validate_features\u001b[1;34m(self, feature_names)\u001b[0m\n\u001b[0;32m   3069\u001b[0m \u001b[38;5;28;01mif\u001b[39;00m my_missing:\n\u001b[0;32m   3070\u001b[0m     msg \u001b[38;5;241m+\u001b[39m\u001b[38;5;241m=\u001b[39m (\n\u001b[0;32m   3071\u001b[0m         \u001b[38;5;124m\"\u001b[39m\u001b[38;5;130;01m\\n\u001b[39;00m\u001b[38;5;124mtraining data did not have the following fields: \u001b[39m\u001b[38;5;124m\"\u001b[39m\n\u001b[0;32m   3072\u001b[0m         \u001b[38;5;241m+\u001b[39m \u001b[38;5;124m\"\u001b[39m\u001b[38;5;124m, \u001b[39m\u001b[38;5;124m\"\u001b[39m\u001b[38;5;241m.\u001b[39mjoin(\u001b[38;5;28mstr\u001b[39m(s) \u001b[38;5;28;01mfor\u001b[39;00m s \u001b[38;5;129;01min\u001b[39;00m my_missing)\n\u001b[0;32m   3073\u001b[0m     )\n\u001b[1;32m-> 3075\u001b[0m \u001b[38;5;28;01mraise\u001b[39;00m \u001b[38;5;167;01mValueError\u001b[39;00m(msg\u001b[38;5;241m.\u001b[39mformat(\u001b[38;5;28mself\u001b[39m\u001b[38;5;241m.\u001b[39mfeature_names, feature_names))\n",
            "\u001b[1;31mValueError\u001b[0m: feature_names mismatch: ['num__lat', 'num__long', 'num__pop', 'num__capacity', 'num__price', 'cat__city_Athens', 'cat__city_Irakleion', 'cat__city_Larisa', 'cat__city_Patra', 'cat__city_Thessaloniki', 'cat__shop_shop_1', 'cat__shop_shop_2', 'cat__shop_shop_3', 'cat__shop_shop_4', 'cat__shop_shop_5', 'cat__shop_shop_6', 'cat__brand_adult-cola', 'cat__brand_gazoza', 'cat__brand_kinder-cola', 'cat__brand_lemon-boost', 'cat__brand_orange-power', 'cat__container_can', 'cat__container_glass', 'cat__container_plastic', 'cat__day_28', 'cat__day_30', 'cat__day_31', 'cat__day_infrequent_sklearn', 'cat__month_1', 'cat__month_2', 'cat__month_3', 'cat__month_4', 'cat__month_5', 'cat__month_6', 'cat__month_7', 'cat__month_8', 'cat__month_9', 'cat__month_10', 'cat__month_11', 'cat__month_12', 'cat__year_2012', 'cat__year_2013', 'cat__year_2014', 'cat__year_2015', 'cat__year_2016', 'cat__year_2017', 'cat__year_2018'] ['num__lat', 'num__long', 'num__pop', 'num__capacity', 'num__price', 'cat__city_Athens', 'cat__city_Irakleion', 'cat__city_Larisa', 'cat__city_Patra', 'cat__city_Thessaloniki', 'cat__shop_shop_1', 'cat__shop_shop_2', 'cat__shop_shop_3', 'cat__shop_shop_4', 'cat__shop_shop_5', 'cat__shop_shop_6', 'cat__brand_adult-cola', 'cat__brand_gazoza', 'cat__brand_kinder-cola', 'cat__brand_lemon-boost', 'cat__brand_orange-power', 'cat__container_can', 'cat__container_glass', 'cat__container_plastic', 'cat__day_30', 'cat__day_31', 'cat__day_infrequent_sklearn', 'cat__month_9', 'cat__month_11', 'cat__month_12', 'cat__month_infrequent_sklearn', 'cat__year_2012', 'cat__year_2013', 'cat__year_2014', 'cat__year_2015', 'cat__year_2016', 'cat__year_2017', 'cat__year_2018']\nexpected cat__month_4, cat__month_3, cat__month_1, cat__month_10, cat__month_7, cat__month_6, cat__month_8, cat__month_2, cat__day_28, cat__month_5 in input data\ntraining data did not have the following fields: cat__month_infrequent_sklearn"
          ]
        }
      ],
      "source": [
        "# cargar el mejor pipeline\n",
        "best_pipeline = joblib.load('best_pipeline.pkl')\n",
        "\n",
        "# Predecir con el mejor pipeline\n",
        "y_test_pred = best_pipeline.predict(X_test)\n",
        "\n",
        "# Calcular el error absoluto medio\n",
        "mae_test = mean_absolute_error(y_test, y_test_pred)\n",
        "print(f'MAE Test: {mae_test:.2f}')"
      ]
    },
    {
      "cell_type": "markdown",
      "metadata": {},
      "source": [
        "**4. ¿Existen diferencias con respecto a las métricas obtenidas en el conjunto de validación? ¿Porqué puede ocurrir esto?**\n",
        "\n",
        "El MAE en el conjunto de test puede ser diferente al de validación debido a factores como una distribución de datos distinta, sobreajuste, tamaño distinto entre los conjuntos de validación y test, mayor ruido en los datos de test,  una selección de hiperparámetros que funciona mejor solo en validación."
      ]
    },
    {
      "cell_type": "markdown",
      "metadata": {
        "cell_id": "5c4654d12037494fbd385b4dc6bd1059",
        "deepnote_cell_type": "markdown",
        "id": "E_19tgBEI5wA"
      },
      "source": [
        "# Conclusión\n",
        "Eso ha sido todo para el lab de hoy, recuerden que el laboratorio tiene un plazo de entrega de una semana. Cualquier duda del laboratorio, no duden en contactarnos por mail o U-cursos.\n",
        "\n",
        "<p align=\"center\">\n",
        "  <img src=\"https://media.tenor.com/8CT1AXElF_cAAAAC/gojo-satoru.gif\">\n",
        "</p>"
      ]
    },
    {
      "cell_type": "markdown",
      "metadata": {
        "created_in_deepnote_cell": true,
        "deepnote_cell_type": "markdown",
        "id": "rAp9UxwiI5wA"
      },
      "source": [
        "<a style='text-decoration:none;line-height:16px;display:flex;color:#5B5B62;padding:10px;justify-content:end;' href='https://deepnote.com?utm_source=created-in-deepnote-cell&projectId=87110296-876e-426f-b91d-aaf681223468' target=\"_blank\">\n",
        "<img alt='Created in deepnote.com' style='display:inline;max-height:16px;margin:0px;margin-right:7.5px;' src='data:image/svg+xml;base64,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' > </img>\n",
        "Created in <span style='font-weight:600;margin-left:4px;'>Deepnote</span></a>"
      ]
    }
  ],
  "metadata": {
    "colab": {
      "provenance": []
    },
    "deepnote": {},
    "deepnote_execution_queue": [],
    "deepnote_notebook_id": "f63d38450a6b464c9bb6385cf11db4d9",
    "deepnote_persisted_session": {
      "createdAt": "2023-11-09T16:18:30.203Z"
    },
    "kernelspec": {
      "display_name": "Python 3",
      "language": "python",
      "name": "python3"
    },
    "language_info": {
      "codemirror_mode": {
        "name": "ipython",
        "version": 3
      },
      "file_extension": ".py",
      "mimetype": "text/x-python",
      "name": "python",
      "nbconvert_exporter": "python",
      "pygments_lexer": "ipython3",
      "version": "3.12.7"
    }
  },
  "nbformat": 4,
  "nbformat_minor": 0
}
