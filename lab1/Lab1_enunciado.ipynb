{
  "cells": [
    {
      "cell_type": "markdown",
      "metadata": {
        "cell_id": "097fce6dce21405c911254a775ae3d26",
        "deepnote_cell_type": "markdown",
        "id": "J4_IcuuKZj9Y"
      },
      "source": [
        "<h1><center>Laboratorio 1: Git 👾</center></h1>\n",
        "\n",
        "<center><strong>MDS7202: Laboratorio de Programación Científica para Ciencia de Datos - Primavera 2024</strong></center>"
      ]
    },
    {
      "cell_type": "markdown",
      "metadata": {
        "cell_id": "9e8e8f2ae34e461da4f44508a96d2cf4",
        "deepnote_cell_type": "markdown",
        "id": "AEXIACc7aADv"
      },
      "source": [
        "### Cuerpo Docente:\n",
        "\n",
        "- Profesores: Ignacio Meza, Sebastián Tinoco\n",
        "- Auxiliar: Eduardo Moya\n",
        "- Ayudantes: Nicolás Ojeda, Melanie Peña, Valentina Rojas"
      ]
    },
    {
      "cell_type": "markdown",
      "metadata": {
        "cell_id": "3e5b48c23e1b48f6a64de41899166179",
        "deepnote_cell_type": "markdown",
        "id": "0HgMMyoCaG8X"
      },
      "source": [
        "### Equipo: **SUPER IMPORTANTE - notebooks sin nombre no serán revisados**\n",
        "\n",
        "- Nombre de alumno 1: Lucas Orellana Jara\n",
        "- Nombre de alumno 2:"
      ]
    },
    {
      "cell_type": "markdown",
      "metadata": {
        "cell_id": "1db7c82b68614d19b112ba3b0d0abe4d",
        "deepnote_cell_type": "markdown",
        "id": "fz77X6glaK6y"
      },
      "source": [
        "### **Link de repositorio de GitHub:** [Insertar Enlace](https://github.com/ElLuquitas/MDS7202-labs.git)"
      ]
    },
    {
      "cell_type": "markdown",
      "metadata": {
        "cell_id": "bc3dac65089d4ae6a43c079547dee179",
        "deepnote_cell_type": "markdown",
        "id": "rRwqaxIZaNx3"
      },
      "source": [
        "## Reglas:\n",
        "\n",
        "- **Grupos de 2 personas**\n",
        "- Fecha de entrega: 6 días de plazo con descuento de 1 punto por día. Entregas Jueves a las 23:59.\n",
        "- Instrucciones del lab el viernes a las 16:15 en formato online. Asistencia no es obligatoria.\n",
        "- <u>Prohibidas las copias</u>. Cualquier intento de copia será debidamente penalizado con el reglamento de la escuela.\n",
        "- Tienen que subir el laboratorio a u-cursos y a su repositorio de github. Labs que no estén en u-cursos no serán revisados. Recuerden que el repositorio también tiene nota.\n",
        "- Cualquier duda fuera del horario de clases al foro. Mensajes al equipo docente serán respondidos por este medio.\n",
        "- Pueden usar cualquier material del curso que estimen conveniente."
      ]
    },
    {
      "cell_type": "markdown",
      "metadata": {
        "cell_id": "05e4729411a24153837fd13b7f198bd9",
        "deepnote_cell_type": "markdown",
        "id": "bmToL27JaSrf"
      },
      "source": [
        "## Objetivos del lab:\n",
        "\n",
        "\n",
        "- Conocer los elementos básicos que conformar `Git`\n",
        "- Clonar repositorios\n",
        "- Identificar ramas de un repositorio\n",
        "- Reconocer y solucionar problemas entre ramas\n",
        "- Subir cambios a un repositorio"
      ]
    },
    {
      "cell_type": "markdown",
      "metadata": {
        "cell_id": "5ebae9d601bd4d508349ab55297e9f82",
        "deepnote_cell_type": "markdown",
        "id": "bvnPCvrVbJLK"
      },
      "source": [
        "## Parte 1: Conocimiento Teórico (2.5 pts)\n",
        "\n",
        "<p align=\"center\">\n",
        "  <img src=\"https://cdn.thedesigninspiration.com/wp-content/uploads/sites/3/2019/04/macintosh-hdusersbrittanyloefflerdownloadsanig-1.gif\" width=\"350\">\n",
        "</p>"
      ]
    },
    {
      "cell_type": "markdown",
      "metadata": {
        "cell_id": "627494dba4f84520b3ee8b9cbf58ee79",
        "deepnote_cell_type": "markdown",
        "id": "JHl-24XnbNLF"
      },
      "source": [
        "Responda las siguientes preguntas (0.2 pts c/u):\n",
        "\n",
        "1. ¿Qué es `Git` y cómo se relaciona con el control de versiones?\n",
        "\n",
        "2. Nombre y explique 3 diferencias entre `Git` y `Github`.\n",
        "\n",
        "3. ¿Qué es un `hash` y cómo se representa en un `commit`? De un ejemplo.\n",
        "\n",
        "4. ¿Que elementos componen a la estructura de datos de `Git`?\n",
        "\n",
        "5. ¿Que comandos de `Git` sirven para crear un repositorio y hacer seguimiento a cambios en los archivos?"
      ]
    },
    {
      "attachments": {
        "image.png": {
          "image/png": "[encoded data removed]"
        }
      },
      "cell_type": "markdown",
      "metadata": {
        "cell_id": "6d06c40f429044a298b27c666f51f46f",
        "deepnote_cell_type": "markdown",
        "id": "2tXCSkf0caG8"
      },
      "source": [
        "<code>Escriba sus respuestas acá:</code>\n",
        "\n",
        "1. `Git` es un sistema de control de versiones distribuido que permite gestionar y mantener un historial detallado de los cambios realizados en archivos, especialmente en proyectos de desarrollo de software. Git almacena un registro de quién hizo cada cambio y en qué momento, facilitando la colaboración entre múltiples personas en un mismo proyecto. Además, `Git` permite trabajar en diferentes ramas de desarrollo simultáneamente, lo que optimiza el manejo de versiones y la integración de código. `Git` permite registrar todos los cambios realizados en un proyecto de manera **distribuida** y no **centralizada**, lo que significa que cada persona que trabaja en el proyecto tiene una copia completa del historial en su propio computador, mejorando así la recuperación ante fallos al no tener una única copia del proyecto.\n",
        "\n",
        "2. Podemos encontrar las siguientes diferencias entre `Git` y `GitHub`:\n",
        "\n",
        "    i) `Git` es una herramienta que se utiliza a través de la terminal del computador, usando comandos como por ejemplo ``git commit -m \"...\"``, ``git add ...``, etc, mientras que `GitHub` es una plataforma en línea que proporciona una interfaz gráfica y herramientas al usuario para facilitar la gestión de los repositorios creados con `Git`.\n",
        "    \n",
        "    ii) `Git` permite crear y gestionar repositorios de manera local, es decir, archivos e historial de cambios están disponibles únicamente en el computador donde se utiliza, mientras que `GitHub` permite alojar copias de estos repositorios en la nube, permitiendo que varias personas puedan acceder y contribuir al mismo proyecto desde diferentes ubicaciones.\n",
        "    \n",
        "    iii) `Git` permite a los desarrolladores trabajar de manera autónoma en sus computadores sin depender de conexión a internet, mientras que `GitHub` está centrado en la colaboración global, permitiendo que los cambios se compartan e integren con más colaboradores a través de la nube.\n",
        "\n",
        "3. Un `hash` es un identificador único que poseen los commit, los cuales son resultado de aplicar una operación matemática que convierte la entrada en una cadena de caracteres única para cada elemento. el `hash` de un commit se puede obtener usando `git log` para ver tanto el commit hecho como su identificador y la persona que realizó el commit. Por ejemplo:\n",
        "\n",
        "    ![image.png](attachment:image.png)\n",
        "\n",
        "    Acá se puede ver en amarillo el `hash` con el que se identifica este commit en específico.\n",
        "\n",
        "4. Los datos dentro de `Git` se estructuran como un par `key-value`, teniendo principalmente dos unidades de información:\n",
        "\n",
        "    i) `blob`: representa la unidad mínima de un archivo y almacena las líneas de algún script por ejemplo.\n",
        "\n",
        "    ii) `tree`: representa una localización de un grupo de archivos, los cuales están dentro deuna misma carpeta.\n",
        "\n",
        "    Cada uno de estos elementos posee un `hash` asociado, el cual apunta hacia los `tree` y `blob`.\n",
        "\n",
        "5. Para crear un repositorio, el comando `Git` corresponde a `git init` dentro de la carpeta que representará el contenedor. Con ello se crearán carpetas que administrarán este sistema. Para hacer el seguimiento a los cambios que se realizan, el usuario debe ingresar el comando `git add archivo_1 archivo_2...` para poder tener en la mira los archivos que se trabajaron durante la sesión. Luego usando otros comandos se podrán comentar estos cambios y subir al repositorio en la nube."
      ]
    },
    {
      "cell_type": "markdown",
      "metadata": {
        "cell_id": "ec9855406e324cc98b59e33500faea84",
        "deepnote_cell_type": "markdown",
        "id": "MACccbP4gU43"
      },
      "source": [
        "Responda si las siguientes afirmaciones son Verdaderas (V) o Falsas (F). Justifique en **cualquiera** de los casos (0.2 pts c/u):\n",
        "\n",
        "\n",
        "6. `Git` siempre resuelve automáticamente los problemas de lineas al hacer merge entre diferentes ramas.\n",
        "7. Ejecutar `git pull` sobre un repositorio es equivalente a ejecutar `git clone`.\n",
        "8. `git status` genera los mismos resultados que `git log`.\n",
        "9. En `Git` es posible deshacer cambios y volver a versiones anteriores del código.\n",
        "10. El comando `git commit` se utiliza para enviar cambios al repositorio remoto."
      ]
    },
    {
      "cell_type": "markdown",
      "metadata": {
        "cell_id": "7e6a5a6e15b045cc9d104cf017825f1a",
        "deepnote_cell_type": "markdown",
        "id": "DFnmCToOgeM3"
      },
      "source": [
        "<code>Escriba sus respuestas acá:</code>\n",
        "\n",
        "6. Falso. `Git` lo que hará será señalarle al usuario cuáles son los archivos que tienen conflicto al hacer el merge, mencionando que primero debe arreglar el problema y luego realizar un commit sobre el resultado.\n",
        "\n",
        "7. Falso. Cuando se ejecuta `git clone` lo que se hace es hacer una copia total del repositorio que se quiere, obteniendo así todos los archivos y `commit` hechos hasta ese momento. En cambio, al hacer `git pull`, lo que se hace es obtener los últimos cambios realizados al repositorio, los cuales se agregan a los archivos ya existentes del repositorio local.\n",
        "\n",
        "8. Falso. `git status` le despliega al usuario información sobre los archivos que están agregados para registrar los cambios hechos y los que no. Por otro lado, `git log` despliega el historial de cambios que se han realizado, mostrando el `hash` del commit, la persona, la fecha y el comentario hecho.\n",
        "\n",
        "9. Verdadero. Al ser `Git` un sistema de control de versiones, podemos volver a una versión anterior que se haya guardado, deshaciendo así los cambios realizados sobre el código hasta ese instante. Por otro lado, al ejecutar `git pull` lo que se hace es descargar las actualizaciones del repositorio requerido, no la totalidad de los archivos.\n",
        "\n",
        "10. Falso. El comando `git commit`, siendo `commit` la segunda etapa del registro de los cambios, permite al usuario escribir cuáles son los cambios en los que estuvo trabajando sobre el código, siendo este comentario el que se vea reflejado al momento de consultar el historial. El comando que sirve para enviar los cambios al repositorio remoto es `git push`. (Si estuviésemos trabajando únicamente en un entorno local sería suficiente, pero al ser remoto no)."
      ]
    },
    {
      "cell_type": "markdown",
      "metadata": {
        "cell_id": "54317cad024744ebaf4938df55ba3b95",
        "deepnote_cell_type": "markdown",
        "id": "LYq55sI2Rjf0"
      },
      "source": [
        "Por último, investigue y comente con sus palabras para qué sirven los siguientes comandos:\n",
        "\n",
        "11. `git stash` (0.25 puntos)\n",
        "12. `git reset`. ¿Cuál es la diferencia de este comando con `git revert`?. (0.25 puntos)"
      ]
    },
    {
      "cell_type": "markdown",
      "metadata": {},
      "source": [
        "<code>Escriba sus respuestas acá:</code>\n",
        "\n",
        "11. `git stash` es una forma de guardar las modificaciones que se han hecho al código dentro de una rama, pero que se quiere dejar \"en pausa\", es decir, aún no se quiere realizar el `commit` en estos cambios ya sea porque se va a trabajar alguna cosa más o si se necesita cambiar de rama. Se recalca el hecho de que es como una foto que se le toma a los cambios, pero que no se llega a implementar ya que se devuelve la rama a como estaba antes de hacer los cambios. Se usa el comando `git stash save \"mensaje\"` para guardar de esta manera\n",
        "\n",
        "12. Ambos comandos sirven para volver a un estado anterior la rama del repositorio que se está trabajando, pero difieren en lo siguiente:\n",
        "\n",
        "* `git reset` lo que hace es volver a un `commit` de un tiempo anterior (por ejemplo me muevo desde el 3er `commit` al 1er `commit`) haciendo una especie de \"borrón y cuenta nueva\", ya que elimina todos los `commit` realizados en las etapas intermedias entre el tiempo actual y al que se quiere volver (se pierde el 2do `commit`).\n",
        "* `git revert` también vuelve a un `commit` de un estado anterior, pero sin borrar los `commit` de los estados intermedios. Esto lo logra haciendo un \"nuevo\" `commit`, el cual almacena el estado de la rama al que se necesita volver. Tomando el ejemplo anterior, sería como moverme a un 4to `commit`, pero que es un símil al 1er `commit`."
      ]
    },
    {
      "cell_type": "markdown",
      "metadata": {
        "cell_id": "3e4d8b9974e4426ca38fd20f4b835a55",
        "deepnote_cell_type": "markdown",
        "id": "i7Em9JkbbRLo"
      },
      "source": [
        "## Parte 2: Creando una presentación personal (1.5 pts)\n",
        "\n",
        "<p align=\"center\">\n",
        "  <img src=\"https://media.tenor.com/arqlNu8gyJYAAAAC/cat-cat-jumping.gif\" width=\"150\">\n",
        "</p>\n",
        "\n"
      ]
    },
    {
      "cell_type": "markdown",
      "metadata": {
        "cell_id": "988648005dba4b9782c6625dfe6ae4ef",
        "deepnote_cell_type": "markdown",
        "id": "XWIHfyrlbYOJ"
      },
      "source": [
        "Para empezar a \"*soltar las manos*\" con `Git`, se les encomienda crear un repositorio con una presentación personal. El repositorio debe contener un breve resumen de quienes son ustedes, sus gustos, experiencias, y cualquier otro detalle interesante que ustedes consideren relevante.\n",
        "\n",
        "Para realizar esto, deben seguir los siguientes pasos:\n",
        "\n",
        "1. Contar con una cuenta de github (1 por persona)\n",
        "2. Crear un repositorio con su nombre de usuario\n",
        "3. Vincular el repositorio a su ambiente local ¿Qué comando(s) me permiten hacer esto?\n",
        "4. Crear un archivo `readme.md` con la información que ustedes deseen compartir.\n",
        "5. Realizar `push` con los cambios generados\n",
        "\n",
        "A modo de ejemplo, pueden guiarse por esta *suculenta* [presentación](https://github.com/Mezosky)\n",
        "\n",
        "**Nota: Deben trabajar todos estos puntos desde su ambiente local**\n",
        "\n",
        "*Hint: Una buena opción es usar templates de presentación personal que encuentren en Google, como los que ofrece este [sitio](https://durgeshsamariya.github.io/awesome-github-profile-readme-templates/#/)*.\n",
        "\n",
        "**Entregable:**\n",
        "\n",
        "Enlace al repositorio con la presentación personal.\n",
        "\n",
        "IMPORTANTE: DEBEN ADJUNTAR UN ENLACE POR PERSONA"
      ]
    },
    {
      "cell_type": "markdown",
      "metadata": {
        "cell_id": "081b38d55dc54282bc8e3cd300ce9d3e",
        "deepnote_cell_type": "markdown",
        "id": "IIkWyl9tf0Sg"
      },
      "source": [
        "<code>Link Presentacion 1:</code> https://github.com/ElLuquitas/ElLuquitas.git\n",
        "\n",
        "<code>Link Presentacion 2:</code>"
      ]
    },
    {
      "cell_type": "markdown",
      "metadata": {
        "cell_id": "0481a05d2d1a46928f6cfb7762720980",
        "deepnote_cell_type": "markdown",
        "id": "CAzXOwvDY-IG"
      },
      "source": [
        "## Parte 3: Trabajando sobre un repositorio externo (2 pts)\n",
        "\n",
        "<p align=\"center\">\n",
        "  <img src=\"https://media.tenor.com/YXL-0SK15j4AAAAC/dance-animals.gif\" width=\"300\">\n",
        "</p>\n",
        "\n",
        "Tras muchos dolores de cabeza, un grupo de entusiastas académicos decidieron aprender sobre `Git` y así trabajar colaborativamente de forma más ordenada y eficiente. Después de una infinidad de intentos y aprender de sus errores \"*a la mala*\", los académicos lograron levantar un [repositorio](https://github.com/MDS7202/lab1) en `Github`. Usando el repositorio de los académicos, responda las siguientes preguntas (**incluya también los comandos en `Git` ocupados**):\n"
      ]
    },
    {
      "cell_type": "markdown",
      "metadata": {
        "cell_id": "bcef73b2e8604579bde90ed6622abfe9",
        "deepnote_cell_type": "markdown",
        "id": "BFRnAw0rfguR"
      },
      "source": [
        "1. Clone el repositorio a su ambiente local. (0.25 pts)"
      ]
    },
    {
      "cell_type": "markdown",
      "metadata": {
        "cell_id": "5d126ac3819c44479af94d3895bc4c97",
        "deepnote_cell_type": "markdown",
        "id": "KXro32yBeilN"
      },
      "source": [
        "<code>Escriba sus respuestas acá:</code>\n",
        "\n",
        "Comando usado para clonar repositorio: `$ git clone https://github.com/MDS7202/lab1`"
      ]
    },
    {
      "cell_type": "markdown",
      "metadata": {
        "cell_id": "e215e4e25b2440f09ac273ba63603986",
        "deepnote_cell_type": "markdown",
        "id": "8QB-GKmQRjf1"
      },
      "source": [
        "2. Descomprima los archivos subidos con la tarea en U-cursos en la carpeta recién clonada de github. Una vez realizado esto, cree un archivo `.gitignore` con el cual omita la carpeta `videos` y los archivos con la extensión `.txt` exceptuando el archivo `171.txt` de la carpeta `texts`. (0.25 pts)"
      ]
    },
    {
      "cell_type": "markdown",
      "metadata": {
        "cell_id": "186233b44d004e3bbd86262d010188b5",
        "deepnote_cell_type": "markdown",
        "id": "7VJ8IIYpRjf1"
      },
      "source": [
        "<code>Para esta pregunta usted deberá adjuntar el .gitignore creado en su repo.</code>"
      ]
    },
    {
      "cell_type": "markdown",
      "metadata": {
        "cell_id": "1de150590a41484a988b8e46616a2324",
        "deepnote_cell_type": "markdown",
        "id": "q2qmiDyjt2M_"
      },
      "source": [
        "3. Inspeccione brevemente el repositorio: ¿Cual es el objetivo del proyecto? Explique brevemente la estructura del proyecto, asi como también cada elemento que lo conforma. (0.25 pts)"
      ]
    },
    {
      "cell_type": "markdown",
      "metadata": {
        "cell_id": "082ca01c865e48e28352b280400c47b6",
        "deepnote_cell_type": "markdown",
        "id": "aBHpR8VTftkT"
      },
      "source": [
        "<code>Escriba sus respuestas acá:</code>\n",
        "\n",
        "La finalidad de este proyecto es ejecutar un programa que, en base al animal que le indique un usuario, el sistema le muestre en pantalla el sonido que hace, teniendo 3 animales reconocibles. El archivo `animales.py` tiene la función principal que se encarga de recibir el animal y devolver el sonido, mientras que `main.py` inicia esta función. El archivo `readme.md` señala muy brevemente de qué se trata el proyecto. Además este proyecto posee 3 ramas:\n",
        "\n",
        "* main: trabajo principal\n",
        "* fix-ifs: trabajo con un único script `main.py`\n",
        "* new_features: trabajo con los arreglos hechos a la rama fix-ifs\n",
        "\n",
        "Comandos usados:\n",
        "* Para ver los archivos dentro del repositorio: `ls`\n",
        "* Para leer los archivos: `cat readme.md`, `cat animales.py`, `cat main.py`\n",
        "* Para ver las ramas: `git branch -r`"
      ]
    },
    {
      "cell_type": "markdown",
      "metadata": {
        "cell_id": "3aab4a3ee0c246e1be955680ad653fb8",
        "deepnote_cell_type": "markdown",
        "id": "XFwqcpLZfylf"
      },
      "source": [
        "4. Identifique los últimos cambios al repositorio, reconociendo las principales ramas de trabajo. ¿Son informativos los `commit` realizados? (0.25 pts)\n",
        "*Hint: Se recomienda usar los argumentos `all`, `graph` y `decorate`*"
      ]
    },
    {
      "attachments": {
        "image.png": {
          "image/png": "[encoded data removed]"
        }
      },
      "cell_type": "markdown",
      "metadata": {
        "cell_id": "0fab79a360ac4c6a9ca0ab884f85c7e1",
        "deepnote_cell_type": "markdown",
        "id": "cmWfXBkOhog0"
      },
      "source": [
        "<code>Escriba sus respuestas acá:</code>\n",
        "\n",
        "Se tienen 4 `commit` en total, estando 3 de ellos en las ramas `main` y `new_features` y uno en la rama `fix-ifs`:\n",
        "\n",
        "![image.png](attachment:image.png)\n",
        "\n",
        "No son muy informativos, ya que hablan muy en general de lo que se hizo. Por ejemplo, al agregar la función pudo haber sido mejor señalar algo del estilo \"Se agrega función animales()\" para saber qué tipo de trabajo se hizo.\n",
        "\n",
        "Comando usado: `git log --all`"
      ]
    },
    {
      "cell_type": "markdown",
      "metadata": {
        "cell_id": "d07b24d21f2343fb9a7e6a5db74e98c3",
        "deepnote_cell_type": "markdown",
        "id": "Vqbj9HdXrUnN"
      },
      "source": [
        "5. Uno de los académicos se da cuenta que la rama principal de trabajo no se ejecuta correctamente para todos los argumentos. Señale y explique el error en el código e identifique a la persona que lo cometió usando `git blame` (0.25 pts)\n",
        "\n",
        "*Hint: Le puede ser útil esta [documentación](https://www.atlassian.com/es/git/tutorials/inspecting-a-repository/git-blame).*"
      ]
    },
    {
      "cell_type": "markdown",
      "metadata": {
        "cell_id": "bc5b0f9c639643108f8e66687b721732",
        "deepnote_cell_type": "markdown",
        "id": "5ajhV2Iar3tV"
      },
      "source": [
        "<code>Escriba sus respuestas acá:</code>\n",
        "\n",
        "Al realizar `git blame` sobre el archivo `animales.py`, nos damos cuenta de que el funcionamiento es bastante sencillo, señalando a través del mecanismo `if-else` si el animal ingresado por el usuario coincide con lo que se tiene para desplegar un resultado o no. El error está contenido en las líneas $9$ y $11$, usando `if` en vez de `elif`, el cual sirve para iterar sobre diferentes opciones sin salir del loop. Estas líneas y toda la función fue escrita por `mezosky`.\n",
        "\n",
        "Comando utilizado: `git blame animales.py`"
      ]
    },
    {
      "cell_type": "markdown",
      "metadata": {
        "cell_id": "f3f4e78e6d9145ebbb120c0a2e4aade6",
        "deepnote_cell_type": "markdown",
        "id": "m8J3uE7MhqTA"
      },
      "source": [
        "6. Busque los siguientes `commit`:\n",
        "\n",
        "- `c8b1a62d7299552b0654f930d695b33109214111`\n",
        "- `362fe21ee44f53ee944cee4ba484600308f83d78`\n",
        "- `25543a3baf77292baf849726784ca005473acab1`\n",
        "\n",
        "¿Qué diferencias existen entre cada uno? (0.25 pts)"
      ]
    },
    {
      "cell_type": "markdown",
      "metadata": {
        "cell_id": "696ed361ac0c41c8a214cfad9dcb39e6",
        "deepnote_cell_type": "markdown",
        "id": "sNHnZsgIitGh"
      },
      "source": [
        "<code>Escriba sus respuestas acá:</code>\n",
        "\n",
        "- `c8b1a62d7299552b0654f930d695b33109214111`: `commit` realizado por `seba` en las ramas `new_features` y `main` referido a la agregación de una nueva función.\n",
        "- `362fe21ee44f53ee944cee4ba484600308f83d78`: `commit` realizado por `mezosky` en las ramas `new_features` y `main` referido a la modularización del proyecto.\n",
        "- `25543a3baf77292baf849726784ca005473acab1`: `commit` realizado por `Pablo badilla` en la rama `fix-ifs` sin tener una referencia clara de trabajo."
      ]
    },
    {
      "cell_type": "markdown",
      "metadata": {
        "cell_id": "b4e18f8ce94c430f85915c4e2732d05b",
        "deepnote_cell_type": "markdown",
        "id": "WQIPbfNCgpxC"
      },
      "source": [
        "7. Realice una `merge` de la rama `fix-ifs` con la rama `main` y describa lo que ocurre. ¿Qué parte del código podría estar ocasionando esto? (0.25 pts)"
      ]
    },
    {
      "cell_type": "markdown",
      "metadata": {
        "cell_id": "36da6a0d4f4a427bbccac09e2ae965fd",
        "deepnote_cell_type": "markdown",
        "id": "ypH_6lL5ioZz"
      },
      "source": [
        "<code>Escriba sus respuestas acá:</code>\n",
        "\n",
        "Al hacer el `merge` entre ambas ramas, resulta en un conflicto debido al contenido en los archivos `main.py`, haciendo que el merge automático falle y se le pide al usuario que aregle este conflicto y hacerle `commit` al resultado. Lo que está ocasionando el conflicto es que el archivo `main.py` de la rama `main` contiene únicamente la importación de la función `animales` y el `main` que inicializa, mientras que el `main.py` de la rama `fix-ifs` contiene tanto la función `animales` como el `main` que inicia.\n",
        "\n",
        "Comando usado para comparar los scripts: `cat main.py`\n"
      ]
    },
    {
      "cell_type": "markdown",
      "metadata": {
        "cell_id": "09787ab449c543479e5cc54c2a3b6c19",
        "deepnote_cell_type": "markdown",
        "id": "GYfODCjeivkU"
      },
      "source": [
        "8. Cree una rama nueva y proponga una solución al problema anterior, adjuntando el código corregido y señalando las líneas modificadas. (0.25 pts)"
      ]
    },
    {
      "cell_type": "markdown",
      "metadata": {
        "cell_id": "6d963fba3f2d4c17a4b281c7d3f4fb8b",
        "deepnote_cell_type": "markdown",
        "id": "8heBxDU9iziT"
      },
      "source": [
        "<code>Escriba sus respuestas acá:</code>\n",
        "\n",
        "Para comenzar a ver una solución, se crea una nueva rama llamada `fix-main` y en ella el archivo `main.py` se cambia al mismo que está en la rama `fix-ifs` para empezar desde el punto de problema. Simplemente se elimina la función `animales.py` para realizar el `merge`, ya que así no se le agregan cosas nuevas al archivo ya existente en la rama `main`. El código modificao es el siguiente:\n",
        "\n",
        "```py\n",
        "# Toda la función animales() se elimina\n",
        "# def animales(input):\n",
        "    \n",
        "#     '''\n",
        "#     Como hace el animalito?\n",
        "#     '''\n",
        "    \n",
        "#     if input.lower() == 'gato':\n",
        "#         print('miau')\n",
        "#     elif input.lower() == 'perro':\n",
        "#         print('guau')\n",
        "#     elif input.lower() == 'fox':\n",
        "#         print('https://www.youtube.com/watch?v=jofNR_WkoCE')\n",
        "#     else:\n",
        "#         raise ValueError('animal no reconocido :(')\n",
        "\n",
        "if __name__ == '__main__':\n",
        "    print(\"Ingrese el animalito para saber que dice:\")\n",
        "    animal = input()\n",
        "    animales(animal)\n",
        "```\n",
        "\n",
        "Comandos usados:\n",
        "* Para abortar el `merge` temporalmente: `git merge --abort`\n",
        "* Para crear la nueva rama: `git branch fix-main`\n",
        "* Para cambiar de rama: `git checkout rama`\n",
        "* Para hacer el nuevo merge (dentro de la rama `main`): `git merge fix-main`"
      ]
    },
    {
      "cell_type": "markdown",
      "metadata": {
        "cell_id": "8a47d4bf8b3045d68e4f29bb449c87f1",
        "deepnote_cell_type": "markdown",
        "id": "Av8ebB9jkALO"
      },
      "source": [
        "## Fin"
      ]
    },
    {
      "cell_type": "markdown",
      "metadata": {
        "cell_id": "cec4b53942ed489f8f8b63d0e9d4f3e5",
        "deepnote_cell_type": "markdown",
        "id": "aQqZT9fSkBK8"
      },
      "source": [
        "Eso ha sido todo por ahora!! Esperamos que este laboratorio les haya gustado y servido para trabajar con `Git`. Recuerden los dias de plazo que tienen disponibles y que ante cualquier duda no duden en contactar al equipo docente.\n",
        "\n",
        "Nos vemos!!\n",
        "\n",
        "<p align=\"center\">\n",
        "  <img src=\"https://media.tenor.com/OYLdav9k9LkAAAAd/kitty-cat.gif\" width=\"350\">\n",
        "</p>\n"
      ]
    }
  ],
  "metadata": {
    "colab": {
      "provenance": []
    },
    "deepnote_execution_queue": [],
    "deepnote_notebook_id": "62cd20d52b9a4810ada15644630456dc",
    "language_info": {
      "name": "python"
    }
  },
  "nbformat": 4,
  "nbformat_minor": 0
}
